{
 "cells": [
  {
   "cell_type": "markdown",
   "metadata": {
    "id": "juOAZm6LNsrW"
   },
   "source": [
    "# Covid-19 India (till 22nd November) - EDA and Time Series Forecasting"
   ]
  },
  {
   "cell_type": "markdown",
   "metadata": {},
   "source": [
    "Data and Source -\n",
    "The data of Covid-19 cases for country India has been scrapped from the website - 'https://ourworldindata.org/coronavirus' till date 21st November 2020. The data contains various files listed below:\n",
    "1. Covid_India.csv - This file contains 'Confirmed','Deaths','Recovered','Active' cases for India states respectively.\n",
    "2. Case_perday,csv - This file consist of total cases (last day cases+new case) for 4 countries - India, US, Italy, China\n",
    "3. Death_perday.csv = This file consist of new deaths per day for 4 countries - India, US, Italy, China\n",
    "\n",
    "Objective-\n",
    "1. To perform Exploratory Data Visualization of India cases for different States in terms of Recovery, Deaths and Active cases\n",
    "2. To compare total cases and death of India with 3 other countries - US, Italy and China\n",
    "3. To forecast the total cases in India for next 100 days\n",
    "4. To forecast the new death cases in India for next 100 days\n"
   ]
  },
  {
   "cell_type": "markdown",
   "metadata": {},
   "source": [
    "# Import libraries"
   ]
  },
  {
   "cell_type": "code",
   "execution_count": 2,
   "metadata": {
    "executionInfo": {
     "elapsed": 3025,
     "status": "ok",
     "timestamp": 1606069784879,
     "user": {
      "displayName": "Saloni Bansal",
      "photoUrl": "",
      "userId": "02261793113701121216"
     },
     "user_tz": -330
    },
    "id": "jo7YB0WXNxvd"
   },
   "outputs": [],
   "source": [
    "import pandas as pd\n",
    "import matplotlib.pyplot as plt\n",
    "%matplotlib inline\n",
    "import seaborn as sns\n",
    "import plotly.express as px\n",
    "import plotly.graph_objects as go\n",
    "import warnings\n",
    "warnings.filterwarnings('ignore')\n",
    "plt.rcParams['figure.figsize']=10,12"
   ]
  },
  {
   "cell_type": "markdown",
   "metadata": {},
   "source": [
    "# Import required dataset"
   ]
  },
  {
   "cell_type": "code",
   "execution_count": 3,
   "metadata": {
    "colab": {
     "base_uri": "https://localhost:8080/",
     "height": 204
    },
    "executionInfo": {
     "elapsed": 1123,
     "status": "ok",
     "timestamp": 1606069790953,
     "user": {
      "displayName": "Saloni Bansal",
      "photoUrl": "",
      "userId": "02261793113701121216"
     },
     "user_tz": -330
    },
    "id": "_K0Ig4tHN0mk",
    "outputId": "d8dd2ba6-4867-4aa8-b290-28f85103d466"
   },
   "outputs": [
    {
     "data": {
      "text/html": [
       "<div>\n",
       "<style scoped>\n",
       "    .dataframe tbody tr th:only-of-type {\n",
       "        vertical-align: middle;\n",
       "    }\n",
       "\n",
       "    .dataframe tbody tr th {\n",
       "        vertical-align: top;\n",
       "    }\n",
       "\n",
       "    .dataframe thead th {\n",
       "        text-align: right;\n",
       "    }\n",
       "</style>\n",
       "<table border=\"1\" class=\"dataframe\">\n",
       "  <thead>\n",
       "    <tr style=\"text-align: right;\">\n",
       "      <th></th>\n",
       "      <th>Province_State</th>\n",
       "      <th>Confirmed</th>\n",
       "      <th>Deaths</th>\n",
       "      <th>Recovered</th>\n",
       "      <th>Active</th>\n",
       "    </tr>\n",
       "  </thead>\n",
       "  <tbody>\n",
       "    <tr>\n",
       "      <th>0</th>\n",
       "      <td>Andaman and Nicobar Islands</td>\n",
       "      <td>4617</td>\n",
       "      <td>61</td>\n",
       "      <td>4408</td>\n",
       "      <td>148</td>\n",
       "    </tr>\n",
       "    <tr>\n",
       "      <th>1</th>\n",
       "      <td>Andhra Pradesh</td>\n",
       "      <td>859932</td>\n",
       "      <td>6920</td>\n",
       "      <td>837630</td>\n",
       "      <td>15382</td>\n",
       "    </tr>\n",
       "    <tr>\n",
       "      <th>2</th>\n",
       "      <td>Arunachal Pradesh</td>\n",
       "      <td>16001</td>\n",
       "      <td>49</td>\n",
       "      <td>14870</td>\n",
       "      <td>1082</td>\n",
       "    </tr>\n",
       "    <tr>\n",
       "      <th>3</th>\n",
       "      <td>Assam</td>\n",
       "      <td>211204</td>\n",
       "      <td>971</td>\n",
       "      <td>207029</td>\n",
       "      <td>3204</td>\n",
       "    </tr>\n",
       "    <tr>\n",
       "      <th>4</th>\n",
       "      <td>Bihar</td>\n",
       "      <td>228886</td>\n",
       "      <td>1212</td>\n",
       "      <td>222420</td>\n",
       "      <td>5254</td>\n",
       "    </tr>\n",
       "  </tbody>\n",
       "</table>\n",
       "</div>"
      ],
      "text/plain": [
       "                Province_State  Confirmed  Deaths  Recovered  Active\n",
       "0  Andaman and Nicobar Islands       4617      61       4408     148\n",
       "1               Andhra Pradesh     859932    6920     837630   15382\n",
       "2            Arunachal Pradesh      16001      49      14870    1082\n",
       "3                        Assam     211204     971     207029    3204\n",
       "4                        Bihar     228886    1212     222420    5254"
      ]
     },
     "execution_count": 3,
     "metadata": {
      "tags": []
     },
     "output_type": "execute_result"
    }
   ],
   "source": [
    "df = pd.read_csv('Covid_India.csv')\n",
    "df.drop(['Country_Region'], axis=1, inplace=True)\n",
    "df.head()"
   ]
  },
  {
   "cell_type": "code",
   "execution_count": 4,
   "metadata": {
    "colab": {
     "base_uri": "https://localhost:8080/",
     "height": 204
    },
    "executionInfo": {
     "elapsed": 1262,
     "status": "ok",
     "timestamp": 1606069802554,
     "user": {
      "displayName": "Saloni Bansal",
      "photoUrl": "",
      "userId": "02261793113701121216"
     },
     "user_tz": -330
    },
    "id": "DcoZIhCBOCPs",
    "outputId": "70147d55-f5f4-4fea-b80b-24aad797abe3"
   },
   "outputs": [
    {
     "data": {
      "text/html": [
       "<div>\n",
       "<style scoped>\n",
       "    .dataframe tbody tr th:only-of-type {\n",
       "        vertical-align: middle;\n",
       "    }\n",
       "\n",
       "    .dataframe tbody tr th {\n",
       "        vertical-align: top;\n",
       "    }\n",
       "\n",
       "    .dataframe thead th {\n",
       "        text-align: right;\n",
       "    }\n",
       "</style>\n",
       "<table border=\"1\" class=\"dataframe\">\n",
       "  <thead>\n",
       "    <tr style=\"text-align: right;\">\n",
       "      <th></th>\n",
       "      <th>Province_State</th>\n",
       "      <th>Lat</th>\n",
       "      <th>Long_</th>\n",
       "    </tr>\n",
       "  </thead>\n",
       "  <tbody>\n",
       "    <tr>\n",
       "      <th>0</th>\n",
       "      <td>Andaman and Nicobar Islands</td>\n",
       "      <td>11.225999</td>\n",
       "      <td>92.968178</td>\n",
       "    </tr>\n",
       "    <tr>\n",
       "      <th>1</th>\n",
       "      <td>Andhra Pradesh</td>\n",
       "      <td>15.912900</td>\n",
       "      <td>79.740000</td>\n",
       "    </tr>\n",
       "    <tr>\n",
       "      <th>2</th>\n",
       "      <td>Arunachal Pradesh</td>\n",
       "      <td>27.768456</td>\n",
       "      <td>96.384277</td>\n",
       "    </tr>\n",
       "    <tr>\n",
       "      <th>3</th>\n",
       "      <td>Assam</td>\n",
       "      <td>26.357149</td>\n",
       "      <td>92.830441</td>\n",
       "    </tr>\n",
       "    <tr>\n",
       "      <th>4</th>\n",
       "      <td>Bihar</td>\n",
       "      <td>25.679658</td>\n",
       "      <td>85.604840</td>\n",
       "    </tr>\n",
       "  </tbody>\n",
       "</table>\n",
       "</div>"
      ],
      "text/plain": [
       "                Province_State        Lat      Long_\n",
       "0  Andaman and Nicobar Islands  11.225999  92.968178\n",
       "1               Andhra Pradesh  15.912900  79.740000\n",
       "2            Arunachal Pradesh  27.768456  96.384277\n",
       "3                        Assam  26.357149  92.830441\n",
       "4                        Bihar  25.679658  85.604840"
      ]
     },
     "execution_count": 4,
     "metadata": {
      "tags": []
     },
     "output_type": "execute_result"
    }
   ],
   "source": [
    "India_cord = pd.read_csv('India_Cordinates.csv')\n",
    "India_cord.drop(['Country_Region'], axis=1, inplace=True)\n",
    "India_cord.head()"
   ]
  },
  {
   "cell_type": "markdown",
   "metadata": {},
   "source": [
    "# Total Confirmed cases till date"
   ]
  },
  {
   "cell_type": "code",
   "execution_count": 5,
   "metadata": {
    "colab": {
     "base_uri": "https://localhost:8080/"
    },
    "executionInfo": {
     "elapsed": 2403,
     "status": "ok",
     "timestamp": 1606069815421,
     "user": {
      "displayName": "Saloni Bansal",
      "photoUrl": "",
      "userId": "02261793113701121216"
     },
     "user_tz": -330
    },
    "id": "uAISW7p9OFBE",
    "outputId": "2128e4e3-7359-4c8b-a15c-7af1f6f5fe66"
   },
   "outputs": [
    {
     "name": "stdout",
     "output_type": "stream",
     "text": [
      "Total cases of confirmed COVID 2019 acorss India till date (11/21/2020 , 5:25:51 AM) : 9050597\n"
     ]
    }
   ],
   "source": [
    "total_confirmed_cases=df['Confirmed'].sum()\n",
    "print('Total cases of confirmed COVID 2019 acorss India till date (11/21/2020 , 5:25:51 AM) :',total_confirmed_cases)"
   ]
  },
  {
   "cell_type": "code",
   "execution_count": 6,
   "metadata": {
    "colab": {
     "base_uri": "https://localhost:8080/",
     "height": 796
    },
    "executionInfo": {
     "elapsed": 1513,
     "status": "ok",
     "timestamp": 1606069822884,
     "user": {
      "displayName": "Saloni Bansal",
      "photoUrl": "",
      "userId": "02261793113701121216"
     },
     "user_tz": -330
    },
    "id": "ejZtqV_lOH4f",
    "outputId": "6904ffc5-cd12-4bdb-d6c5-640cafcfaceb"
   },
   "outputs": [
    {
     "data": {
      "text/html": [
       "<style  type=\"text/css\" >\n",
       "#T_c7ae7a6e_2cf0_11eb_a24e_0242ac1c0002row0_col1,#T_c7ae7a6e_2cf0_11eb_a24e_0242ac1c0002row0_col2,#T_c7ae7a6e_2cf0_11eb_a24e_0242ac1c0002row0_col3,#T_c7ae7a6e_2cf0_11eb_a24e_0242ac1c0002row2_col2,#T_c7ae7a6e_2cf0_11eb_a24e_0242ac1c0002row7_col1,#T_c7ae7a6e_2cf0_11eb_a24e_0242ac1c0002row7_col2,#T_c7ae7a6e_2cf0_11eb_a24e_0242ac1c0002row7_col3,#T_c7ae7a6e_2cf0_11eb_a24e_0242ac1c0002row17_col2,#T_c7ae7a6e_2cf0_11eb_a24e_0242ac1c0002row18_col1,#T_c7ae7a6e_2cf0_11eb_a24e_0242ac1c0002row18_col2,#T_c7ae7a6e_2cf0_11eb_a24e_0242ac1c0002row18_col3,#T_c7ae7a6e_2cf0_11eb_a24e_0242ac1c0002row22_col2,#T_c7ae7a6e_2cf0_11eb_a24e_0242ac1c0002row23_col1,#T_c7ae7a6e_2cf0_11eb_a24e_0242ac1c0002row23_col2,#T_c7ae7a6e_2cf0_11eb_a24e_0242ac1c0002row23_col3,#T_c7ae7a6e_2cf0_11eb_a24e_0242ac1c0002row24_col2,#T_c7ae7a6e_2cf0_11eb_a24e_0242ac1c0002row29_col1,#T_c7ae7a6e_2cf0_11eb_a24e_0242ac1c0002row29_col2,#T_c7ae7a6e_2cf0_11eb_a24e_0242ac1c0002row29_col3{\n",
       "            background-color:  #fff5f0;\n",
       "            color:  #000000;\n",
       "        }#T_c7ae7a6e_2cf0_11eb_a24e_0242ac1c0002row1_col1{\n",
       "            background-color:  #fb6e4e;\n",
       "            color:  #000000;\n",
       "        }#T_c7ae7a6e_2cf0_11eb_a24e_0242ac1c0002row1_col2,#T_c7ae7a6e_2cf0_11eb_a24e_0242ac1c0002row31_col1,#T_c7ae7a6e_2cf0_11eb_a24e_0242ac1c0002row31_col3{\n",
       "            background-color:  #fed9c9;\n",
       "            color:  #000000;\n",
       "        }#T_c7ae7a6e_2cf0_11eb_a24e_0242ac1c0002row1_col3{\n",
       "            background-color:  #fa6648;\n",
       "            color:  #000000;\n",
       "        }#T_c7ae7a6e_2cf0_11eb_a24e_0242ac1c0002row2_col1,#T_c7ae7a6e_2cf0_11eb_a24e_0242ac1c0002row2_col3,#T_c7ae7a6e_2cf0_11eb_a24e_0242ac1c0002row5_col1,#T_c7ae7a6e_2cf0_11eb_a24e_0242ac1c0002row5_col3,#T_c7ae7a6e_2cf0_11eb_a24e_0242ac1c0002row12_col2,#T_c7ae7a6e_2cf0_11eb_a24e_0242ac1c0002row32_col2{\n",
       "            background-color:  #fff4ee;\n",
       "            color:  #000000;\n",
       "        }#T_c7ae7a6e_2cf0_11eb_a24e_0242ac1c0002row3_col1,#T_c7ae7a6e_2cf0_11eb_a24e_0242ac1c0002row6_col3,#T_c7ae7a6e_2cf0_11eb_a24e_0242ac1c0002row11_col1{\n",
       "            background-color:  #fee1d4;\n",
       "            color:  #000000;\n",
       "        }#T_c7ae7a6e_2cf0_11eb_a24e_0242ac1c0002row3_col2,#T_c7ae7a6e_2cf0_11eb_a24e_0242ac1c0002row14_col2,#T_c7ae7a6e_2cf0_11eb_a24e_0242ac1c0002row26_col1,#T_c7ae7a6e_2cf0_11eb_a24e_0242ac1c0002row26_col3{\n",
       "            background-color:  #fff2eb;\n",
       "            color:  #000000;\n",
       "        }#T_c7ae7a6e_2cf0_11eb_a24e_0242ac1c0002row3_col3{\n",
       "            background-color:  #fee0d2;\n",
       "            color:  #000000;\n",
       "        }#T_c7ae7a6e_2cf0_11eb_a24e_0242ac1c0002row4_col1,#T_c7ae7a6e_2cf0_11eb_a24e_0242ac1c0002row28_col3{\n",
       "            background-color:  #fedfd0;\n",
       "            color:  #000000;\n",
       "        }#T_c7ae7a6e_2cf0_11eb_a24e_0242ac1c0002row4_col2,#T_c7ae7a6e_2cf0_11eb_a24e_0242ac1c0002row9_col1,#T_c7ae7a6e_2cf0_11eb_a24e_0242ac1c0002row9_col3,#T_c7ae7a6e_2cf0_11eb_a24e_0242ac1c0002row34_col2{\n",
       "            background-color:  #fff1ea;\n",
       "            color:  #000000;\n",
       "        }#T_c7ae7a6e_2cf0_11eb_a24e_0242ac1c0002row4_col3,#T_c7ae7a6e_2cf0_11eb_a24e_0242ac1c0002row28_col1{\n",
       "            background-color:  #fedecf;\n",
       "            color:  #000000;\n",
       "        }#T_c7ae7a6e_2cf0_11eb_a24e_0242ac1c0002row5_col2,#T_c7ae7a6e_2cf0_11eb_a24e_0242ac1c0002row17_col1,#T_c7ae7a6e_2cf0_11eb_a24e_0242ac1c0002row17_col3,#T_c7ae7a6e_2cf0_11eb_a24e_0242ac1c0002row21_col2,#T_c7ae7a6e_2cf0_11eb_a24e_0242ac1c0002row22_col1,#T_c7ae7a6e_2cf0_11eb_a24e_0242ac1c0002row22_col3,#T_c7ae7a6e_2cf0_11eb_a24e_0242ac1c0002row24_col1,#T_c7ae7a6e_2cf0_11eb_a24e_0242ac1c0002row24_col3{\n",
       "            background-color:  #fff4ef;\n",
       "            color:  #000000;\n",
       "        }#T_c7ae7a6e_2cf0_11eb_a24e_0242ac1c0002row6_col1{\n",
       "            background-color:  #fee1d3;\n",
       "            color:  #000000;\n",
       "        }#T_c7ae7a6e_2cf0_11eb_a24e_0242ac1c0002row6_col2{\n",
       "            background-color:  #ffece3;\n",
       "            color:  #000000;\n",
       "        }#T_c7ae7a6e_2cf0_11eb_a24e_0242ac1c0002row8_col1{\n",
       "            background-color:  #fcae92;\n",
       "            color:  #000000;\n",
       "        }#T_c7ae7a6e_2cf0_11eb_a24e_0242ac1c0002row8_col2{\n",
       "            background-color:  #fdd2bf;\n",
       "            color:  #000000;\n",
       "        }#T_c7ae7a6e_2cf0_11eb_a24e_0242ac1c0002row8_col3{\n",
       "            background-color:  #fcb095;\n",
       "            color:  #000000;\n",
       "        }#T_c7ae7a6e_2cf0_11eb_a24e_0242ac1c0002row9_col2,#T_c7ae7a6e_2cf0_11eb_a24e_0242ac1c0002row12_col3,#T_c7ae7a6e_2cf0_11eb_a24e_0242ac1c0002row21_col1,#T_c7ae7a6e_2cf0_11eb_a24e_0242ac1c0002row21_col3,#T_c7ae7a6e_2cf0_11eb_a24e_0242ac1c0002row26_col2{\n",
       "            background-color:  #fff3ed;\n",
       "            color:  #000000;\n",
       "        }#T_c7ae7a6e_2cf0_11eb_a24e_0242ac1c0002row10_col1{\n",
       "            background-color:  #fee3d6;\n",
       "            color:  #000000;\n",
       "        }#T_c7ae7a6e_2cf0_11eb_a24e_0242ac1c0002row10_col2{\n",
       "            background-color:  #fee7dc;\n",
       "            color:  #000000;\n",
       "        }#T_c7ae7a6e_2cf0_11eb_a24e_0242ac1c0002row10_col3,#T_c7ae7a6e_2cf0_11eb_a24e_0242ac1c0002row19_col1,#T_c7ae7a6e_2cf0_11eb_a24e_0242ac1c0002row19_col3{\n",
       "            background-color:  #fee3d7;\n",
       "            color:  #000000;\n",
       "        }#T_c7ae7a6e_2cf0_11eb_a24e_0242ac1c0002row11_col2,#T_c7ae7a6e_2cf0_11eb_a24e_0242ac1c0002row28_col2{\n",
       "            background-color:  #ffeee6;\n",
       "            color:  #000000;\n",
       "        }#T_c7ae7a6e_2cf0_11eb_a24e_0242ac1c0002row11_col3{\n",
       "            background-color:  #fee2d5;\n",
       "            color:  #000000;\n",
       "        }#T_c7ae7a6e_2cf0_11eb_a24e_0242ac1c0002row12_col1,#T_c7ae7a6e_2cf0_11eb_a24e_0242ac1c0002row32_col1,#T_c7ae7a6e_2cf0_11eb_a24e_0242ac1c0002row32_col3{\n",
       "            background-color:  #fff2ec;\n",
       "            color:  #000000;\n",
       "        }#T_c7ae7a6e_2cf0_11eb_a24e_0242ac1c0002row13_col1,#T_c7ae7a6e_2cf0_11eb_a24e_0242ac1c0002row13_col3,#T_c7ae7a6e_2cf0_11eb_a24e_0242ac1c0002row14_col1{\n",
       "            background-color:  #ffebe2;\n",
       "            color:  #000000;\n",
       "        }#T_c7ae7a6e_2cf0_11eb_a24e_0242ac1c0002row13_col2,#T_c7ae7a6e_2cf0_11eb_a24e_0242ac1c0002row25_col2{\n",
       "            background-color:  #fff0e8;\n",
       "            color:  #000000;\n",
       "        }#T_c7ae7a6e_2cf0_11eb_a24e_0242ac1c0002row14_col3{\n",
       "            background-color:  #feeae1;\n",
       "            color:  #000000;\n",
       "        }#T_c7ae7a6e_2cf0_11eb_a24e_0242ac1c0002row15_col1{\n",
       "            background-color:  #fb6d4d;\n",
       "            color:  #000000;\n",
       "        }#T_c7ae7a6e_2cf0_11eb_a24e_0242ac1c0002row15_col2,#T_c7ae7a6e_2cf0_11eb_a24e_0242ac1c0002row30_col2{\n",
       "            background-color:  #fcbca2;\n",
       "            color:  #000000;\n",
       "        }#T_c7ae7a6e_2cf0_11eb_a24e_0242ac1c0002row15_col3{\n",
       "            background-color:  #fa6849;\n",
       "            color:  #000000;\n",
       "        }#T_c7ae7a6e_2cf0_11eb_a24e_0242ac1c0002row16_col1{\n",
       "            background-color:  #fca78b;\n",
       "            color:  #000000;\n",
       "        }#T_c7ae7a6e_2cf0_11eb_a24e_0242ac1c0002row16_col2,#T_c7ae7a6e_2cf0_11eb_a24e_0242ac1c0002row34_col1,#T_c7ae7a6e_2cf0_11eb_a24e_0242ac1c0002row34_col3{\n",
       "            background-color:  #ffeee7;\n",
       "            color:  #000000;\n",
       "        }#T_c7ae7a6e_2cf0_11eb_a24e_0242ac1c0002row16_col3,#T_c7ae7a6e_2cf0_11eb_a24e_0242ac1c0002row33_col1{\n",
       "            background-color:  #fcad90;\n",
       "            color:  #000000;\n",
       "        }#T_c7ae7a6e_2cf0_11eb_a24e_0242ac1c0002row19_col2{\n",
       "            background-color:  #feeae0;\n",
       "            color:  #000000;\n",
       "        }#T_c7ae7a6e_2cf0_11eb_a24e_0242ac1c0002row20_col1,#T_c7ae7a6e_2cf0_11eb_a24e_0242ac1c0002row20_col2,#T_c7ae7a6e_2cf0_11eb_a24e_0242ac1c0002row20_col3{\n",
       "            background-color:  #67000d;\n",
       "            color:  #f1f1f1;\n",
       "        }#T_c7ae7a6e_2cf0_11eb_a24e_0242ac1c0002row25_col1{\n",
       "            background-color:  #fdd1be;\n",
       "            color:  #000000;\n",
       "        }#T_c7ae7a6e_2cf0_11eb_a24e_0242ac1c0002row25_col3{\n",
       "            background-color:  #fdcebb;\n",
       "            color:  #000000;\n",
       "        }#T_c7ae7a6e_2cf0_11eb_a24e_0242ac1c0002row27_col1,#T_c7ae7a6e_2cf0_11eb_a24e_0242ac1c0002row27_col3{\n",
       "            background-color:  #fee8dd;\n",
       "            color:  #000000;\n",
       "        }#T_c7ae7a6e_2cf0_11eb_a24e_0242ac1c0002row27_col2{\n",
       "            background-color:  #fee5d8;\n",
       "            color:  #000000;\n",
       "        }#T_c7ae7a6e_2cf0_11eb_a24e_0242ac1c0002row30_col1{\n",
       "            background-color:  #fc8060;\n",
       "            color:  #000000;\n",
       "        }#T_c7ae7a6e_2cf0_11eb_a24e_0242ac1c0002row30_col3{\n",
       "            background-color:  #fb7a5a;\n",
       "            color:  #000000;\n",
       "        }#T_c7ae7a6e_2cf0_11eb_a24e_0242ac1c0002row31_col2{\n",
       "            background-color:  #fff0e9;\n",
       "            color:  #000000;\n",
       "        }#T_c7ae7a6e_2cf0_11eb_a24e_0242ac1c0002row33_col2{\n",
       "            background-color:  #fdd5c4;\n",
       "            color:  #000000;\n",
       "        }#T_c7ae7a6e_2cf0_11eb_a24e_0242ac1c0002row33_col3{\n",
       "            background-color:  #fcab8f;\n",
       "            color:  #000000;\n",
       "        }#T_c7ae7a6e_2cf0_11eb_a24e_0242ac1c0002row35_col1{\n",
       "            background-color:  #fcb99f;\n",
       "            color:  #000000;\n",
       "        }#T_c7ae7a6e_2cf0_11eb_a24e_0242ac1c0002row35_col2{\n",
       "            background-color:  #fdd3c1;\n",
       "            color:  #000000;\n",
       "        }#T_c7ae7a6e_2cf0_11eb_a24e_0242ac1c0002row35_col3{\n",
       "            background-color:  #fcbba1;\n",
       "            color:  #000000;\n",
       "        }</style><table id=\"T_c7ae7a6e_2cf0_11eb_a24e_0242ac1c0002\" ><thead>    <tr>        <th class=\"blank level0\" ></th>        <th class=\"col_heading level0 col0\" >Province_State</th>        <th class=\"col_heading level0 col1\" >Confirmed</th>        <th class=\"col_heading level0 col2\" >Deaths</th>        <th class=\"col_heading level0 col3\" >Recovered</th>    </tr></thead><tbody>\n",
       "                <tr>\n",
       "                        <th id=\"T_c7ae7a6e_2cf0_11eb_a24e_0242ac1c0002level0_row0\" class=\"row_heading level0 row0\" >0</th>\n",
       "                        <td id=\"T_c7ae7a6e_2cf0_11eb_a24e_0242ac1c0002row0_col0\" class=\"data row0 col0\" >Andaman and Nicobar Islands</td>\n",
       "                        <td id=\"T_c7ae7a6e_2cf0_11eb_a24e_0242ac1c0002row0_col1\" class=\"data row0 col1\" >4617</td>\n",
       "                        <td id=\"T_c7ae7a6e_2cf0_11eb_a24e_0242ac1c0002row0_col2\" class=\"data row0 col2\" >61</td>\n",
       "                        <td id=\"T_c7ae7a6e_2cf0_11eb_a24e_0242ac1c0002row0_col3\" class=\"data row0 col3\" >4408</td>\n",
       "            </tr>\n",
       "            <tr>\n",
       "                        <th id=\"T_c7ae7a6e_2cf0_11eb_a24e_0242ac1c0002level0_row1\" class=\"row_heading level0 row1\" >1</th>\n",
       "                        <td id=\"T_c7ae7a6e_2cf0_11eb_a24e_0242ac1c0002row1_col0\" class=\"data row1 col0\" >Andhra Pradesh</td>\n",
       "                        <td id=\"T_c7ae7a6e_2cf0_11eb_a24e_0242ac1c0002row1_col1\" class=\"data row1 col1\" >859932</td>\n",
       "                        <td id=\"T_c7ae7a6e_2cf0_11eb_a24e_0242ac1c0002row1_col2\" class=\"data row1 col2\" >6920</td>\n",
       "                        <td id=\"T_c7ae7a6e_2cf0_11eb_a24e_0242ac1c0002row1_col3\" class=\"data row1 col3\" >837630</td>\n",
       "            </tr>\n",
       "            <tr>\n",
       "                        <th id=\"T_c7ae7a6e_2cf0_11eb_a24e_0242ac1c0002level0_row2\" class=\"row_heading level0 row2\" >2</th>\n",
       "                        <td id=\"T_c7ae7a6e_2cf0_11eb_a24e_0242ac1c0002row2_col0\" class=\"data row2 col0\" >Arunachal Pradesh</td>\n",
       "                        <td id=\"T_c7ae7a6e_2cf0_11eb_a24e_0242ac1c0002row2_col1\" class=\"data row2 col1\" >16001</td>\n",
       "                        <td id=\"T_c7ae7a6e_2cf0_11eb_a24e_0242ac1c0002row2_col2\" class=\"data row2 col2\" >49</td>\n",
       "                        <td id=\"T_c7ae7a6e_2cf0_11eb_a24e_0242ac1c0002row2_col3\" class=\"data row2 col3\" >14870</td>\n",
       "            </tr>\n",
       "            <tr>\n",
       "                        <th id=\"T_c7ae7a6e_2cf0_11eb_a24e_0242ac1c0002level0_row3\" class=\"row_heading level0 row3\" >3</th>\n",
       "                        <td id=\"T_c7ae7a6e_2cf0_11eb_a24e_0242ac1c0002row3_col0\" class=\"data row3 col0\" >Assam</td>\n",
       "                        <td id=\"T_c7ae7a6e_2cf0_11eb_a24e_0242ac1c0002row3_col1\" class=\"data row3 col1\" >211204</td>\n",
       "                        <td id=\"T_c7ae7a6e_2cf0_11eb_a24e_0242ac1c0002row3_col2\" class=\"data row3 col2\" >971</td>\n",
       "                        <td id=\"T_c7ae7a6e_2cf0_11eb_a24e_0242ac1c0002row3_col3\" class=\"data row3 col3\" >207029</td>\n",
       "            </tr>\n",
       "            <tr>\n",
       "                        <th id=\"T_c7ae7a6e_2cf0_11eb_a24e_0242ac1c0002level0_row4\" class=\"row_heading level0 row4\" >4</th>\n",
       "                        <td id=\"T_c7ae7a6e_2cf0_11eb_a24e_0242ac1c0002row4_col0\" class=\"data row4 col0\" >Bihar</td>\n",
       "                        <td id=\"T_c7ae7a6e_2cf0_11eb_a24e_0242ac1c0002row4_col1\" class=\"data row4 col1\" >228886</td>\n",
       "                        <td id=\"T_c7ae7a6e_2cf0_11eb_a24e_0242ac1c0002row4_col2\" class=\"data row4 col2\" >1212</td>\n",
       "                        <td id=\"T_c7ae7a6e_2cf0_11eb_a24e_0242ac1c0002row4_col3\" class=\"data row4 col3\" >222420</td>\n",
       "            </tr>\n",
       "            <tr>\n",
       "                        <th id=\"T_c7ae7a6e_2cf0_11eb_a24e_0242ac1c0002level0_row5\" class=\"row_heading level0 row5\" >5</th>\n",
       "                        <td id=\"T_c7ae7a6e_2cf0_11eb_a24e_0242ac1c0002row5_col0\" class=\"data row5 col0\" >Chandigarh</td>\n",
       "                        <td id=\"T_c7ae7a6e_2cf0_11eb_a24e_0242ac1c0002row5_col1\" class=\"data row5 col1\" >16472</td>\n",
       "                        <td id=\"T_c7ae7a6e_2cf0_11eb_a24e_0242ac1c0002row5_col2\" class=\"data row5 col2\" >255</td>\n",
       "                        <td id=\"T_c7ae7a6e_2cf0_11eb_a24e_0242ac1c0002row5_col3\" class=\"data row5 col3\" >15096</td>\n",
       "            </tr>\n",
       "            <tr>\n",
       "                        <th id=\"T_c7ae7a6e_2cf0_11eb_a24e_0242ac1c0002level0_row6\" class=\"row_heading level0 row6\" >6</th>\n",
       "                        <td id=\"T_c7ae7a6e_2cf0_11eb_a24e_0242ac1c0002row6_col0\" class=\"data row6 col0\" >Chhattisgarh</td>\n",
       "                        <td id=\"T_c7ae7a6e_2cf0_11eb_a24e_0242ac1c0002row6_col1\" class=\"data row6 col1\" >219404</td>\n",
       "                        <td id=\"T_c7ae7a6e_2cf0_11eb_a24e_0242ac1c0002row6_col2\" class=\"data row6 col2\" >2691</td>\n",
       "                        <td id=\"T_c7ae7a6e_2cf0_11eb_a24e_0242ac1c0002row6_col3\" class=\"data row6 col3\" >196896</td>\n",
       "            </tr>\n",
       "            <tr>\n",
       "                        <th id=\"T_c7ae7a6e_2cf0_11eb_a24e_0242ac1c0002level0_row7\" class=\"row_heading level0 row7\" >7</th>\n",
       "                        <td id=\"T_c7ae7a6e_2cf0_11eb_a24e_0242ac1c0002row7_col0\" class=\"data row7 col0\" >Dadra and Nagar Haveli and Daman and Diu</td>\n",
       "                        <td id=\"T_c7ae7a6e_2cf0_11eb_a24e_0242ac1c0002row7_col1\" class=\"data row7 col1\" >3316</td>\n",
       "                        <td id=\"T_c7ae7a6e_2cf0_11eb_a24e_0242ac1c0002row7_col2\" class=\"data row7 col2\" >2</td>\n",
       "                        <td id=\"T_c7ae7a6e_2cf0_11eb_a24e_0242ac1c0002row7_col3\" class=\"data row7 col3\" >3275</td>\n",
       "            </tr>\n",
       "            <tr>\n",
       "                        <th id=\"T_c7ae7a6e_2cf0_11eb_a24e_0242ac1c0002level0_row8\" class=\"row_heading level0 row8\" >8</th>\n",
       "                        <td id=\"T_c7ae7a6e_2cf0_11eb_a24e_0242ac1c0002row8_col0\" class=\"data row8 col0\" >Delhi</td>\n",
       "                        <td id=\"T_c7ae7a6e_2cf0_11eb_a24e_0242ac1c0002row8_col1\" class=\"data row8 col1\" >517238</td>\n",
       "                        <td id=\"T_c7ae7a6e_2cf0_11eb_a24e_0242ac1c0002row8_col2\" class=\"data row8 col2\" >8159</td>\n",
       "                        <td id=\"T_c7ae7a6e_2cf0_11eb_a24e_0242ac1c0002row8_col3\" class=\"data row8 col3\" >468143</td>\n",
       "            </tr>\n",
       "            <tr>\n",
       "                        <th id=\"T_c7ae7a6e_2cf0_11eb_a24e_0242ac1c0002level0_row9\" class=\"row_heading level0 row9\" >9</th>\n",
       "                        <td id=\"T_c7ae7a6e_2cf0_11eb_a24e_0242ac1c0002row9_col0\" class=\"data row9 col0\" >Goa</td>\n",
       "                        <td id=\"T_c7ae7a6e_2cf0_11eb_a24e_0242ac1c0002row9_col1\" class=\"data row9 col1\" >46632</td>\n",
       "                        <td id=\"T_c7ae7a6e_2cf0_11eb_a24e_0242ac1c0002row9_col2\" class=\"data row9 col2\" >672</td>\n",
       "                        <td id=\"T_c7ae7a6e_2cf0_11eb_a24e_0242ac1c0002row9_col3\" class=\"data row9 col3\" >44665</td>\n",
       "            </tr>\n",
       "            <tr>\n",
       "                        <th id=\"T_c7ae7a6e_2cf0_11eb_a24e_0242ac1c0002level0_row10\" class=\"row_heading level0 row10\" >10</th>\n",
       "                        <td id=\"T_c7ae7a6e_2cf0_11eb_a24e_0242ac1c0002row10_col0\" class=\"data row10 col0\" >Gujarat</td>\n",
       "                        <td id=\"T_c7ae7a6e_2cf0_11eb_a24e_0242ac1c0002row10_col1\" class=\"data row10 col1\" >194402</td>\n",
       "                        <td id=\"T_c7ae7a6e_2cf0_11eb_a24e_0242ac1c0002row10_col2\" class=\"data row10 col2\" >3837</td>\n",
       "                        <td id=\"T_c7ae7a6e_2cf0_11eb_a24e_0242ac1c0002row10_col3\" class=\"data row10 col3\" >177515</td>\n",
       "            </tr>\n",
       "            <tr>\n",
       "                        <th id=\"T_c7ae7a6e_2cf0_11eb_a24e_0242ac1c0002level0_row11\" class=\"row_heading level0 row11\" >11</th>\n",
       "                        <td id=\"T_c7ae7a6e_2cf0_11eb_a24e_0242ac1c0002row11_col0\" class=\"data row11 col0\" >Haryana</td>\n",
       "                        <td id=\"T_c7ae7a6e_2cf0_11eb_a24e_0242ac1c0002row11_col1\" class=\"data row11 col1\" >212355</td>\n",
       "                        <td id=\"T_c7ae7a6e_2cf0_11eb_a24e_0242ac1c0002row11_col2\" class=\"data row11 col2\" >2138</td>\n",
       "                        <td id=\"T_c7ae7a6e_2cf0_11eb_a24e_0242ac1c0002row11_col3\" class=\"data row11 col3\" >190067</td>\n",
       "            </tr>\n",
       "            <tr>\n",
       "                        <th id=\"T_c7ae7a6e_2cf0_11eb_a24e_0242ac1c0002level0_row12\" class=\"row_heading level0 row12\" >12</th>\n",
       "                        <td id=\"T_c7ae7a6e_2cf0_11eb_a24e_0242ac1c0002row12_col0\" class=\"data row12 col0\" >Himachal Pradesh</td>\n",
       "                        <td id=\"T_c7ae7a6e_2cf0_11eb_a24e_0242ac1c0002row12_col1\" class=\"data row12 col1\" >32785</td>\n",
       "                        <td id=\"T_c7ae7a6e_2cf0_11eb_a24e_0242ac1c0002row12_col2\" class=\"data row12 col2\" >500</td>\n",
       "                        <td id=\"T_c7ae7a6e_2cf0_11eb_a24e_0242ac1c0002row12_col3\" class=\"data row12 col3\" >25455</td>\n",
       "            </tr>\n",
       "            <tr>\n",
       "                        <th id=\"T_c7ae7a6e_2cf0_11eb_a24e_0242ac1c0002level0_row13\" class=\"row_heading level0 row13\" >13</th>\n",
       "                        <td id=\"T_c7ae7a6e_2cf0_11eb_a24e_0242ac1c0002row13_col0\" class=\"data row13 col0\" >Jammu and Kashmir</td>\n",
       "                        <td id=\"T_c7ae7a6e_2cf0_11eb_a24e_0242ac1c0002row13_col1\" class=\"data row13 col1\" >105376</td>\n",
       "                        <td id=\"T_c7ae7a6e_2cf0_11eb_a24e_0242ac1c0002row13_col2\" class=\"data row13 col2\" >1622</td>\n",
       "                        <td id=\"T_c7ae7a6e_2cf0_11eb_a24e_0242ac1c0002row13_col3\" class=\"data row13 col3\" >98076</td>\n",
       "            </tr>\n",
       "            <tr>\n",
       "                        <th id=\"T_c7ae7a6e_2cf0_11eb_a24e_0242ac1c0002level0_row14\" class=\"row_heading level0 row14\" >14</th>\n",
       "                        <td id=\"T_c7ae7a6e_2cf0_11eb_a24e_0242ac1c0002row14_col0\" class=\"data row14 col0\" >Jharkhand</td>\n",
       "                        <td id=\"T_c7ae7a6e_2cf0_11eb_a24e_0242ac1c0002row14_col1\" class=\"data row14 col1\" >107157</td>\n",
       "                        <td id=\"T_c7ae7a6e_2cf0_11eb_a24e_0242ac1c0002row14_col2\" class=\"data row14 col2\" >939</td>\n",
       "                        <td id=\"T_c7ae7a6e_2cf0_11eb_a24e_0242ac1c0002row14_col3\" class=\"data row14 col3\" >103624</td>\n",
       "            </tr>\n",
       "            <tr>\n",
       "                        <th id=\"T_c7ae7a6e_2cf0_11eb_a24e_0242ac1c0002level0_row15\" class=\"row_heading level0 row15\" >15</th>\n",
       "                        <td id=\"T_c7ae7a6e_2cf0_11eb_a24e_0242ac1c0002row15_col0\" class=\"data row15 col0\" >Karnataka</td>\n",
       "                        <td id=\"T_c7ae7a6e_2cf0_11eb_a24e_0242ac1c0002row15_col1\" class=\"data row15 col1\" >869561</td>\n",
       "                        <td id=\"T_c7ae7a6e_2cf0_11eb_a24e_0242ac1c0002row15_col2\" class=\"data row15 col2\" >11621</td>\n",
       "                        <td id=\"T_c7ae7a6e_2cf0_11eb_a24e_0242ac1c0002row15_col3\" class=\"data row15 col3\" >833169</td>\n",
       "            </tr>\n",
       "            <tr>\n",
       "                        <th id=\"T_c7ae7a6e_2cf0_11eb_a24e_0242ac1c0002level0_row16\" class=\"row_heading level0 row16\" >16</th>\n",
       "                        <td id=\"T_c7ae7a6e_2cf0_11eb_a24e_0242ac1c0002row16_col0\" class=\"data row16 col0\" >Kerala</td>\n",
       "                        <td id=\"T_c7ae7a6e_2cf0_11eb_a24e_0242ac1c0002row16_col1\" class=\"data row16 col1\" >551669</td>\n",
       "                        <td id=\"T_c7ae7a6e_2cf0_11eb_a24e_0242ac1c0002row16_col2\" class=\"data row16 col2\" >1997</td>\n",
       "                        <td id=\"T_c7ae7a6e_2cf0_11eb_a24e_0242ac1c0002row16_col3\" class=\"data row16 col3\" >481718</td>\n",
       "            </tr>\n",
       "            <tr>\n",
       "                        <th id=\"T_c7ae7a6e_2cf0_11eb_a24e_0242ac1c0002level0_row17\" class=\"row_heading level0 row17\" >17</th>\n",
       "                        <td id=\"T_c7ae7a6e_2cf0_11eb_a24e_0242ac1c0002row17_col0\" class=\"data row17 col0\" >Ladakh</td>\n",
       "                        <td id=\"T_c7ae7a6e_2cf0_11eb_a24e_0242ac1c0002row17_col1\" class=\"data row17 col1\" >7787</td>\n",
       "                        <td id=\"T_c7ae7a6e_2cf0_11eb_a24e_0242ac1c0002row17_col2\" class=\"data row17 col2\" >96</td>\n",
       "                        <td id=\"T_c7ae7a6e_2cf0_11eb_a24e_0242ac1c0002row17_col3\" class=\"data row17 col3\" >6743</td>\n",
       "            </tr>\n",
       "            <tr>\n",
       "                        <th id=\"T_c7ae7a6e_2cf0_11eb_a24e_0242ac1c0002level0_row18\" class=\"row_heading level0 row18\" >18</th>\n",
       "                        <td id=\"T_c7ae7a6e_2cf0_11eb_a24e_0242ac1c0002row18_col0\" class=\"data row18 col0\" >Lakshadweep</td>\n",
       "                        <td id=\"T_c7ae7a6e_2cf0_11eb_a24e_0242ac1c0002row18_col1\" class=\"data row18 col1\" >0</td>\n",
       "                        <td id=\"T_c7ae7a6e_2cf0_11eb_a24e_0242ac1c0002row18_col2\" class=\"data row18 col2\" >0</td>\n",
       "                        <td id=\"T_c7ae7a6e_2cf0_11eb_a24e_0242ac1c0002row18_col3\" class=\"data row18 col3\" >0</td>\n",
       "            </tr>\n",
       "            <tr>\n",
       "                        <th id=\"T_c7ae7a6e_2cf0_11eb_a24e_0242ac1c0002level0_row19\" class=\"row_heading level0 row19\" >19</th>\n",
       "                        <td id=\"T_c7ae7a6e_2cf0_11eb_a24e_0242ac1c0002row19_col0\" class=\"data row19 col0\" >Madhya Pradesh</td>\n",
       "                        <td id=\"T_c7ae7a6e_2cf0_11eb_a24e_0242ac1c0002row19_col1\" class=\"data row19 col1\" >189546</td>\n",
       "                        <td id=\"T_c7ae7a6e_2cf0_11eb_a24e_0242ac1c0002row19_col2\" class=\"data row19 col2\" >3138</td>\n",
       "                        <td id=\"T_c7ae7a6e_2cf0_11eb_a24e_0242ac1c0002row19_col3\" class=\"data row19 col3\" >176006</td>\n",
       "            </tr>\n",
       "            <tr>\n",
       "                        <th id=\"T_c7ae7a6e_2cf0_11eb_a24e_0242ac1c0002level0_row20\" class=\"row_heading level0 row20\" >20</th>\n",
       "                        <td id=\"T_c7ae7a6e_2cf0_11eb_a24e_0242ac1c0002row20_col0\" class=\"data row20 col0\" >Maharashtra</td>\n",
       "                        <td id=\"T_c7ae7a6e_2cf0_11eb_a24e_0242ac1c0002row20_col1\" class=\"data row20 col1\" >1768695</td>\n",
       "                        <td id=\"T_c7ae7a6e_2cf0_11eb_a24e_0242ac1c0002row20_col2\" class=\"data row20 col2\" >46511</td>\n",
       "                        <td id=\"T_c7ae7a6e_2cf0_11eb_a24e_0242ac1c0002row20_col3\" class=\"data row20 col3\" >1642916</td>\n",
       "            </tr>\n",
       "            <tr>\n",
       "                        <th id=\"T_c7ae7a6e_2cf0_11eb_a24e_0242ac1c0002level0_row21\" class=\"row_heading level0 row21\" >21</th>\n",
       "                        <td id=\"T_c7ae7a6e_2cf0_11eb_a24e_0242ac1c0002row21_col0\" class=\"data row21 col0\" >Manipur</td>\n",
       "                        <td id=\"T_c7ae7a6e_2cf0_11eb_a24e_0242ac1c0002row21_col1\" class=\"data row21 col1\" >22748</td>\n",
       "                        <td id=\"T_c7ae7a6e_2cf0_11eb_a24e_0242ac1c0002row21_col2\" class=\"data row21 col2\" >232</td>\n",
       "                        <td id=\"T_c7ae7a6e_2cf0_11eb_a24e_0242ac1c0002row21_col3\" class=\"data row21 col3\" >19620</td>\n",
       "            </tr>\n",
       "            <tr>\n",
       "                        <th id=\"T_c7ae7a6e_2cf0_11eb_a24e_0242ac1c0002level0_row22\" class=\"row_heading level0 row22\" >22</th>\n",
       "                        <td id=\"T_c7ae7a6e_2cf0_11eb_a24e_0242ac1c0002row22_col0\" class=\"data row22 col0\" >Meghalaya</td>\n",
       "                        <td id=\"T_c7ae7a6e_2cf0_11eb_a24e_0242ac1c0002row22_col1\" class=\"data row22 col1\" >11152</td>\n",
       "                        <td id=\"T_c7ae7a6e_2cf0_11eb_a24e_0242ac1c0002row22_col2\" class=\"data row22 col2\" >106</td>\n",
       "                        <td id=\"T_c7ae7a6e_2cf0_11eb_a24e_0242ac1c0002row22_col3\" class=\"data row22 col3\" >10158</td>\n",
       "            </tr>\n",
       "            <tr>\n",
       "                        <th id=\"T_c7ae7a6e_2cf0_11eb_a24e_0242ac1c0002level0_row23\" class=\"row_heading level0 row23\" >23</th>\n",
       "                        <td id=\"T_c7ae7a6e_2cf0_11eb_a24e_0242ac1c0002row23_col0\" class=\"data row23 col0\" >Mizoram</td>\n",
       "                        <td id=\"T_c7ae7a6e_2cf0_11eb_a24e_0242ac1c0002row23_col1\" class=\"data row23 col1\" >3607</td>\n",
       "                        <td id=\"T_c7ae7a6e_2cf0_11eb_a24e_0242ac1c0002row23_col2\" class=\"data row23 col2\" >5</td>\n",
       "                        <td id=\"T_c7ae7a6e_2cf0_11eb_a24e_0242ac1c0002row23_col3\" class=\"data row23 col3\" >3111</td>\n",
       "            </tr>\n",
       "            <tr>\n",
       "                        <th id=\"T_c7ae7a6e_2cf0_11eb_a24e_0242ac1c0002level0_row24\" class=\"row_heading level0 row24\" >24</th>\n",
       "                        <td id=\"T_c7ae7a6e_2cf0_11eb_a24e_0242ac1c0002row24_col0\" class=\"data row24 col0\" >Nagaland</td>\n",
       "                        <td id=\"T_c7ae7a6e_2cf0_11eb_a24e_0242ac1c0002row24_col1\" class=\"data row24 col1\" >10608</td>\n",
       "                        <td id=\"T_c7ae7a6e_2cf0_11eb_a24e_0242ac1c0002row24_col2\" class=\"data row24 col2\" >56</td>\n",
       "                        <td id=\"T_c7ae7a6e_2cf0_11eb_a24e_0242ac1c0002row24_col3\" class=\"data row24 col3\" >9208</td>\n",
       "            </tr>\n",
       "            <tr>\n",
       "                        <th id=\"T_c7ae7a6e_2cf0_11eb_a24e_0242ac1c0002level0_row25\" class=\"row_heading level0 row25\" >25</th>\n",
       "                        <td id=\"T_c7ae7a6e_2cf0_11eb_a24e_0242ac1c0002row25_col0\" class=\"data row25 col0\" >Odisha</td>\n",
       "                        <td id=\"T_c7ae7a6e_2cf0_11eb_a24e_0242ac1c0002row25_col1\" class=\"data row25 col1\" >312545</td>\n",
       "                        <td id=\"T_c7ae7a6e_2cf0_11eb_a24e_0242ac1c0002row25_col2\" class=\"data row25 col2\" >1608</td>\n",
       "                        <td id=\"T_c7ae7a6e_2cf0_11eb_a24e_0242ac1c0002row25_col3\" class=\"data row25 col3\" >303897</td>\n",
       "            </tr>\n",
       "            <tr>\n",
       "                        <th id=\"T_c7ae7a6e_2cf0_11eb_a24e_0242ac1c0002level0_row26\" class=\"row_heading level0 row26\" >26</th>\n",
       "                        <td id=\"T_c7ae7a6e_2cf0_11eb_a24e_0242ac1c0002row26_col0\" class=\"data row26 col0\" >Puducherry</td>\n",
       "                        <td id=\"T_c7ae7a6e_2cf0_11eb_a24e_0242ac1c0002row26_col1\" class=\"data row26 col1\" >36585</td>\n",
       "                        <td id=\"T_c7ae7a6e_2cf0_11eb_a24e_0242ac1c0002row26_col2\" class=\"data row26 col2\" >609</td>\n",
       "                        <td id=\"T_c7ae7a6e_2cf0_11eb_a24e_0242ac1c0002row26_col3\" class=\"data row26 col3\" >35355</td>\n",
       "            </tr>\n",
       "            <tr>\n",
       "                        <th id=\"T_c7ae7a6e_2cf0_11eb_a24e_0242ac1c0002level0_row27\" class=\"row_heading level0 row27\" >27</th>\n",
       "                        <td id=\"T_c7ae7a6e_2cf0_11eb_a24e_0242ac1c0002row27_col0\" class=\"data row27 col0\" >Punjab</td>\n",
       "                        <td id=\"T_c7ae7a6e_2cf0_11eb_a24e_0242ac1c0002row27_col1\" class=\"data row27 col1\" >144995</td>\n",
       "                        <td id=\"T_c7ae7a6e_2cf0_11eb_a24e_0242ac1c0002row27_col2\" class=\"data row27 col2\" >4572</td>\n",
       "                        <td id=\"T_c7ae7a6e_2cf0_11eb_a24e_0242ac1c0002row27_col3\" class=\"data row27 col3\" >133919</td>\n",
       "            </tr>\n",
       "            <tr>\n",
       "                        <th id=\"T_c7ae7a6e_2cf0_11eb_a24e_0242ac1c0002level0_row28\" class=\"row_heading level0 row28\" >28</th>\n",
       "                        <td id=\"T_c7ae7a6e_2cf0_11eb_a24e_0242ac1c0002row28_col0\" class=\"data row28 col0\" >Rajasthan</td>\n",
       "                        <td id=\"T_c7ae7a6e_2cf0_11eb_a24e_0242ac1c0002row28_col1\" class=\"data row28 col1\" >237669</td>\n",
       "                        <td id=\"T_c7ae7a6e_2cf0_11eb_a24e_0242ac1c0002row28_col2\" class=\"data row28 col2\" >2130</td>\n",
       "                        <td id=\"T_c7ae7a6e_2cf0_11eb_a24e_0242ac1c0002row28_col3\" class=\"data row28 col3\" >214616</td>\n",
       "            </tr>\n",
       "            <tr>\n",
       "                        <th id=\"T_c7ae7a6e_2cf0_11eb_a24e_0242ac1c0002level0_row29\" class=\"row_heading level0 row29\" >29</th>\n",
       "                        <td id=\"T_c7ae7a6e_2cf0_11eb_a24e_0242ac1c0002row29_col0\" class=\"data row29 col0\" >Sikkim</td>\n",
       "                        <td id=\"T_c7ae7a6e_2cf0_11eb_a24e_0242ac1c0002row29_col1\" class=\"data row29 col1\" >4632</td>\n",
       "                        <td id=\"T_c7ae7a6e_2cf0_11eb_a24e_0242ac1c0002row29_col2\" class=\"data row29 col2\" >96</td>\n",
       "                        <td id=\"T_c7ae7a6e_2cf0_11eb_a24e_0242ac1c0002row29_col3\" class=\"data row29 col3\" >4271</td>\n",
       "            </tr>\n",
       "            <tr>\n",
       "                        <th id=\"T_c7ae7a6e_2cf0_11eb_a24e_0242ac1c0002level0_row30\" class=\"row_heading level0 row30\" >30</th>\n",
       "                        <td id=\"T_c7ae7a6e_2cf0_11eb_a24e_0242ac1c0002row30_col0\" class=\"data row30 col0\" >Tamil Nadu</td>\n",
       "                        <td id=\"T_c7ae7a6e_2cf0_11eb_a24e_0242ac1c0002row30_col1\" class=\"data row30 col1\" >766677</td>\n",
       "                        <td id=\"T_c7ae7a6e_2cf0_11eb_a24e_0242ac1c0002row30_col2\" class=\"data row30 col2\" >11568</td>\n",
       "                        <td id=\"T_c7ae7a6e_2cf0_11eb_a24e_0242ac1c0002row30_col3\" class=\"data row30 col3\" >741705</td>\n",
       "            </tr>\n",
       "            <tr>\n",
       "                        <th id=\"T_c7ae7a6e_2cf0_11eb_a24e_0242ac1c0002level0_row31\" class=\"row_heading level0 row31\" >31</th>\n",
       "                        <td id=\"T_c7ae7a6e_2cf0_11eb_a24e_0242ac1c0002row31_col0\" class=\"data row31 col0\" >Telangana</td>\n",
       "                        <td id=\"T_c7ae7a6e_2cf0_11eb_a24e_0242ac1c0002row31_col1\" class=\"data row31 col1\" >262653</td>\n",
       "                        <td id=\"T_c7ae7a6e_2cf0_11eb_a24e_0242ac1c0002row31_col2\" class=\"data row31 col2\" >1426</td>\n",
       "                        <td id=\"T_c7ae7a6e_2cf0_11eb_a24e_0242ac1c0002row31_col3\" class=\"data row31 col3\" >249157</td>\n",
       "            </tr>\n",
       "            <tr>\n",
       "                        <th id=\"T_c7ae7a6e_2cf0_11eb_a24e_0242ac1c0002level0_row32\" class=\"row_heading level0 row32\" >32</th>\n",
       "                        <td id=\"T_c7ae7a6e_2cf0_11eb_a24e_0242ac1c0002row32_col0\" class=\"data row32 col0\" >Tripura</td>\n",
       "                        <td id=\"T_c7ae7a6e_2cf0_11eb_a24e_0242ac1c0002row32_col1\" class=\"data row32 col1\" >32367</td>\n",
       "                        <td id=\"T_c7ae7a6e_2cf0_11eb_a24e_0242ac1c0002row32_col2\" class=\"data row32 col2\" >366</td>\n",
       "                        <td id=\"T_c7ae7a6e_2cf0_11eb_a24e_0242ac1c0002row32_col3\" class=\"data row32 col3\" >31084</td>\n",
       "            </tr>\n",
       "            <tr>\n",
       "                        <th id=\"T_c7ae7a6e_2cf0_11eb_a24e_0242ac1c0002level0_row33\" class=\"row_heading level0 row33\" >33</th>\n",
       "                        <td id=\"T_c7ae7a6e_2cf0_11eb_a24e_0242ac1c0002row33_col0\" class=\"data row33 col0\" >Uttar Pradesh</td>\n",
       "                        <td id=\"T_c7ae7a6e_2cf0_11eb_a24e_0242ac1c0002row33_col1\" class=\"data row33 col1\" >521988</td>\n",
       "                        <td id=\"T_c7ae7a6e_2cf0_11eb_a24e_0242ac1c0002row33_col2\" class=\"data row33 col2\" >7500</td>\n",
       "                        <td id=\"T_c7ae7a6e_2cf0_11eb_a24e_0242ac1c0002row33_col3\" class=\"data row33 col3\" >491131</td>\n",
       "            </tr>\n",
       "            <tr>\n",
       "                        <th id=\"T_c7ae7a6e_2cf0_11eb_a24e_0242ac1c0002level0_row34\" class=\"row_heading level0 row34\" >34</th>\n",
       "                        <td id=\"T_c7ae7a6e_2cf0_11eb_a24e_0242ac1c0002row34_col0\" class=\"data row34 col0\" >Uttarakhand</td>\n",
       "                        <td id=\"T_c7ae7a6e_2cf0_11eb_a24e_0242ac1c0002row34_col1\" class=\"data row34 col1\" >70205</td>\n",
       "                        <td id=\"T_c7ae7a6e_2cf0_11eb_a24e_0242ac1c0002row34_col2\" class=\"data row34 col2\" >1138</td>\n",
       "                        <td id=\"T_c7ae7a6e_2cf0_11eb_a24e_0242ac1c0002row34_col3\" class=\"data row34 col3\" >65562</td>\n",
       "            </tr>\n",
       "            <tr>\n",
       "                        <th id=\"T_c7ae7a6e_2cf0_11eb_a24e_0242ac1c0002level0_row35\" class=\"row_heading level0 row35\" >35</th>\n",
       "                        <td id=\"T_c7ae7a6e_2cf0_11eb_a24e_0242ac1c0002row35_col0\" class=\"data row35 col0\" >West Bengal</td>\n",
       "                        <td id=\"T_c7ae7a6e_2cf0_11eb_a24e_0242ac1c0002row35_col1\" class=\"data row35 col1\" >449131</td>\n",
       "                        <td id=\"T_c7ae7a6e_2cf0_11eb_a24e_0242ac1c0002row35_col2\" class=\"data row35 col2\" >7923</td>\n",
       "                        <td id=\"T_c7ae7a6e_2cf0_11eb_a24e_0242ac1c0002row35_col3\" class=\"data row35 col3\" >415609</td>\n",
       "            </tr>\n",
       "    </tbody></table>"
      ],
      "text/plain": [
       "<pandas.io.formats.style.Styler at 0x7fa2307a3a58>"
      ]
     },
     "execution_count": 6,
     "metadata": {
      "tags": []
     },
     "output_type": "execute_result"
    }
   ],
   "source": [
    "df[['Province_State','Confirmed','Deaths','Recovered']].style.background_gradient(cmap ='Reds')"
   ]
  },
  {
   "cell_type": "markdown",
   "metadata": {},
   "source": [
    "# Total Active Cases till date"
   ]
  },
  {
   "cell_type": "code",
   "execution_count": 7,
   "metadata": {
    "colab": {
     "base_uri": "https://localhost:8080/"
    },
    "executionInfo": {
     "elapsed": 2705,
     "status": "ok",
     "timestamp": 1606069835616,
     "user": {
      "displayName": "Saloni Bansal",
      "photoUrl": "",
      "userId": "02261793113701121216"
     },
     "user_tz": -330
    },
    "id": "p3UwGpOzOJ8T",
    "outputId": "f2913e30-f936-4e92-e158-d155b297fc7c"
   },
   "outputs": [
    {
     "name": "stdout",
     "output_type": "stream",
     "text": [
      "Total active cases of COVID 2019 acorss India till date (11/21/2020 , 5:25:51 AM) : 439747\n"
     ]
    }
   ],
   "source": [
    "total_active_case = df['Active'].sum()\n",
    "Total_case = df.groupby('Province_State')['Active'].sum().sort_values(ascending=False).to_frame()\n",
    "print('Total active cases of COVID 2019 acorss India till date (11/21/2020 , 5:25:51 AM) :',total_active_case)"
   ]
  },
  {
   "cell_type": "code",
   "execution_count": 8,
   "metadata": {
    "colab": {
     "base_uri": "https://localhost:8080/",
     "height": 817
    },
    "executionInfo": {
     "elapsed": 1195,
     "status": "ok",
     "timestamp": 1606069871335,
     "user": {
      "displayName": "Saloni Bansal",
      "photoUrl": "",
      "userId": "02261793113701121216"
     },
     "user_tz": -330
    },
    "id": "CRFwKKtXOMxI",
    "outputId": "37a2dfc9-360c-4d97-e21a-2f635c35610a"
   },
   "outputs": [
    {
     "data": {
      "text/html": [
       "<style  type=\"text/css\" >\n",
       "#T_e4bbe448_2cf0_11eb_a24e_0242ac1c0002row0_col0{\n",
       "            background-color:  #00441b;\n",
       "            color:  #f1f1f1;\n",
       "        }#T_e4bbe448_2cf0_11eb_a24e_0242ac1c0002row1_col0{\n",
       "            background-color:  #05712f;\n",
       "            color:  #f1f1f1;\n",
       "        }#T_e4bbe448_2cf0_11eb_a24e_0242ac1c0002row2_col0{\n",
       "            background-color:  #6dc072;\n",
       "            color:  #000000;\n",
       "        }#T_e4bbe448_2cf0_11eb_a24e_0242ac1c0002row3_col0{\n",
       "            background-color:  #b1e0ab;\n",
       "            color:  #000000;\n",
       "        }#T_e4bbe448_2cf0_11eb_a24e_0242ac1c0002row4_col0{\n",
       "            background-color:  #b5e1ae;\n",
       "            color:  #000000;\n",
       "        }#T_e4bbe448_2cf0_11eb_a24e_0242ac1c0002row5_col0{\n",
       "            background-color:  #bae3b3;\n",
       "            color:  #000000;\n",
       "        }#T_e4bbe448_2cf0_11eb_a24e_0242ac1c0002row6_col0{\n",
       "            background-color:  #c3e7bc;\n",
       "            color:  #000000;\n",
       "        }#T_e4bbe448_2cf0_11eb_a24e_0242ac1c0002row7_col0{\n",
       "            background-color:  #c6e8bf;\n",
       "            color:  #000000;\n",
       "        }#T_e4bbe448_2cf0_11eb_a24e_0242ac1c0002row8_col0{\n",
       "            background-color:  #c7e9c0;\n",
       "            color:  #000000;\n",
       "        }#T_e4bbe448_2cf0_11eb_a24e_0242ac1c0002row9_col0{\n",
       "            background-color:  #d5efcf;\n",
       "            color:  #000000;\n",
       "        }#T_e4bbe448_2cf0_11eb_a24e_0242ac1c0002row10_col0{\n",
       "            background-color:  #dbf1d5;\n",
       "            color:  #000000;\n",
       "        }#T_e4bbe448_2cf0_11eb_a24e_0242ac1c0002row11_col0{\n",
       "            background-color:  #dbf1d6;\n",
       "            color:  #000000;\n",
       "        }#T_e4bbe448_2cf0_11eb_a24e_0242ac1c0002row12_col0{\n",
       "            background-color:  #dff3da;\n",
       "            color:  #000000;\n",
       "        }#T_e4bbe448_2cf0_11eb_a24e_0242ac1c0002row13_col0{\n",
       "            background-color:  #e4f5df;\n",
       "            color:  #000000;\n",
       "        }#T_e4bbe448_2cf0_11eb_a24e_0242ac1c0002row14_col0,#T_e4bbe448_2cf0_11eb_a24e_0242ac1c0002row15_col0,#T_e4bbe448_2cf0_11eb_a24e_0242ac1c0002row16_col0{\n",
       "            background-color:  #ebf7e7;\n",
       "            color:  #000000;\n",
       "        }#T_e4bbe448_2cf0_11eb_a24e_0242ac1c0002row17_col0{\n",
       "            background-color:  #edf8e9;\n",
       "            color:  #000000;\n",
       "        }#T_e4bbe448_2cf0_11eb_a24e_0242ac1c0002row18_col0{\n",
       "            background-color:  #eef8ea;\n",
       "            color:  #000000;\n",
       "        }#T_e4bbe448_2cf0_11eb_a24e_0242ac1c0002row19_col0,#T_e4bbe448_2cf0_11eb_a24e_0242ac1c0002row20_col0{\n",
       "            background-color:  #f1faee;\n",
       "            color:  #000000;\n",
       "        }#T_e4bbe448_2cf0_11eb_a24e_0242ac1c0002row21_col0{\n",
       "            background-color:  #f2faef;\n",
       "            color:  #000000;\n",
       "        }#T_e4bbe448_2cf0_11eb_a24e_0242ac1c0002row22_col0{\n",
       "            background-color:  #f2faf0;\n",
       "            color:  #000000;\n",
       "        }#T_e4bbe448_2cf0_11eb_a24e_0242ac1c0002row23_col0,#T_e4bbe448_2cf0_11eb_a24e_0242ac1c0002row24_col0{\n",
       "            background-color:  #f5fbf2;\n",
       "            color:  #000000;\n",
       "        }#T_e4bbe448_2cf0_11eb_a24e_0242ac1c0002row25_col0,#T_e4bbe448_2cf0_11eb_a24e_0242ac1c0002row26_col0,#T_e4bbe448_2cf0_11eb_a24e_0242ac1c0002row27_col0{\n",
       "            background-color:  #f5fbf3;\n",
       "            color:  #000000;\n",
       "        }#T_e4bbe448_2cf0_11eb_a24e_0242ac1c0002row28_col0,#T_e4bbe448_2cf0_11eb_a24e_0242ac1c0002row29_col0,#T_e4bbe448_2cf0_11eb_a24e_0242ac1c0002row30_col0,#T_e4bbe448_2cf0_11eb_a24e_0242ac1c0002row31_col0{\n",
       "            background-color:  #f6fcf4;\n",
       "            color:  #000000;\n",
       "        }#T_e4bbe448_2cf0_11eb_a24e_0242ac1c0002row32_col0,#T_e4bbe448_2cf0_11eb_a24e_0242ac1c0002row33_col0,#T_e4bbe448_2cf0_11eb_a24e_0242ac1c0002row34_col0,#T_e4bbe448_2cf0_11eb_a24e_0242ac1c0002row35_col0{\n",
       "            background-color:  #f7fcf5;\n",
       "            color:  #000000;\n",
       "        }</style><table id=\"T_e4bbe448_2cf0_11eb_a24e_0242ac1c0002\" ><thead>    <tr>        <th class=\"blank level0\" ></th>        <th class=\"col_heading level0 col0\" >Active</th>    </tr>    <tr>        <th class=\"index_name level0\" >Province_State</th>        <th class=\"blank\" ></th>    </tr></thead><tbody>\n",
       "                <tr>\n",
       "                        <th id=\"T_e4bbe448_2cf0_11eb_a24e_0242ac1c0002level0_row0\" class=\"row_heading level0 row0\" >Maharashtra</th>\n",
       "                        <td id=\"T_e4bbe448_2cf0_11eb_a24e_0242ac1c0002row0_col0\" class=\"data row0 col0\" >79268</td>\n",
       "            </tr>\n",
       "            <tr>\n",
       "                        <th id=\"T_e4bbe448_2cf0_11eb_a24e_0242ac1c0002level0_row1\" class=\"row_heading level0 row1\" >Kerala</th>\n",
       "                        <td id=\"T_e4bbe448_2cf0_11eb_a24e_0242ac1c0002row1_col0\" class=\"data row1 col0\" >67954</td>\n",
       "            </tr>\n",
       "            <tr>\n",
       "                        <th id=\"T_e4bbe448_2cf0_11eb_a24e_0242ac1c0002level0_row2\" class=\"row_heading level0 row2\" >Delhi</th>\n",
       "                        <td id=\"T_e4bbe448_2cf0_11eb_a24e_0242ac1c0002row2_col0\" class=\"data row2 col0\" >40936</td>\n",
       "            </tr>\n",
       "            <tr>\n",
       "                        <th id=\"T_e4bbe448_2cf0_11eb_a24e_0242ac1c0002level0_row3\" class=\"row_heading level0 row3\" >West Bengal</th>\n",
       "                        <td id=\"T_e4bbe448_2cf0_11eb_a24e_0242ac1c0002row3_col0\" class=\"data row3 col0\" >25599</td>\n",
       "            </tr>\n",
       "            <tr>\n",
       "                        <th id=\"T_e4bbe448_2cf0_11eb_a24e_0242ac1c0002level0_row4\" class=\"row_heading level0 row4\" >Karnataka</th>\n",
       "                        <td id=\"T_e4bbe448_2cf0_11eb_a24e_0242ac1c0002row4_col0\" class=\"data row4 col0\" >24771</td>\n",
       "            </tr>\n",
       "            <tr>\n",
       "                        <th id=\"T_e4bbe448_2cf0_11eb_a24e_0242ac1c0002level0_row5\" class=\"row_heading level0 row5\" >Uttar Pradesh</th>\n",
       "                        <td id=\"T_e4bbe448_2cf0_11eb_a24e_0242ac1c0002row5_col0\" class=\"data row5 col0\" >23357</td>\n",
       "            </tr>\n",
       "            <tr>\n",
       "                        <th id=\"T_e4bbe448_2cf0_11eb_a24e_0242ac1c0002level0_row6\" class=\"row_heading level0 row6\" >Rajasthan</th>\n",
       "                        <td id=\"T_e4bbe448_2cf0_11eb_a24e_0242ac1c0002row6_col0\" class=\"data row6 col0\" >20923</td>\n",
       "            </tr>\n",
       "            <tr>\n",
       "                        <th id=\"T_e4bbe448_2cf0_11eb_a24e_0242ac1c0002level0_row7\" class=\"row_heading level0 row7\" >Haryana</th>\n",
       "                        <td id=\"T_e4bbe448_2cf0_11eb_a24e_0242ac1c0002row7_col0\" class=\"data row7 col0\" >20150</td>\n",
       "            </tr>\n",
       "            <tr>\n",
       "                        <th id=\"T_e4bbe448_2cf0_11eb_a24e_0242ac1c0002level0_row8\" class=\"row_heading level0 row8\" >Chhattisgarh</th>\n",
       "                        <td id=\"T_e4bbe448_2cf0_11eb_a24e_0242ac1c0002row8_col0\" class=\"data row8 col0\" >19817</td>\n",
       "            </tr>\n",
       "            <tr>\n",
       "                        <th id=\"T_e4bbe448_2cf0_11eb_a24e_0242ac1c0002level0_row9\" class=\"row_heading level0 row9\" >Andhra Pradesh</th>\n",
       "                        <td id=\"T_e4bbe448_2cf0_11eb_a24e_0242ac1c0002row9_col0\" class=\"data row9 col0\" >15382</td>\n",
       "            </tr>\n",
       "            <tr>\n",
       "                        <th id=\"T_e4bbe448_2cf0_11eb_a24e_0242ac1c0002level0_row10\" class=\"row_heading level0 row10\" >Tamil Nadu</th>\n",
       "                        <td id=\"T_e4bbe448_2cf0_11eb_a24e_0242ac1c0002row10_col0\" class=\"data row10 col0\" >13404</td>\n",
       "            </tr>\n",
       "            <tr>\n",
       "                        <th id=\"T_e4bbe448_2cf0_11eb_a24e_0242ac1c0002level0_row11\" class=\"row_heading level0 row11\" >Gujarat</th>\n",
       "                        <td id=\"T_e4bbe448_2cf0_11eb_a24e_0242ac1c0002row11_col0\" class=\"data row11 col0\" >13050</td>\n",
       "            </tr>\n",
       "            <tr>\n",
       "                        <th id=\"T_e4bbe448_2cf0_11eb_a24e_0242ac1c0002level0_row12\" class=\"row_heading level0 row12\" >Telangana</th>\n",
       "                        <td id=\"T_e4bbe448_2cf0_11eb_a24e_0242ac1c0002row12_col0\" class=\"data row12 col0\" >12070</td>\n",
       "            </tr>\n",
       "            <tr>\n",
       "                        <th id=\"T_e4bbe448_2cf0_11eb_a24e_0242ac1c0002level0_row13\" class=\"row_heading level0 row13\" >Madhya Pradesh</th>\n",
       "                        <td id=\"T_e4bbe448_2cf0_11eb_a24e_0242ac1c0002row13_col0\" class=\"data row13 col0\" >10402</td>\n",
       "            </tr>\n",
       "            <tr>\n",
       "                        <th id=\"T_e4bbe448_2cf0_11eb_a24e_0242ac1c0002level0_row14\" class=\"row_heading level0 row14\" >Odisha</th>\n",
       "                        <td id=\"T_e4bbe448_2cf0_11eb_a24e_0242ac1c0002row14_col0\" class=\"data row14 col0\" >7040</td>\n",
       "            </tr>\n",
       "            <tr>\n",
       "                        <th id=\"T_e4bbe448_2cf0_11eb_a24e_0242ac1c0002level0_row15\" class=\"row_heading level0 row15\" >Himachal Pradesh</th>\n",
       "                        <td id=\"T_e4bbe448_2cf0_11eb_a24e_0242ac1c0002row15_col0\" class=\"data row15 col0\" >6830</td>\n",
       "            </tr>\n",
       "            <tr>\n",
       "                        <th id=\"T_e4bbe448_2cf0_11eb_a24e_0242ac1c0002level0_row16\" class=\"row_heading level0 row16\" >Punjab</th>\n",
       "                        <td id=\"T_e4bbe448_2cf0_11eb_a24e_0242ac1c0002row16_col0\" class=\"data row16 col0\" >6504</td>\n",
       "            </tr>\n",
       "            <tr>\n",
       "                        <th id=\"T_e4bbe448_2cf0_11eb_a24e_0242ac1c0002level0_row17\" class=\"row_heading level0 row17\" >Jammu and Kashmir</th>\n",
       "                        <td id=\"T_e4bbe448_2cf0_11eb_a24e_0242ac1c0002row17_col0\" class=\"data row17 col0\" >5678</td>\n",
       "            </tr>\n",
       "            <tr>\n",
       "                        <th id=\"T_e4bbe448_2cf0_11eb_a24e_0242ac1c0002level0_row18\" class=\"row_heading level0 row18\" >Bihar</th>\n",
       "                        <td id=\"T_e4bbe448_2cf0_11eb_a24e_0242ac1c0002row18_col0\" class=\"data row18 col0\" >5254</td>\n",
       "            </tr>\n",
       "            <tr>\n",
       "                        <th id=\"T_e4bbe448_2cf0_11eb_a24e_0242ac1c0002level0_row19\" class=\"row_heading level0 row19\" >Uttarakhand</th>\n",
       "                        <td id=\"T_e4bbe448_2cf0_11eb_a24e_0242ac1c0002row19_col0\" class=\"data row19 col0\" >3505</td>\n",
       "            </tr>\n",
       "            <tr>\n",
       "                        <th id=\"T_e4bbe448_2cf0_11eb_a24e_0242ac1c0002level0_row20\" class=\"row_heading level0 row20\" >Assam</th>\n",
       "                        <td id=\"T_e4bbe448_2cf0_11eb_a24e_0242ac1c0002row20_col0\" class=\"data row20 col0\" >3204</td>\n",
       "            </tr>\n",
       "            <tr>\n",
       "                        <th id=\"T_e4bbe448_2cf0_11eb_a24e_0242ac1c0002level0_row21\" class=\"row_heading level0 row21\" >Manipur</th>\n",
       "                        <td id=\"T_e4bbe448_2cf0_11eb_a24e_0242ac1c0002row21_col0\" class=\"data row21 col0\" >2896</td>\n",
       "            </tr>\n",
       "            <tr>\n",
       "                        <th id=\"T_e4bbe448_2cf0_11eb_a24e_0242ac1c0002level0_row22\" class=\"row_heading level0 row22\" >Jharkhand</th>\n",
       "                        <td id=\"T_e4bbe448_2cf0_11eb_a24e_0242ac1c0002row22_col0\" class=\"data row22 col0\" >2594</td>\n",
       "            </tr>\n",
       "            <tr>\n",
       "                        <th id=\"T_e4bbe448_2cf0_11eb_a24e_0242ac1c0002level0_row23\" class=\"row_heading level0 row23\" >Nagaland</th>\n",
       "                        <td id=\"T_e4bbe448_2cf0_11eb_a24e_0242ac1c0002row23_col0\" class=\"data row23 col0\" >1344</td>\n",
       "            </tr>\n",
       "            <tr>\n",
       "                        <th id=\"T_e4bbe448_2cf0_11eb_a24e_0242ac1c0002level0_row24\" class=\"row_heading level0 row24\" >Goa</th>\n",
       "                        <td id=\"T_e4bbe448_2cf0_11eb_a24e_0242ac1c0002row24_col0\" class=\"data row24 col0\" >1295</td>\n",
       "            </tr>\n",
       "            <tr>\n",
       "                        <th id=\"T_e4bbe448_2cf0_11eb_a24e_0242ac1c0002level0_row25\" class=\"row_heading level0 row25\" >Chandigarh</th>\n",
       "                        <td id=\"T_e4bbe448_2cf0_11eb_a24e_0242ac1c0002row25_col0\" class=\"data row25 col0\" >1121</td>\n",
       "            </tr>\n",
       "            <tr>\n",
       "                        <th id=\"T_e4bbe448_2cf0_11eb_a24e_0242ac1c0002level0_row26\" class=\"row_heading level0 row26\" >Arunachal Pradesh</th>\n",
       "                        <td id=\"T_e4bbe448_2cf0_11eb_a24e_0242ac1c0002row26_col0\" class=\"data row26 col0\" >1082</td>\n",
       "            </tr>\n",
       "            <tr>\n",
       "                        <th id=\"T_e4bbe448_2cf0_11eb_a24e_0242ac1c0002level0_row27\" class=\"row_heading level0 row27\" >Ladakh</th>\n",
       "                        <td id=\"T_e4bbe448_2cf0_11eb_a24e_0242ac1c0002row27_col0\" class=\"data row27 col0\" >948</td>\n",
       "            </tr>\n",
       "            <tr>\n",
       "                        <th id=\"T_e4bbe448_2cf0_11eb_a24e_0242ac1c0002level0_row28\" class=\"row_heading level0 row28\" >Tripura</th>\n",
       "                        <td id=\"T_e4bbe448_2cf0_11eb_a24e_0242ac1c0002row28_col0\" class=\"data row28 col0\" >917</td>\n",
       "            </tr>\n",
       "            <tr>\n",
       "                        <th id=\"T_e4bbe448_2cf0_11eb_a24e_0242ac1c0002level0_row29\" class=\"row_heading level0 row29\" >Meghalaya</th>\n",
       "                        <td id=\"T_e4bbe448_2cf0_11eb_a24e_0242ac1c0002row29_col0\" class=\"data row29 col0\" >888</td>\n",
       "            </tr>\n",
       "            <tr>\n",
       "                        <th id=\"T_e4bbe448_2cf0_11eb_a24e_0242ac1c0002level0_row30\" class=\"row_heading level0 row30\" >Puducherry</th>\n",
       "                        <td id=\"T_e4bbe448_2cf0_11eb_a24e_0242ac1c0002row30_col0\" class=\"data row30 col0\" >621</td>\n",
       "            </tr>\n",
       "            <tr>\n",
       "                        <th id=\"T_e4bbe448_2cf0_11eb_a24e_0242ac1c0002level0_row31\" class=\"row_heading level0 row31\" >Mizoram</th>\n",
       "                        <td id=\"T_e4bbe448_2cf0_11eb_a24e_0242ac1c0002row31_col0\" class=\"data row31 col0\" >491</td>\n",
       "            </tr>\n",
       "            <tr>\n",
       "                        <th id=\"T_e4bbe448_2cf0_11eb_a24e_0242ac1c0002level0_row32\" class=\"row_heading level0 row32\" >Sikkim</th>\n",
       "                        <td id=\"T_e4bbe448_2cf0_11eb_a24e_0242ac1c0002row32_col0\" class=\"data row32 col0\" >265</td>\n",
       "            </tr>\n",
       "            <tr>\n",
       "                        <th id=\"T_e4bbe448_2cf0_11eb_a24e_0242ac1c0002level0_row33\" class=\"row_heading level0 row33\" >Andaman and Nicobar Islands</th>\n",
       "                        <td id=\"T_e4bbe448_2cf0_11eb_a24e_0242ac1c0002row33_col0\" class=\"data row33 col0\" >148</td>\n",
       "            </tr>\n",
       "            <tr>\n",
       "                        <th id=\"T_e4bbe448_2cf0_11eb_a24e_0242ac1c0002level0_row34\" class=\"row_heading level0 row34\" >Dadra and Nagar Haveli and Daman and Diu</th>\n",
       "                        <td id=\"T_e4bbe448_2cf0_11eb_a24e_0242ac1c0002row34_col0\" class=\"data row34 col0\" >39</td>\n",
       "            </tr>\n",
       "            <tr>\n",
       "                        <th id=\"T_e4bbe448_2cf0_11eb_a24e_0242ac1c0002level0_row35\" class=\"row_heading level0 row35\" >Lakshadweep</th>\n",
       "                        <td id=\"T_e4bbe448_2cf0_11eb_a24e_0242ac1c0002row35_col0\" class=\"data row35 col0\" >0</td>\n",
       "            </tr>\n",
       "    </tbody></table>"
      ],
      "text/plain": [
       "<pandas.io.formats.style.Styler at 0x7fa23c794b00>"
      ]
     },
     "execution_count": 8,
     "metadata": {
      "tags": []
     },
     "output_type": "execute_result"
    }
   ],
   "source": [
    "Total_case.style.background_gradient(cmap ='Greens')"
   ]
  },
  {
   "cell_type": "markdown",
   "metadata": {},
   "source": [
    "# Confirmed vs Recovered"
   ]
  },
  {
   "cell_type": "code",
   "execution_count": 9,
   "metadata": {
    "colab": {
     "base_uri": "https://localhost:8080/",
     "height": 497
    },
    "executionInfo": {
     "elapsed": 2021,
     "status": "ok",
     "timestamp": 1606069883986,
     "user": {
      "displayName": "Saloni Bansal",
      "photoUrl": "",
      "userId": "02261793113701121216"
     },
     "user_tz": -330
    },
    "id": "GexepitVOV2R",
    "outputId": "c7c47d5a-ab76-4e37-e0fb-e4a9a8fe563e"
   },
   "outputs": [
    {
     "data": {
      "image/png": "[encoded data removed]",
      "text/plain": [
       "<Figure size 864x576 with 1 Axes>"
      ]
     },
     "metadata": {
      "needs_background": "light",
      "tags": []
     },
     "output_type": "display_data"
    }
   ],
   "source": [
    "f,ax=plt.subplots(figsize=(12,8))\n",
    "df.sort_values('Confirmed',ascending=False,inplace=True)\n",
    "sns.set_color_codes('pastel')\n",
    "sns.barplot(x='Confirmed',y='Province_State',data = df,color='g')\n",
    "sns.set_color_codes('muted')\n",
    "sns.barplot(x='Recovered',y='Province_State',data = df,color='r')\n",
    "\n",
    "ax.set(xlim=(0,2000000),xlabel='Cases')\n",
    "sns.despine(left=True,bottom=True)"
   ]
  },
  {
   "cell_type": "markdown",
   "metadata": {},
   "source": [
    "# Total_Cases per day"
   ]
  },
  {
   "cell_type": "code",
   "execution_count": 10,
   "metadata": {
    "colab": {
     "base_uri": "https://localhost:8080/",
     "height": 204
    },
    "executionInfo": {
     "elapsed": 1209,
     "status": "ok",
     "timestamp": 1606069892444,
     "user": {
      "displayName": "Saloni Bansal",
      "photoUrl": "",
      "userId": "02261793113701121216"
     },
     "user_tz": -330
    },
    "id": "zfwTYW7_OYt5",
    "outputId": "4421922a-af19-4ed0-93a9-325ec65f6597"
   },
   "outputs": [
    {
     "data": {
      "text/html": [
       "<div>\n",
       "<style scoped>\n",
       "    .dataframe tbody tr th:only-of-type {\n",
       "        vertical-align: middle;\n",
       "    }\n",
       "\n",
       "    .dataframe tbody tr th {\n",
       "        vertical-align: top;\n",
       "    }\n",
       "\n",
       "    .dataframe thead th {\n",
       "        text-align: right;\n",
       "    }\n",
       "</style>\n",
       "<table border=\"1\" class=\"dataframe\">\n",
       "  <thead>\n",
       "    <tr style=\"text-align: right;\">\n",
       "      <th></th>\n",
       "      <th>date</th>\n",
       "      <th>India</th>\n",
       "      <th>United States</th>\n",
       "      <th>Italy</th>\n",
       "      <th>China</th>\n",
       "    </tr>\n",
       "  </thead>\n",
       "  <tbody>\n",
       "    <tr>\n",
       "      <th>0</th>\n",
       "      <td>2/1/2020</td>\n",
       "      <td>1.0</td>\n",
       "      <td>7</td>\n",
       "      <td>3</td>\n",
       "      <td>11809</td>\n",
       "    </tr>\n",
       "    <tr>\n",
       "      <th>1</th>\n",
       "      <td>2/2/2020</td>\n",
       "      <td>2.0</td>\n",
       "      <td>8</td>\n",
       "      <td>3</td>\n",
       "      <td>14399</td>\n",
       "    </tr>\n",
       "    <tr>\n",
       "      <th>2</th>\n",
       "      <td>2/3/2020</td>\n",
       "      <td>2.0</td>\n",
       "      <td>11</td>\n",
       "      <td>3</td>\n",
       "      <td>17211</td>\n",
       "    </tr>\n",
       "    <tr>\n",
       "      <th>3</th>\n",
       "      <td>2/4/2020</td>\n",
       "      <td>3.0</td>\n",
       "      <td>11</td>\n",
       "      <td>3</td>\n",
       "      <td>20448</td>\n",
       "    </tr>\n",
       "    <tr>\n",
       "      <th>4</th>\n",
       "      <td>2/5/2020</td>\n",
       "      <td>3.0</td>\n",
       "      <td>11</td>\n",
       "      <td>3</td>\n",
       "      <td>24320</td>\n",
       "    </tr>\n",
       "  </tbody>\n",
       "</table>\n",
       "</div>"
      ],
      "text/plain": [
       "       date  India  United States  Italy  China\n",
       "0  2/1/2020    1.0              7      3  11809\n",
       "1  2/2/2020    2.0              8      3  14399\n",
       "2  2/3/2020    2.0             11      3  17211\n",
       "3  2/4/2020    3.0             11      3  20448\n",
       "4  2/5/2020    3.0             11      3  24320"
      ]
     },
     "execution_count": 10,
     "metadata": {
      "tags": []
     },
     "output_type": "execute_result"
    }
   ],
   "source": [
    "Cases_perday = pd.read_csv('Case_perday.csv')\n",
    "Cases_perday.head()"
   ]
  },
  {
   "cell_type": "markdown",
   "metadata": {},
   "source": [
    "# Visualizing trend of total_cases per day for - India, US, China and Italy"
   ]
  },
  {
   "cell_type": "code",
   "execution_count": 11,
   "metadata": {
    "colab": {
     "base_uri": "https://localhost:8080/",
     "height": 1000
    },
    "executionInfo": {
     "elapsed": 3145,
     "status": "ok",
     "timestamp": 1606069907971,
     "user": {
      "displayName": "Saloni Bansal",
      "photoUrl": "",
      "userId": "02261793113701121216"
     },
     "user_tz": -330
    },
    "id": "oO1KjLhEOa_L",
    "outputId": "335da5f8-042d-47d3-c837-8485394b1302"
   },
   "outputs": [
    {
     "data": {
      "text/html": [
       "<html>\n",
       "<head><meta charset=\"utf-8\" /></head>\n",
       "<body>\n",
       "    <div>\n",
       "            <script src=\"https://cdnjs.cloudflare.com/ajax/libs/mathjax/2.7.5/MathJax.js?config=TeX-AMS-MML_SVG\"></script><script type=\"text/javascript\">if (window.MathJax) {MathJax.Hub.Config({SVG: {font: \"STIX-Web\"}});}</script>\n",
       "                <script type=\"text/javascript\">window.PlotlyConfig = {MathJaxConfig: 'local'};</script>\n",
       "        <script src=\"https://cdn.plot.ly/plotly-latest.min.js\"></script>    \n",
       "            <div id=\"8bcdff3f-d225-444f-8ee1-f5e7c24ac94d\" class=\"plotly-graph-div\" style=\"height:400px; width:100%;\"></div>\n",
       "            <script type=\"text/javascript\">\n",
       "                \n",
       "                    window.PLOTLYENV=window.PLOTLYENV || {};\n",
       "                    \n",
       "                if (document.getElementById(\"8bcdff3f-d225-444f-8ee1-f5e7c24ac94d\")) {\n",
       "                    Plotly.newPlot(\n",
       "                        '8bcdff3f-d225-444f-8ee1-f5e7c24ac94d',\n",
       "                        [{\"alignmentgroup\": \"True\", \"hoverlabel\": {\"namelength\": 0}, \"hovertemplate\": \"date=%{x}<br>India=%{marker.color}\", \"legendgroup\": \"\", \"marker\": {\"color\": [1.0, 2.0, 2.0, 3.0, 3.0, 3.0, 3.0, 3.0, 3.0, 3.0, 3.0, 3.0, 3.0, 3.0, 3.0, 3.0, 3.0, 3.0, 3.0, 3.0, 3.0, 3.0, 3.0, 3.0, 3.0, 3.0, 3.0, 3.0, 3.0, 3.0, 3.0, 5.0, 6.0, 28.0, 29.0, 31.0, 34.0, null, 44.0, 50.0, 73.0, 75.0, 83.0, 90.0, 93.0, 125.0, 137.0, 165.0, 191.0, 231.0, 320.0, 439.0, 492.0, 562.0, 649.0, 724.0, 873.0, 979.0, 1071.0, 1251.0, 1397.0, 1965.0, 2301.0, 2902.0, 3374.0, 4067.0, 4421.0, 5194.0, 5734.0, 6412.0, 7447.0, 8356.0, 9152.0, 10363.0, 11438.0, 12380.0, 13387.0, 14378.0, 15712.0, 17265.0, 18600.0, 19984.0, 21393.0, 23077.0, 24506.0, 26496.0, 27892.0, 29435.0, 31332.0, 33050.0, 35043.0, 37336.0, 39980.0, 42533.0, 46433.0, 49391.0, 52952.0, 56342.0, 59662.0, 62939.0, 67152.0, 70756.0, 74281.0, 78003.0, 81970.0, 85940.0, 90927.0, 96169.0, 101139.0, 106750.0, 112359.0, 118447.0, 125101.0, 131868.0, 138845.0, 145380.0, 151767.0, 158333.0, 165799.0, 173763.0, 182143.0, 190535.0, 198706.0, 207615.0, 216919.0, 226770.0, 236657.0, 246628.0, 256611.0, 266598.0, 276583.0, 286579.0, 297535.0, 308993.0, 320922.0, 332424.0, 343091.0, 354065.0, 366946.0, 380532.0, 395048.0, 410461.0, 425282.0, 440215.0, 456183.0, 473105.0, 490401.0, 508953.0, 528859.0, 548318.0, 566840.0, 585493.0, 604641.0, 625544.0, 648315.0, 673165.0, 697413.0, 719665.0, 742417.0, 767296.0, 793802.0, 820916.0, 849553.0, 878254.0, 906752.0, 936181.0, 968876.0, 1003832.0, 1038716.0, 1077618.0, 1118043.0, 1155191.0, 1192915.0, 1238635.0, 1287945.0, 1336861.0, 1385522.0, 1435453.0, 1483156.0, 1531669.0, 1583792.0, 1638870.0, 1695988.0, 1750723.0, 1803695.0, 1855745.0, 1908254.0, 1964536.0, 2027074.0, 2088611.0, 2153010.0, 2215074.0, 2268675.0, 2329638.0, 2396637.0, 2461190.0, 2526192.0, 2589682.0, 2647663.0, 2702742.0, 2767273.0, 2836925.0, 2905823.0, 2975701.0, 3044940.0, 3106348.0, 3167323.0, 3234474.0, 3310234.0, 3387500.0, 3463972.0, 3542733.0, 3621245.0, 3691166.0, 3769523.0, 3853406.0, 3936747.0, 4023179.0, 4113811.0, 4204613.0, 4280422.0, 4370128.0, 4465863.0, 4562414.0, 4659984.0, 4754356.0, 4846427.0, 4930236.0, 5020359.0, 5118253.0, 5214677.0, 5308014.0, 5400619.0, 5487580.0, 5562663.0, 5646010.0, 5732518.0, 5818570.0, 5903932.0, 5992532.0, 6074702.0, 6145291.0, 6225763.0, 6312584.0, 6394068.0, 6473544.0, 6549373.0, 6623815.0, 6685082.0, 6757131.0, 6835655.0, 6906151.0, 6979423.0, 7053806.0, 7120538.0, 7175880.0, 7239389.0, 7307097.0, 7370468.0, 7432680.0, 7494551.0, 7550273.0, 7597063.0, 7651107.0, 7706946.0, 7761312.0, 7814682.0, 7864811.0, 7909959.0, 7946429.0, 7990322.0, 8040203.0, 8088851.0, 8137119.0, 8184082.0, 8229313.0, 8267623.0, 8313876.0, 8364086.0, 8411724.0, 8462080.0, 8507754.0, 8553657.0, 8591730.0, 8636011.0, 8683916.0, 8728795.0, 8773479.0, 8814579.0, 8845127.0, 8874290.0, 8912907.0, 8958483.0, 9004365.0, 9050597.0], \"coloraxis\": \"coloraxis\"}, \"name\": \"\", \"offsetgroup\": \"\", \"orientation\": \"v\", \"showlegend\": false, \"textposition\": \"auto\", \"type\": \"bar\", \"x\": [\"2/1/2020\", \"2/2/2020\", \"2/3/2020\", \"2/4/2020\", \"2/5/2020\", \"2/6/2020\", \"2/7/2020\", \"2/8/2020\", \"2/9/2020\", \"2/10/2020\", \"2/11/2020\", \"2/12/2020\", \"2/13/2020\", \"2/14/2020\", \"2/15/2020\", \"2/16/2020\", \"2/17/2020\", \"2/18/2020\", \"2/19/2020\", \"2/20/2020\", \"2/21/2020\", \"2/22/2020\", \"2/23/2020\", \"2/24/2020\", \"2/25/2020\", \"2/26/2020\", \"2/27/2020\", \"2/28/2020\", \"2/29/2020\", \"3/1/2020\", \"3/2/2020\", \"3/3/2020\", \"3/4/2020\", \"3/5/2020\", \"3/6/2020\", \"3/7/2020\", \"3/8/2020\", \"3/9/2020\", \"3/10/2020\", \"3/11/2020\", \"3/12/2020\", \"3/13/2020\", \"3/14/2020\", \"3/15/2020\", \"3/16/2020\", \"3/17/2020\", \"3/18/2020\", \"3/19/2020\", \"3/20/2020\", \"3/21/2020\", \"3/22/2020\", \"3/23/2020\", \"3/24/2020\", \"3/25/2020\", \"3/26/2020\", \"3/27/2020\", \"3/28/2020\", \"3/29/2020\", \"3/30/2020\", \"3/31/2020\", \"4/1/2020\", \"4/2/2020\", \"4/3/2020\", \"4/4/2020\", \"4/5/2020\", \"4/6/2020\", \"4/7/2020\", \"4/8/2020\", \"4/9/2020\", \"4/10/2020\", \"4/11/2020\", \"4/12/2020\", \"4/13/2020\", \"4/14/2020\", \"4/15/2020\", \"4/16/2020\", \"4/17/2020\", \"4/18/2020\", \"4/19/2020\", \"4/20/2020\", \"4/21/2020\", \"4/22/2020\", \"4/23/2020\", \"4/24/2020\", \"4/25/2020\", \"4/26/2020\", \"4/27/2020\", \"4/28/2020\", \"4/29/2020\", \"4/30/2020\", \"5/1/2020\", \"5/2/2020\", \"5/3/2020\", \"5/4/2020\", \"5/5/2020\", \"5/6/2020\", \"5/7/2020\", \"5/8/2020\", \"5/9/2020\", \"5/10/2020\", \"5/11/2020\", \"5/12/2020\", \"5/13/2020\", \"5/14/2020\", \"5/15/2020\", \"5/16/2020\", \"5/17/2020\", \"5/18/2020\", \"5/19/2020\", \"5/20/2020\", \"5/21/2020\", \"5/22/2020\", \"5/23/2020\", \"5/24/2020\", \"5/25/2020\", \"5/26/2020\", \"5/27/2020\", \"5/28/2020\", \"5/29/2020\", \"5/30/2020\", \"5/31/2020\", \"6/1/2020\", \"6/2/2020\", \"6/3/2020\", \"6/4/2020\", \"6/5/2020\", \"6/6/2020\", \"6/7/2020\", \"6/8/2020\", \"6/9/2020\", \"6/10/2020\", \"6/11/2020\", \"6/12/2020\", \"6/13/2020\", \"6/14/2020\", \"6/15/2020\", \"6/16/2020\", \"6/17/2020\", \"6/18/2020\", \"6/19/2020\", \"6/20/2020\", \"6/21/2020\", \"6/22/2020\", \"6/23/2020\", \"6/24/2020\", \"6/25/2020\", \"6/26/2020\", \"6/27/2020\", \"6/28/2020\", \"6/29/2020\", \"6/30/2020\", \"7/1/2020\", \"7/2/2020\", \"7/3/2020\", \"7/4/2020\", \"7/5/2020\", \"7/6/2020\", \"7/7/2020\", \"7/8/2020\", \"7/9/2020\", \"7/10/2020\", \"7/11/2020\", \"7/12/2020\", \"7/13/2020\", \"7/14/2020\", \"7/15/2020\", \"7/16/2020\", \"7/17/2020\", \"7/18/2020\", \"7/19/2020\", \"7/20/2020\", \"7/21/2020\", \"7/22/2020\", \"7/23/2020\", \"7/24/2020\", \"7/25/2020\", \"7/26/2020\", \"7/27/2020\", \"7/28/2020\", \"7/29/2020\", \"7/30/2020\", \"7/31/2020\", \"8/1/2020\", \"8/2/2020\", \"8/3/2020\", \"8/4/2020\", \"8/5/2020\", \"8/6/2020\", \"8/7/2020\", \"8/8/2020\", \"8/9/2020\", \"8/10/2020\", \"8/11/2020\", \"8/12/2020\", \"8/13/2020\", \"8/14/2020\", \"8/15/2020\", \"8/16/2020\", \"8/17/2020\", \"8/18/2020\", \"8/19/2020\", \"8/20/2020\", \"8/21/2020\", \"8/22/2020\", \"8/23/2020\", \"8/24/2020\", \"8/25/2020\", \"8/26/2020\", \"8/27/2020\", \"8/28/2020\", \"8/29/2020\", \"8/30/2020\", \"8/31/2020\", \"9/1/2020\", \"9/2/2020\", \"9/3/2020\", \"9/4/2020\", \"9/5/2020\", \"9/6/2020\", \"9/7/2020\", \"9/8/2020\", \"9/9/2020\", \"9/10/2020\", \"9/11/2020\", \"9/12/2020\", \"9/13/2020\", \"9/14/2020\", \"9/15/2020\", \"9/16/2020\", \"9/17/2020\", \"9/18/2020\", \"9/19/2020\", \"9/20/2020\", \"9/21/2020\", \"9/22/2020\", \"9/23/2020\", \"9/24/2020\", \"9/25/2020\", \"9/26/2020\", \"9/27/2020\", \"9/28/2020\", \"9/29/2020\", \"9/30/2020\", \"10/1/2020\", \"10/2/2020\", \"10/3/2020\", \"10/4/2020\", \"10/5/2020\", \"10/6/2020\", \"10/7/2020\", \"10/8/2020\", \"10/9/2020\", \"10/10/2020\", \"10/11/2020\", \"10/12/2020\", \"10/13/2020\", \"10/14/2020\", \"10/15/2020\", \"10/16/2020\", \"10/17/2020\", \"10/18/2020\", \"10/19/2020\", \"10/20/2020\", \"10/21/2020\", \"10/22/2020\", \"10/23/2020\", \"10/24/2020\", \"10/25/2020\", \"10/26/2020\", \"10/27/2020\", \"10/28/2020\", \"10/29/2020\", \"10/30/2020\", \"10/31/2020\", \"11/1/2020\", \"11/2/2020\", \"11/3/2020\", \"11/4/2020\", \"11/5/2020\", \"11/6/2020\", \"11/7/2020\", \"11/8/2020\", \"11/9/2020\", \"11/10/2020\", \"11/11/2020\", \"11/12/2020\", \"11/13/2020\", \"11/14/2020\", \"11/15/2020\", \"11/16/2020\", \"11/17/2020\", \"11/18/2020\", \"11/19/2020\", \"11/20/2020\", \"11/21/2020\"], \"xaxis\": \"x\", \"y\": [1.0, 2.0, 2.0, 3.0, 3.0, 3.0, 3.0, 3.0, 3.0, 3.0, 3.0, 3.0, 3.0, 3.0, 3.0, 3.0, 3.0, 3.0, 3.0, 3.0, 3.0, 3.0, 3.0, 3.0, 3.0, 3.0, 3.0, 3.0, 3.0, 3.0, 3.0, 5.0, 6.0, 28.0, 29.0, 31.0, 34.0, null, 44.0, 50.0, 73.0, 75.0, 83.0, 90.0, 93.0, 125.0, 137.0, 165.0, 191.0, 231.0, 320.0, 439.0, 492.0, 562.0, 649.0, 724.0, 873.0, 979.0, 1071.0, 1251.0, 1397.0, 1965.0, 2301.0, 2902.0, 3374.0, 4067.0, 4421.0, 5194.0, 5734.0, 6412.0, 7447.0, 8356.0, 9152.0, 10363.0, 11438.0, 12380.0, 13387.0, 14378.0, 15712.0, 17265.0, 18600.0, 19984.0, 21393.0, 23077.0, 24506.0, 26496.0, 27892.0, 29435.0, 31332.0, 33050.0, 35043.0, 37336.0, 39980.0, 42533.0, 46433.0, 49391.0, 52952.0, 56342.0, 59662.0, 62939.0, 67152.0, 70756.0, 74281.0, 78003.0, 81970.0, 85940.0, 90927.0, 96169.0, 101139.0, 106750.0, 112359.0, 118447.0, 125101.0, 131868.0, 138845.0, 145380.0, 151767.0, 158333.0, 165799.0, 173763.0, 182143.0, 190535.0, 198706.0, 207615.0, 216919.0, 226770.0, 236657.0, 246628.0, 256611.0, 266598.0, 276583.0, 286579.0, 297535.0, 308993.0, 320922.0, 332424.0, 343091.0, 354065.0, 366946.0, 380532.0, 395048.0, 410461.0, 425282.0, 440215.0, 456183.0, 473105.0, 490401.0, 508953.0, 528859.0, 548318.0, 566840.0, 585493.0, 604641.0, 625544.0, 648315.0, 673165.0, 697413.0, 719665.0, 742417.0, 767296.0, 793802.0, 820916.0, 849553.0, 878254.0, 906752.0, 936181.0, 968876.0, 1003832.0, 1038716.0, 1077618.0, 1118043.0, 1155191.0, 1192915.0, 1238635.0, 1287945.0, 1336861.0, 1385522.0, 1435453.0, 1483156.0, 1531669.0, 1583792.0, 1638870.0, 1695988.0, 1750723.0, 1803695.0, 1855745.0, 1908254.0, 1964536.0, 2027074.0, 2088611.0, 2153010.0, 2215074.0, 2268675.0, 2329638.0, 2396637.0, 2461190.0, 2526192.0, 2589682.0, 2647663.0, 2702742.0, 2767273.0, 2836925.0, 2905823.0, 2975701.0, 3044940.0, 3106348.0, 3167323.0, 3234474.0, 3310234.0, 3387500.0, 3463972.0, 3542733.0, 3621245.0, 3691166.0, 3769523.0, 3853406.0, 3936747.0, 4023179.0, 4113811.0, 4204613.0, 4280422.0, 4370128.0, 4465863.0, 4562414.0, 4659984.0, 4754356.0, 4846427.0, 4930236.0, 5020359.0, 5118253.0, 5214677.0, 5308014.0, 5400619.0, 5487580.0, 5562663.0, 5646010.0, 5732518.0, 5818570.0, 5903932.0, 5992532.0, 6074702.0, 6145291.0, 6225763.0, 6312584.0, 6394068.0, 6473544.0, 6549373.0, 6623815.0, 6685082.0, 6757131.0, 6835655.0, 6906151.0, 6979423.0, 7053806.0, 7120538.0, 7175880.0, 7239389.0, 7307097.0, 7370468.0, 7432680.0, 7494551.0, 7550273.0, 7597063.0, 7651107.0, 7706946.0, 7761312.0, 7814682.0, 7864811.0, 7909959.0, 7946429.0, 7990322.0, 8040203.0, 8088851.0, 8137119.0, 8184082.0, 8229313.0, 8267623.0, 8313876.0, 8364086.0, 8411724.0, 8462080.0, 8507754.0, 8553657.0, 8591730.0, 8636011.0, 8683916.0, 8728795.0, 8773479.0, 8814579.0, 8845127.0, 8874290.0, 8912907.0, 8958483.0, 9004365.0, 9050597.0], \"yaxis\": \"y\"}],\n",
       "                        {\"barmode\": \"relative\", \"coloraxis\": {\"colorbar\": {\"title\": {\"text\": \"India\"}}, \"colorscale\": [[0.0, \"#0d0887\"], [0.1111111111111111, \"#46039f\"], [0.2222222222222222, \"#7201a8\"], [0.3333333333333333, \"#9c179e\"], [0.4444444444444444, \"#bd3786\"], [0.5555555555555556, \"#d8576b\"], [0.6666666666666666, \"#ed7953\"], [0.7777777777777778, \"#fb9f3a\"], [0.8888888888888888, \"#fdca26\"], [1.0, \"#f0f921\"]]}, \"height\": 400, \"legend\": {\"tracegroupgap\": 0}, \"plot_bgcolor\": \"rgb(230,230,230)\", \"template\": {\"data\": {\"bar\": [{\"error_x\": {\"color\": \"#2a3f5f\"}, \"error_y\": {\"color\": \"#2a3f5f\"}, \"marker\": {\"line\": {\"color\": \"#E5ECF6\", \"width\": 0.5}}, \"type\": \"bar\"}], \"barpolar\": [{\"marker\": {\"line\": {\"color\": \"#E5ECF6\", \"width\": 0.5}}, \"type\": \"barpolar\"}], \"carpet\": [{\"aaxis\": {\"endlinecolor\": \"#2a3f5f\", \"gridcolor\": \"white\", \"linecolor\": \"white\", \"minorgridcolor\": \"white\", \"startlinecolor\": \"#2a3f5f\"}, \"baxis\": {\"endlinecolor\": \"#2a3f5f\", \"gridcolor\": \"white\", \"linecolor\": \"white\", \"minorgridcolor\": \"white\", \"startlinecolor\": \"#2a3f5f\"}, \"type\": \"carpet\"}], \"choropleth\": [{\"colorbar\": {\"outlinewidth\": 0, \"ticks\": \"\"}, \"type\": \"choropleth\"}], \"contour\": [{\"colorbar\": {\"outlinewidth\": 0, \"ticks\": \"\"}, \"colorscale\": [[0.0, \"#0d0887\"], [0.1111111111111111, \"#46039f\"], [0.2222222222222222, \"#7201a8\"], [0.3333333333333333, \"#9c179e\"], [0.4444444444444444, \"#bd3786\"], [0.5555555555555556, \"#d8576b\"], [0.6666666666666666, \"#ed7953\"], [0.7777777777777778, \"#fb9f3a\"], [0.8888888888888888, \"#fdca26\"], [1.0, \"#f0f921\"]], \"type\": \"contour\"}], \"contourcarpet\": [{\"colorbar\": {\"outlinewidth\": 0, \"ticks\": \"\"}, \"type\": \"contourcarpet\"}], \"heatmap\": [{\"colorbar\": {\"outlinewidth\": 0, \"ticks\": \"\"}, \"colorscale\": [[0.0, \"#0d0887\"], [0.1111111111111111, \"#46039f\"], [0.2222222222222222, \"#7201a8\"], [0.3333333333333333, \"#9c179e\"], [0.4444444444444444, \"#bd3786\"], [0.5555555555555556, \"#d8576b\"], [0.6666666666666666, \"#ed7953\"], [0.7777777777777778, \"#fb9f3a\"], [0.8888888888888888, \"#fdca26\"], [1.0, \"#f0f921\"]], \"type\": \"heatmap\"}], \"heatmapgl\": [{\"colorbar\": {\"outlinewidth\": 0, \"ticks\": \"\"}, \"colorscale\": [[0.0, \"#0d0887\"], [0.1111111111111111, \"#46039f\"], [0.2222222222222222, \"#7201a8\"], [0.3333333333333333, \"#9c179e\"], [0.4444444444444444, \"#bd3786\"], [0.5555555555555556, \"#d8576b\"], [0.6666666666666666, \"#ed7953\"], [0.7777777777777778, \"#fb9f3a\"], [0.8888888888888888, \"#fdca26\"], [1.0, \"#f0f921\"]], \"type\": \"heatmapgl\"}], \"histogram\": [{\"marker\": {\"colorbar\": {\"outlinewidth\": 0, \"ticks\": \"\"}}, \"type\": \"histogram\"}], \"histogram2d\": [{\"colorbar\": {\"outlinewidth\": 0, \"ticks\": \"\"}, \"colorscale\": [[0.0, \"#0d0887\"], [0.1111111111111111, \"#46039f\"], [0.2222222222222222, \"#7201a8\"], [0.3333333333333333, \"#9c179e\"], [0.4444444444444444, \"#bd3786\"], [0.5555555555555556, \"#d8576b\"], [0.6666666666666666, \"#ed7953\"], [0.7777777777777778, \"#fb9f3a\"], [0.8888888888888888, \"#fdca26\"], [1.0, \"#f0f921\"]], \"type\": \"histogram2d\"}], \"histogram2dcontour\": [{\"colorbar\": {\"outlinewidth\": 0, \"ticks\": \"\"}, \"colorscale\": [[0.0, \"#0d0887\"], [0.1111111111111111, \"#46039f\"], [0.2222222222222222, \"#7201a8\"], [0.3333333333333333, \"#9c179e\"], [0.4444444444444444, \"#bd3786\"], [0.5555555555555556, \"#d8576b\"], [0.6666666666666666, \"#ed7953\"], [0.7777777777777778, \"#fb9f3a\"], [0.8888888888888888, \"#fdca26\"], [1.0, \"#f0f921\"]], \"type\": \"histogram2dcontour\"}], \"mesh3d\": [{\"colorbar\": {\"outlinewidth\": 0, \"ticks\": \"\"}, \"type\": \"mesh3d\"}], \"parcoords\": [{\"line\": {\"colorbar\": {\"outlinewidth\": 0, \"ticks\": \"\"}}, \"type\": \"parcoords\"}], \"pie\": [{\"automargin\": true, \"type\": \"pie\"}], \"scatter\": [{\"marker\": {\"colorbar\": {\"outlinewidth\": 0, \"ticks\": \"\"}}, \"type\": \"scatter\"}], \"scatter3d\": [{\"line\": {\"colorbar\": {\"outlinewidth\": 0, \"ticks\": \"\"}}, \"marker\": {\"colorbar\": {\"outlinewidth\": 0, \"ticks\": \"\"}}, \"type\": \"scatter3d\"}], \"scattercarpet\": [{\"marker\": {\"colorbar\": {\"outlinewidth\": 0, \"ticks\": \"\"}}, \"type\": \"scattercarpet\"}], \"scattergeo\": [{\"marker\": {\"colorbar\": {\"outlinewidth\": 0, \"ticks\": \"\"}}, \"type\": \"scattergeo\"}], \"scattergl\": [{\"marker\": {\"colorbar\": {\"outlinewidth\": 0, \"ticks\": \"\"}}, \"type\": \"scattergl\"}], \"scattermapbox\": [{\"marker\": {\"colorbar\": {\"outlinewidth\": 0, \"ticks\": \"\"}}, \"type\": \"scattermapbox\"}], \"scatterpolar\": [{\"marker\": {\"colorbar\": {\"outlinewidth\": 0, \"ticks\": \"\"}}, \"type\": \"scatterpolar\"}], \"scatterpolargl\": [{\"marker\": {\"colorbar\": {\"outlinewidth\": 0, \"ticks\": \"\"}}, \"type\": \"scatterpolargl\"}], \"scatterternary\": [{\"marker\": {\"colorbar\": {\"outlinewidth\": 0, \"ticks\": \"\"}}, \"type\": \"scatterternary\"}], \"surface\": [{\"colorbar\": {\"outlinewidth\": 0, \"ticks\": \"\"}, \"colorscale\": [[0.0, \"#0d0887\"], [0.1111111111111111, \"#46039f\"], [0.2222222222222222, \"#7201a8\"], [0.3333333333333333, \"#9c179e\"], [0.4444444444444444, \"#bd3786\"], [0.5555555555555556, \"#d8576b\"], [0.6666666666666666, \"#ed7953\"], [0.7777777777777778, \"#fb9f3a\"], [0.8888888888888888, \"#fdca26\"], [1.0, \"#f0f921\"]], \"type\": \"surface\"}], \"table\": [{\"cells\": {\"fill\": {\"color\": \"#EBF0F8\"}, \"line\": {\"color\": \"white\"}}, \"header\": {\"fill\": {\"color\": \"#C8D4E3\"}, \"line\": {\"color\": \"white\"}}, \"type\": \"table\"}]}, \"layout\": {\"annotationdefaults\": {\"arrowcolor\": \"#2a3f5f\", \"arrowhead\": 0, \"arrowwidth\": 1}, \"coloraxis\": {\"colorbar\": {\"outlinewidth\": 0, \"ticks\": \"\"}}, \"colorscale\": {\"diverging\": [[0, \"#8e0152\"], [0.1, \"#c51b7d\"], [0.2, \"#de77ae\"], [0.3, \"#f1b6da\"], [0.4, \"#fde0ef\"], [0.5, \"#f7f7f7\"], [0.6, \"#e6f5d0\"], [0.7, \"#b8e186\"], [0.8, \"#7fbc41\"], [0.9, \"#4d9221\"], [1, \"#276419\"]], \"sequential\": [[0.0, \"#0d0887\"], [0.1111111111111111, \"#46039f\"], [0.2222222222222222, \"#7201a8\"], [0.3333333333333333, \"#9c179e\"], [0.4444444444444444, \"#bd3786\"], [0.5555555555555556, \"#d8576b\"], [0.6666666666666666, \"#ed7953\"], [0.7777777777777778, \"#fb9f3a\"], [0.8888888888888888, \"#fdca26\"], [1.0, \"#f0f921\"]], \"sequentialminus\": [[0.0, \"#0d0887\"], [0.1111111111111111, \"#46039f\"], [0.2222222222222222, \"#7201a8\"], [0.3333333333333333, \"#9c179e\"], [0.4444444444444444, \"#bd3786\"], [0.5555555555555556, \"#d8576b\"], [0.6666666666666666, \"#ed7953\"], [0.7777777777777778, \"#fb9f3a\"], [0.8888888888888888, \"#fdca26\"], [1.0, \"#f0f921\"]]}, \"colorway\": [\"#636efa\", \"#EF553B\", \"#00cc96\", \"#ab63fa\", \"#FFA15A\", \"#19d3f3\", \"#FF6692\", \"#B6E880\", \"#FF97FF\", \"#FECB52\"], \"font\": {\"color\": \"#2a3f5f\"}, \"geo\": {\"bgcolor\": \"white\", \"lakecolor\": \"white\", \"landcolor\": \"#E5ECF6\", \"showlakes\": true, \"showland\": true, \"subunitcolor\": \"white\"}, \"hoverlabel\": {\"align\": \"left\"}, \"hovermode\": \"closest\", \"mapbox\": {\"style\": \"light\"}, \"paper_bgcolor\": \"white\", \"plot_bgcolor\": \"#E5ECF6\", \"polar\": {\"angularaxis\": {\"gridcolor\": \"white\", \"linecolor\": \"white\", \"ticks\": \"\"}, \"bgcolor\": \"#E5ECF6\", \"radialaxis\": {\"gridcolor\": \"white\", \"linecolor\": \"white\", \"ticks\": \"\"}}, \"scene\": {\"xaxis\": {\"backgroundcolor\": \"#E5ECF6\", \"gridcolor\": \"white\", \"gridwidth\": 2, \"linecolor\": \"white\", \"showbackground\": true, \"ticks\": \"\", \"zerolinecolor\": \"white\"}, \"yaxis\": {\"backgroundcolor\": \"#E5ECF6\", \"gridcolor\": \"white\", \"gridwidth\": 2, \"linecolor\": \"white\", \"showbackground\": true, \"ticks\": \"\", \"zerolinecolor\": \"white\"}, \"zaxis\": {\"backgroundcolor\": \"#E5ECF6\", \"gridcolor\": \"white\", \"gridwidth\": 2, \"linecolor\": \"white\", \"showbackground\": true, \"ticks\": \"\", \"zerolinecolor\": \"white\"}}, \"shapedefaults\": {\"line\": {\"color\": \"#2a3f5f\"}}, \"ternary\": {\"aaxis\": {\"gridcolor\": \"white\", \"linecolor\": \"white\", \"ticks\": \"\"}, \"baxis\": {\"gridcolor\": \"white\", \"linecolor\": \"white\", \"ticks\": \"\"}, \"bgcolor\": \"#E5ECF6\", \"caxis\": {\"gridcolor\": \"white\", \"linecolor\": \"white\", \"ticks\": \"\"}}, \"title\": {\"x\": 0.05}, \"xaxis\": {\"automargin\": true, \"gridcolor\": \"white\", \"linecolor\": \"white\", \"ticks\": \"\", \"title\": {\"standoff\": 15}, \"zerolinecolor\": \"white\", \"zerolinewidth\": 2}, \"yaxis\": {\"automargin\": true, \"gridcolor\": \"white\", \"linecolor\": \"white\", \"ticks\": \"\", \"title\": {\"standoff\": 15}, \"zerolinecolor\": \"white\", \"zerolinewidth\": 2}}}, \"title\": {\"text\": \"Covid 19 cases in India per day\"}, \"xaxis\": {\"anchor\": \"y\", \"domain\": [0.0, 1.0], \"title\": {\"text\": \"date\"}}, \"yaxis\": {\"anchor\": \"x\", \"domain\": [0.0, 1.0], \"title\": {\"text\": \"India\"}}},\n",
       "                        {\"responsive\": true}\n",
       "                    ).then(function(){\n",
       "                            \n",
       "var gd = document.getElementById('8bcdff3f-d225-444f-8ee1-f5e7c24ac94d');\n",
       "var x = new MutationObserver(function (mutations, observer) {{\n",
       "        var display = window.getComputedStyle(gd).display;\n",
       "        if (!display || display === 'none') {{\n",
       "            console.log([gd, 'removed!']);\n",
       "            Plotly.purge(gd);\n",
       "            observer.disconnect();\n",
       "        }}\n",
       "}});\n",
       "\n",
       "// Listen for the removal of the full notebook cells\n",
       "var notebookContainer = gd.closest('#notebook-container');\n",
       "if (notebookContainer) {{\n",
       "    x.observe(notebookContainer, {childList: true});\n",
       "}}\n",
       "\n",
       "// Listen for the clearing of the current output cell\n",
       "var outputEl = gd.closest('.output');\n",
       "if (outputEl) {{\n",
       "    x.observe(outputEl, {childList: true});\n",
       "}}\n",
       "\n",
       "                        })\n",
       "                };\n",
       "                \n",
       "            </script>\n",
       "        </div>\n",
       "</body>\n",
       "</html>"
      ]
     },
     "metadata": {
      "tags": []
     },
     "output_type": "display_data"
    },
    {
     "data": {
      "text/html": [
       "<html>\n",
       "<head><meta charset=\"utf-8\" /></head>\n",
       "<body>\n",
       "    <div>\n",
       "            <script src=\"https://cdnjs.cloudflare.com/ajax/libs/mathjax/2.7.5/MathJax.js?config=TeX-AMS-MML_SVG\"></script><script type=\"text/javascript\">if (window.MathJax) {MathJax.Hub.Config({SVG: {font: \"STIX-Web\"}});}</script>\n",
       "                <script type=\"text/javascript\">window.PlotlyConfig = {MathJaxConfig: 'local'};</script>\n",
       "        <script src=\"https://cdn.plot.ly/plotly-latest.min.js\"></script>    \n",
       "            <div id=\"8c45b5ad-87e9-46b7-bbd2-13190ea93b91\" class=\"plotly-graph-div\" style=\"height:400px; width:100%;\"></div>\n",
       "            <script type=\"text/javascript\">\n",
       "                \n",
       "                    window.PLOTLYENV=window.PLOTLYENV || {};\n",
       "                    \n",
       "                if (document.getElementById(\"8c45b5ad-87e9-46b7-bbd2-13190ea93b91\")) {\n",
       "                    Plotly.newPlot(\n",
       "                        '8c45b5ad-87e9-46b7-bbd2-13190ea93b91',\n",
       "                        [{\"alignmentgroup\": \"True\", \"hoverlabel\": {\"namelength\": 0}, \"hovertemplate\": \"date=%{x}<br>United States=%{marker.color}\", \"legendgroup\": \"\", \"marker\": {\"color\": [7, 8, 11, 11, 11, 12, 12, 12, 12, 12, 13, 13, 14, 15, 15, 15, 15, 15, 15, 15, 16, 35, 35, 35, 53, 53, 59, 60, 66, 69, 89, 103, 125, 159, 233, 338, 433, 554, 754, 1025, 1312, 1663, 2174, 2951, 3774, 4661, 6427, 9415, 14250, 19624, 26747, 35206, 46442, 55231, 69194, 85991, 104686, 124665, 143025, 164620, 189618, 216721, 245540, 277965, 312237, 337635, 368196, 398809, 432132, 466033, 501560, 529951, 557571, 582594, 609516, 639664, 671331, 702164, 735086, 759687, 787752, 825041, 842629, 869172, 890524, 939053, 965910, 988451, 1012583, 1039909, 1069826, 1103781, 1133069, 1158041, 1180634, 1204475, 1228603, 1256972, 1283929, 1309541, 1329799, 1347916, 1369964, 1390746, 1417889, 1443397, 1467884, 1486757, 1508598, 1528568, 1551853, 1577287, 1601434, 1622670, 1643238, 1662302, 1681212, 1699933, 1721750, 1747087, 1770384, 1790191, 1811277, 1831821, 1851520, 1872660, 1897838, 1920061, 1942363, 1961185, 1979850, 2000464, 2023347, 2048986, 2074526, 2094069, 2114026, 2137731, 2163290, 2191052, 2220961, 2255119, 2280912, 2312302, 2347022, 2381361, 2422310, 2467837, 2510323, 2548996, 2590552, 2634432, 2686480, 2739879, 2794321, 2839542, 2888635, 2938625, 2996098, 3055004, 3118008, 3184633, 3247684, 3304942, 3363056, 3431574, 3499291, 3576221, 3647715, 3711464, 3773260, 3830010, 3902058, 3970906, 4034102, 4112529, 4178027, 4234020, 4290263, 4351997, 4426982, 4495014, 4562037, 4620444, 4667955, 4713562, 4771087, 4823891, 4883646, 4941796, 4998017, 5044864, 5094394, 5141207, 5197148, 5248242, 5313080, 5361165, 5403269, 5438325, 5482416, 5529842, 5573847, 5623727, 5668105, 5702611, 5740909, 5779028, 5821876, 5867785, 5917439, 5961582, 5997163, 6031013, 6075652, 6114406, 6150655, 6201726, 6245866, 6276421, 6300671, 6327793, 6359720, 6397227, 6445288, 6486108, 6519979, 6554820, 6606293, 6630891, 6674458, 6724667, 6764962, 6804814, 6857967, 6896274, 6934204, 6978417, 7033430, 7078798, 7115046, 7148044, 7191061, 7233043, 7277814, 7332285, 7382944, 7417845, 7458550, 7501612, 7549794, 7606594, 7664676, 7718947, 7762544, 7804197, 7856714, 7916100, 7979885, 8050141, 8106752, 8154595, 8214755, 8273304, 8336282, 8408340, 8493669, 8576725, 8636165, 8704524, 8779653, 8858024, 8946154, 9047427, 9126361, 9207362, 9291245, 9383979, 9486486, 9608922, 9739545, 9860958, 9971651, 10110552, 10257826, 10401132, 10554801, 10739614, 10904891, 11037061, 11205486, 11359802, 11529807, 11717827, 11913944], \"coloraxis\": \"coloraxis\"}, \"name\": \"\", \"offsetgroup\": \"\", \"orientation\": \"v\", \"showlegend\": false, \"textposition\": \"auto\", \"type\": \"bar\", \"x\": [\"2/1/2020\", \"2/2/2020\", \"2/3/2020\", \"2/4/2020\", \"2/5/2020\", \"2/6/2020\", \"2/7/2020\", \"2/8/2020\", \"2/9/2020\", \"2/10/2020\", \"2/11/2020\", \"2/12/2020\", \"2/13/2020\", \"2/14/2020\", \"2/15/2020\", \"2/16/2020\", \"2/17/2020\", \"2/18/2020\", \"2/19/2020\", \"2/20/2020\", \"2/21/2020\", \"2/22/2020\", \"2/23/2020\", \"2/24/2020\", \"2/25/2020\", \"2/26/2020\", \"2/27/2020\", \"2/28/2020\", \"2/29/2020\", \"3/1/2020\", \"3/2/2020\", \"3/3/2020\", \"3/4/2020\", \"3/5/2020\", \"3/6/2020\", \"3/7/2020\", \"3/8/2020\", \"3/9/2020\", \"3/10/2020\", \"3/11/2020\", \"3/12/2020\", \"3/13/2020\", \"3/14/2020\", \"3/15/2020\", \"3/16/2020\", \"3/17/2020\", \"3/18/2020\", \"3/19/2020\", \"3/20/2020\", \"3/21/2020\", \"3/22/2020\", \"3/23/2020\", \"3/24/2020\", \"3/25/2020\", \"3/26/2020\", \"3/27/2020\", \"3/28/2020\", \"3/29/2020\", \"3/30/2020\", \"3/31/2020\", \"4/1/2020\", \"4/2/2020\", \"4/3/2020\", \"4/4/2020\", \"4/5/2020\", \"4/6/2020\", \"4/7/2020\", \"4/8/2020\", \"4/9/2020\", \"4/10/2020\", \"4/11/2020\", \"4/12/2020\", \"4/13/2020\", \"4/14/2020\", \"4/15/2020\", \"4/16/2020\", \"4/17/2020\", \"4/18/2020\", \"4/19/2020\", \"4/20/2020\", \"4/21/2020\", \"4/22/2020\", \"4/23/2020\", \"4/24/2020\", \"4/25/2020\", \"4/26/2020\", \"4/27/2020\", \"4/28/2020\", \"4/29/2020\", \"4/30/2020\", \"5/1/2020\", \"5/2/2020\", \"5/3/2020\", \"5/4/2020\", \"5/5/2020\", \"5/6/2020\", \"5/7/2020\", \"5/8/2020\", \"5/9/2020\", \"5/10/2020\", \"5/11/2020\", \"5/12/2020\", \"5/13/2020\", \"5/14/2020\", \"5/15/2020\", \"5/16/2020\", \"5/17/2020\", \"5/18/2020\", \"5/19/2020\", \"5/20/2020\", \"5/21/2020\", \"5/22/2020\", \"5/23/2020\", \"5/24/2020\", \"5/25/2020\", \"5/26/2020\", \"5/27/2020\", \"5/28/2020\", \"5/29/2020\", \"5/30/2020\", \"5/31/2020\", \"6/1/2020\", \"6/2/2020\", \"6/3/2020\", \"6/4/2020\", \"6/5/2020\", \"6/6/2020\", \"6/7/2020\", \"6/8/2020\", \"6/9/2020\", \"6/10/2020\", \"6/11/2020\", \"6/12/2020\", \"6/13/2020\", \"6/14/2020\", \"6/15/2020\", \"6/16/2020\", \"6/17/2020\", \"6/18/2020\", \"6/19/2020\", \"6/20/2020\", \"6/21/2020\", \"6/22/2020\", \"6/23/2020\", \"6/24/2020\", \"6/25/2020\", \"6/26/2020\", \"6/27/2020\", \"6/28/2020\", \"6/29/2020\", \"6/30/2020\", \"7/1/2020\", \"7/2/2020\", \"7/3/2020\", \"7/4/2020\", \"7/5/2020\", \"7/6/2020\", \"7/7/2020\", \"7/8/2020\", \"7/9/2020\", \"7/10/2020\", \"7/11/2020\", \"7/12/2020\", \"7/13/2020\", \"7/14/2020\", \"7/15/2020\", \"7/16/2020\", \"7/17/2020\", \"7/18/2020\", \"7/19/2020\", \"7/20/2020\", \"7/21/2020\", \"7/22/2020\", \"7/23/2020\", \"7/24/2020\", \"7/25/2020\", \"7/26/2020\", \"7/27/2020\", \"7/28/2020\", \"7/29/2020\", \"7/30/2020\", \"7/31/2020\", \"8/1/2020\", \"8/2/2020\", \"8/3/2020\", \"8/4/2020\", \"8/5/2020\", \"8/6/2020\", \"8/7/2020\", \"8/8/2020\", \"8/9/2020\", \"8/10/2020\", \"8/11/2020\", \"8/12/2020\", \"8/13/2020\", \"8/14/2020\", \"8/15/2020\", \"8/16/2020\", \"8/17/2020\", \"8/18/2020\", \"8/19/2020\", \"8/20/2020\", \"8/21/2020\", \"8/22/2020\", \"8/23/2020\", \"8/24/2020\", \"8/25/2020\", \"8/26/2020\", \"8/27/2020\", \"8/28/2020\", \"8/29/2020\", \"8/30/2020\", \"8/31/2020\", \"9/1/2020\", \"9/2/2020\", \"9/3/2020\", \"9/4/2020\", \"9/5/2020\", \"9/6/2020\", \"9/7/2020\", \"9/8/2020\", \"9/9/2020\", \"9/10/2020\", \"9/11/2020\", \"9/12/2020\", \"9/13/2020\", \"9/14/2020\", \"9/15/2020\", \"9/16/2020\", \"9/17/2020\", \"9/18/2020\", \"9/19/2020\", \"9/20/2020\", \"9/21/2020\", \"9/22/2020\", \"9/23/2020\", \"9/24/2020\", \"9/25/2020\", \"9/26/2020\", \"9/27/2020\", \"9/28/2020\", \"9/29/2020\", \"9/30/2020\", \"10/1/2020\", \"10/2/2020\", \"10/3/2020\", \"10/4/2020\", \"10/5/2020\", \"10/6/2020\", \"10/7/2020\", \"10/8/2020\", \"10/9/2020\", \"10/10/2020\", \"10/11/2020\", \"10/12/2020\", \"10/13/2020\", \"10/14/2020\", \"10/15/2020\", \"10/16/2020\", \"10/17/2020\", \"10/18/2020\", \"10/19/2020\", \"10/20/2020\", \"10/21/2020\", \"10/22/2020\", \"10/23/2020\", \"10/24/2020\", \"10/25/2020\", \"10/26/2020\", \"10/27/2020\", \"10/28/2020\", \"10/29/2020\", \"10/30/2020\", \"10/31/2020\", \"11/1/2020\", \"11/2/2020\", \"11/3/2020\", \"11/4/2020\", \"11/5/2020\", \"11/6/2020\", \"11/7/2020\", \"11/8/2020\", \"11/9/2020\", \"11/10/2020\", \"11/11/2020\", \"11/12/2020\", \"11/13/2020\", \"11/14/2020\", \"11/15/2020\", \"11/16/2020\", \"11/17/2020\", \"11/18/2020\", \"11/19/2020\", \"11/20/2020\", \"11/21/2020\"], \"xaxis\": \"x\", \"y\": [7, 8, 11, 11, 11, 12, 12, 12, 12, 12, 13, 13, 14, 15, 15, 15, 15, 15, 15, 15, 16, 35, 35, 35, 53, 53, 59, 60, 66, 69, 89, 103, 125, 159, 233, 338, 433, 554, 754, 1025, 1312, 1663, 2174, 2951, 3774, 4661, 6427, 9415, 14250, 19624, 26747, 35206, 46442, 55231, 69194, 85991, 104686, 124665, 143025, 164620, 189618, 216721, 245540, 277965, 312237, 337635, 368196, 398809, 432132, 466033, 501560, 529951, 557571, 582594, 609516, 639664, 671331, 702164, 735086, 759687, 787752, 825041, 842629, 869172, 890524, 939053, 965910, 988451, 1012583, 1039909, 1069826, 1103781, 1133069, 1158041, 1180634, 1204475, 1228603, 1256972, 1283929, 1309541, 1329799, 1347916, 1369964, 1390746, 1417889, 1443397, 1467884, 1486757, 1508598, 1528568, 1551853, 1577287, 1601434, 1622670, 1643238, 1662302, 1681212, 1699933, 1721750, 1747087, 1770384, 1790191, 1811277, 1831821, 1851520, 1872660, 1897838, 1920061, 1942363, 1961185, 1979850, 2000464, 2023347, 2048986, 2074526, 2094069, 2114026, 2137731, 2163290, 2191052, 2220961, 2255119, 2280912, 2312302, 2347022, 2381361, 2422310, 2467837, 2510323, 2548996, 2590552, 2634432, 2686480, 2739879, 2794321, 2839542, 2888635, 2938625, 2996098, 3055004, 3118008, 3184633, 3247684, 3304942, 3363056, 3431574, 3499291, 3576221, 3647715, 3711464, 3773260, 3830010, 3902058, 3970906, 4034102, 4112529, 4178027, 4234020, 4290263, 4351997, 4426982, 4495014, 4562037, 4620444, 4667955, 4713562, 4771087, 4823891, 4883646, 4941796, 4998017, 5044864, 5094394, 5141207, 5197148, 5248242, 5313080, 5361165, 5403269, 5438325, 5482416, 5529842, 5573847, 5623727, 5668105, 5702611, 5740909, 5779028, 5821876, 5867785, 5917439, 5961582, 5997163, 6031013, 6075652, 6114406, 6150655, 6201726, 6245866, 6276421, 6300671, 6327793, 6359720, 6397227, 6445288, 6486108, 6519979, 6554820, 6606293, 6630891, 6674458, 6724667, 6764962, 6804814, 6857967, 6896274, 6934204, 6978417, 7033430, 7078798, 7115046, 7148044, 7191061, 7233043, 7277814, 7332285, 7382944, 7417845, 7458550, 7501612, 7549794, 7606594, 7664676, 7718947, 7762544, 7804197, 7856714, 7916100, 7979885, 8050141, 8106752, 8154595, 8214755, 8273304, 8336282, 8408340, 8493669, 8576725, 8636165, 8704524, 8779653, 8858024, 8946154, 9047427, 9126361, 9207362, 9291245, 9383979, 9486486, 9608922, 9739545, 9860958, 9971651, 10110552, 10257826, 10401132, 10554801, 10739614, 10904891, 11037061, 11205486, 11359802, 11529807, 11717827, 11913944], \"yaxis\": \"y\"}],\n",
       "                        {\"barmode\": \"relative\", \"coloraxis\": {\"colorbar\": {\"title\": {\"text\": \"United States\"}}, \"colorscale\": [[0.0, \"#0d0887\"], [0.1111111111111111, \"#46039f\"], [0.2222222222222222, \"#7201a8\"], [0.3333333333333333, \"#9c179e\"], [0.4444444444444444, \"#bd3786\"], [0.5555555555555556, \"#d8576b\"], [0.6666666666666666, \"#ed7953\"], [0.7777777777777778, \"#fb9f3a\"], [0.8888888888888888, \"#fdca26\"], [1.0, \"#f0f921\"]]}, \"height\": 400, \"legend\": {\"tracegroupgap\": 0}, \"plot_bgcolor\": \"rgb(230,230,230)\", \"template\": {\"data\": {\"bar\": [{\"error_x\": {\"color\": \"#2a3f5f\"}, \"error_y\": {\"color\": \"#2a3f5f\"}, \"marker\": {\"line\": {\"color\": \"#E5ECF6\", \"width\": 0.5}}, \"type\": \"bar\"}], \"barpolar\": [{\"marker\": {\"line\": {\"color\": \"#E5ECF6\", \"width\": 0.5}}, \"type\": \"barpolar\"}], \"carpet\": [{\"aaxis\": {\"endlinecolor\": \"#2a3f5f\", \"gridcolor\": \"white\", \"linecolor\": \"white\", \"minorgridcolor\": \"white\", \"startlinecolor\": \"#2a3f5f\"}, \"baxis\": {\"endlinecolor\": \"#2a3f5f\", \"gridcolor\": \"white\", \"linecolor\": \"white\", \"minorgridcolor\": \"white\", \"startlinecolor\": \"#2a3f5f\"}, \"type\": \"carpet\"}], \"choropleth\": [{\"colorbar\": {\"outlinewidth\": 0, \"ticks\": \"\"}, \"type\": \"choropleth\"}], \"contour\": [{\"colorbar\": {\"outlinewidth\": 0, \"ticks\": \"\"}, \"colorscale\": [[0.0, \"#0d0887\"], [0.1111111111111111, \"#46039f\"], [0.2222222222222222, \"#7201a8\"], [0.3333333333333333, \"#9c179e\"], [0.4444444444444444, \"#bd3786\"], [0.5555555555555556, \"#d8576b\"], [0.6666666666666666, \"#ed7953\"], [0.7777777777777778, \"#fb9f3a\"], [0.8888888888888888, \"#fdca26\"], [1.0, \"#f0f921\"]], \"type\": \"contour\"}], \"contourcarpet\": [{\"colorbar\": {\"outlinewidth\": 0, \"ticks\": \"\"}, \"type\": \"contourcarpet\"}], \"heatmap\": [{\"colorbar\": {\"outlinewidth\": 0, \"ticks\": \"\"}, \"colorscale\": [[0.0, \"#0d0887\"], [0.1111111111111111, \"#46039f\"], [0.2222222222222222, \"#7201a8\"], [0.3333333333333333, \"#9c179e\"], [0.4444444444444444, \"#bd3786\"], [0.5555555555555556, \"#d8576b\"], [0.6666666666666666, \"#ed7953\"], [0.7777777777777778, \"#fb9f3a\"], [0.8888888888888888, \"#fdca26\"], [1.0, \"#f0f921\"]], \"type\": \"heatmap\"}], \"heatmapgl\": [{\"colorbar\": {\"outlinewidth\": 0, \"ticks\": \"\"}, \"colorscale\": [[0.0, \"#0d0887\"], [0.1111111111111111, \"#46039f\"], [0.2222222222222222, \"#7201a8\"], [0.3333333333333333, \"#9c179e\"], [0.4444444444444444, \"#bd3786\"], [0.5555555555555556, \"#d8576b\"], [0.6666666666666666, \"#ed7953\"], [0.7777777777777778, \"#fb9f3a\"], [0.8888888888888888, \"#fdca26\"], [1.0, \"#f0f921\"]], \"type\": \"heatmapgl\"}], \"histogram\": [{\"marker\": {\"colorbar\": {\"outlinewidth\": 0, \"ticks\": \"\"}}, \"type\": \"histogram\"}], \"histogram2d\": [{\"colorbar\": {\"outlinewidth\": 0, \"ticks\": \"\"}, \"colorscale\": [[0.0, \"#0d0887\"], [0.1111111111111111, \"#46039f\"], [0.2222222222222222, \"#7201a8\"], [0.3333333333333333, \"#9c179e\"], [0.4444444444444444, \"#bd3786\"], [0.5555555555555556, \"#d8576b\"], [0.6666666666666666, \"#ed7953\"], [0.7777777777777778, \"#fb9f3a\"], [0.8888888888888888, \"#fdca26\"], [1.0, \"#f0f921\"]], \"type\": \"histogram2d\"}], \"histogram2dcontour\": [{\"colorbar\": {\"outlinewidth\": 0, \"ticks\": \"\"}, \"colorscale\": [[0.0, \"#0d0887\"], [0.1111111111111111, \"#46039f\"], [0.2222222222222222, \"#7201a8\"], [0.3333333333333333, \"#9c179e\"], [0.4444444444444444, \"#bd3786\"], [0.5555555555555556, \"#d8576b\"], [0.6666666666666666, \"#ed7953\"], [0.7777777777777778, \"#fb9f3a\"], [0.8888888888888888, \"#fdca26\"], [1.0, \"#f0f921\"]], \"type\": \"histogram2dcontour\"}], \"mesh3d\": [{\"colorbar\": {\"outlinewidth\": 0, \"ticks\": \"\"}, \"type\": \"mesh3d\"}], \"parcoords\": [{\"line\": {\"colorbar\": {\"outlinewidth\": 0, \"ticks\": \"\"}}, \"type\": \"parcoords\"}], \"pie\": [{\"automargin\": true, \"type\": \"pie\"}], \"scatter\": [{\"marker\": {\"colorbar\": {\"outlinewidth\": 0, \"ticks\": \"\"}}, \"type\": \"scatter\"}], \"scatter3d\": [{\"line\": {\"colorbar\": {\"outlinewidth\": 0, \"ticks\": \"\"}}, \"marker\": {\"colorbar\": {\"outlinewidth\": 0, \"ticks\": \"\"}}, \"type\": \"scatter3d\"}], \"scattercarpet\": [{\"marker\": {\"colorbar\": {\"outlinewidth\": 0, \"ticks\": \"\"}}, \"type\": \"scattercarpet\"}], \"scattergeo\": [{\"marker\": {\"colorbar\": {\"outlinewidth\": 0, \"ticks\": \"\"}}, \"type\": \"scattergeo\"}], \"scattergl\": [{\"marker\": {\"colorbar\": {\"outlinewidth\": 0, \"ticks\": \"\"}}, \"type\": \"scattergl\"}], \"scattermapbox\": [{\"marker\": {\"colorbar\": {\"outlinewidth\": 0, \"ticks\": \"\"}}, \"type\": \"scattermapbox\"}], \"scatterpolar\": [{\"marker\": {\"colorbar\": {\"outlinewidth\": 0, \"ticks\": \"\"}}, \"type\": \"scatterpolar\"}], \"scatterpolargl\": [{\"marker\": {\"colorbar\": {\"outlinewidth\": 0, \"ticks\": \"\"}}, \"type\": \"scatterpolargl\"}], \"scatterternary\": [{\"marker\": {\"colorbar\": {\"outlinewidth\": 0, \"ticks\": \"\"}}, \"type\": \"scatterternary\"}], \"surface\": [{\"colorbar\": {\"outlinewidth\": 0, \"ticks\": \"\"}, \"colorscale\": [[0.0, \"#0d0887\"], [0.1111111111111111, \"#46039f\"], [0.2222222222222222, \"#7201a8\"], [0.3333333333333333, \"#9c179e\"], [0.4444444444444444, \"#bd3786\"], [0.5555555555555556, \"#d8576b\"], [0.6666666666666666, \"#ed7953\"], [0.7777777777777778, \"#fb9f3a\"], [0.8888888888888888, \"#fdca26\"], [1.0, \"#f0f921\"]], \"type\": \"surface\"}], \"table\": [{\"cells\": {\"fill\": {\"color\": \"#EBF0F8\"}, \"line\": {\"color\": \"white\"}}, \"header\": {\"fill\": {\"color\": \"#C8D4E3\"}, \"line\": {\"color\": \"white\"}}, \"type\": \"table\"}]}, \"layout\": {\"annotationdefaults\": {\"arrowcolor\": \"#2a3f5f\", \"arrowhead\": 0, \"arrowwidth\": 1}, \"coloraxis\": {\"colorbar\": {\"outlinewidth\": 0, \"ticks\": \"\"}}, \"colorscale\": {\"diverging\": [[0, \"#8e0152\"], [0.1, \"#c51b7d\"], [0.2, \"#de77ae\"], [0.3, \"#f1b6da\"], [0.4, \"#fde0ef\"], [0.5, \"#f7f7f7\"], [0.6, \"#e6f5d0\"], [0.7, \"#b8e186\"], [0.8, \"#7fbc41\"], [0.9, \"#4d9221\"], [1, \"#276419\"]], \"sequential\": [[0.0, \"#0d0887\"], [0.1111111111111111, \"#46039f\"], [0.2222222222222222, \"#7201a8\"], [0.3333333333333333, \"#9c179e\"], [0.4444444444444444, \"#bd3786\"], [0.5555555555555556, \"#d8576b\"], [0.6666666666666666, \"#ed7953\"], [0.7777777777777778, \"#fb9f3a\"], [0.8888888888888888, \"#fdca26\"], [1.0, \"#f0f921\"]], \"sequentialminus\": [[0.0, \"#0d0887\"], [0.1111111111111111, \"#46039f\"], [0.2222222222222222, \"#7201a8\"], [0.3333333333333333, \"#9c179e\"], [0.4444444444444444, \"#bd3786\"], [0.5555555555555556, \"#d8576b\"], [0.6666666666666666, \"#ed7953\"], [0.7777777777777778, \"#fb9f3a\"], [0.8888888888888888, \"#fdca26\"], [1.0, \"#f0f921\"]]}, \"colorway\": [\"#636efa\", \"#EF553B\", \"#00cc96\", \"#ab63fa\", \"#FFA15A\", \"#19d3f3\", \"#FF6692\", \"#B6E880\", \"#FF97FF\", \"#FECB52\"], \"font\": {\"color\": \"#2a3f5f\"}, \"geo\": {\"bgcolor\": \"white\", \"lakecolor\": \"white\", \"landcolor\": \"#E5ECF6\", \"showlakes\": true, \"showland\": true, \"subunitcolor\": \"white\"}, \"hoverlabel\": {\"align\": \"left\"}, \"hovermode\": \"closest\", \"mapbox\": {\"style\": \"light\"}, \"paper_bgcolor\": \"white\", \"plot_bgcolor\": \"#E5ECF6\", \"polar\": {\"angularaxis\": {\"gridcolor\": \"white\", \"linecolor\": \"white\", \"ticks\": \"\"}, \"bgcolor\": \"#E5ECF6\", \"radialaxis\": {\"gridcolor\": \"white\", \"linecolor\": \"white\", \"ticks\": \"\"}}, \"scene\": {\"xaxis\": {\"backgroundcolor\": \"#E5ECF6\", \"gridcolor\": \"white\", \"gridwidth\": 2, \"linecolor\": \"white\", \"showbackground\": true, \"ticks\": \"\", \"zerolinecolor\": \"white\"}, \"yaxis\": {\"backgroundcolor\": \"#E5ECF6\", \"gridcolor\": \"white\", \"gridwidth\": 2, \"linecolor\": \"white\", \"showbackground\": true, \"ticks\": \"\", \"zerolinecolor\": \"white\"}, \"zaxis\": {\"backgroundcolor\": \"#E5ECF6\", \"gridcolor\": \"white\", \"gridwidth\": 2, \"linecolor\": \"white\", \"showbackground\": true, \"ticks\": \"\", \"zerolinecolor\": \"white\"}}, \"shapedefaults\": {\"line\": {\"color\": \"#2a3f5f\"}}, \"ternary\": {\"aaxis\": {\"gridcolor\": \"white\", \"linecolor\": \"white\", \"ticks\": \"\"}, \"baxis\": {\"gridcolor\": \"white\", \"linecolor\": \"white\", \"ticks\": \"\"}, \"bgcolor\": \"#E5ECF6\", \"caxis\": {\"gridcolor\": \"white\", \"linecolor\": \"white\", \"ticks\": \"\"}}, \"title\": {\"x\": 0.05}, \"xaxis\": {\"automargin\": true, \"gridcolor\": \"white\", \"linecolor\": \"white\", \"ticks\": \"\", \"title\": {\"standoff\": 15}, \"zerolinecolor\": \"white\", \"zerolinewidth\": 2}, \"yaxis\": {\"automargin\": true, \"gridcolor\": \"white\", \"linecolor\": \"white\", \"ticks\": \"\", \"title\": {\"standoff\": 15}, \"zerolinecolor\": \"white\", \"zerolinewidth\": 2}}}, \"title\": {\"text\": \"Covid 19 cases in United States per day\"}, \"xaxis\": {\"anchor\": \"y\", \"domain\": [0.0, 1.0], \"title\": {\"text\": \"date\"}}, \"yaxis\": {\"anchor\": \"x\", \"domain\": [0.0, 1.0], \"title\": {\"text\": \"United States\"}}},\n",
       "                        {\"responsive\": true}\n",
       "                    ).then(function(){\n",
       "                            \n",
       "var gd = document.getElementById('8c45b5ad-87e9-46b7-bbd2-13190ea93b91');\n",
       "var x = new MutationObserver(function (mutations, observer) {{\n",
       "        var display = window.getComputedStyle(gd).display;\n",
       "        if (!display || display === 'none') {{\n",
       "            console.log([gd, 'removed!']);\n",
       "            Plotly.purge(gd);\n",
       "            observer.disconnect();\n",
       "        }}\n",
       "}});\n",
       "\n",
       "// Listen for the removal of the full notebook cells\n",
       "var notebookContainer = gd.closest('#notebook-container');\n",
       "if (notebookContainer) {{\n",
       "    x.observe(notebookContainer, {childList: true});\n",
       "}}\n",
       "\n",
       "// Listen for the clearing of the current output cell\n",
       "var outputEl = gd.closest('.output');\n",
       "if (outputEl) {{\n",
       "    x.observe(outputEl, {childList: true});\n",
       "}}\n",
       "\n",
       "                        })\n",
       "                };\n",
       "                \n",
       "            </script>\n",
       "        </div>\n",
       "</body>\n",
       "</html>"
      ]
     },
     "metadata": {
      "tags": []
     },
     "output_type": "display_data"
    },
    {
     "data": {
      "text/html": [
       "<html>\n",
       "<head><meta charset=\"utf-8\" /></head>\n",
       "<body>\n",
       "    <div>\n",
       "            <script src=\"https://cdnjs.cloudflare.com/ajax/libs/mathjax/2.7.5/MathJax.js?config=TeX-AMS-MML_SVG\"></script><script type=\"text/javascript\">if (window.MathJax) {MathJax.Hub.Config({SVG: {font: \"STIX-Web\"}});}</script>\n",
       "                <script type=\"text/javascript\">window.PlotlyConfig = {MathJaxConfig: 'local'};</script>\n",
       "        <script src=\"https://cdn.plot.ly/plotly-latest.min.js\"></script>    \n",
       "            <div id=\"e3fe6009-0177-4195-9a9d-c390d5a2c8c8\" class=\"plotly-graph-div\" style=\"height:400px; width:100%;\"></div>\n",
       "            <script type=\"text/javascript\">\n",
       "                \n",
       "                    window.PLOTLYENV=window.PLOTLYENV || {};\n",
       "                    \n",
       "                if (document.getElementById(\"e3fe6009-0177-4195-9a9d-c390d5a2c8c8\")) {\n",
       "                    Plotly.newPlot(\n",
       "                        'e3fe6009-0177-4195-9a9d-c390d5a2c8c8',\n",
       "                        [{\"alignmentgroup\": \"True\", \"hoverlabel\": {\"namelength\": 0}, \"hovertemplate\": \"date=%{x}<br>Italy=%{marker.color}\", \"legendgroup\": \"\", \"marker\": {\"color\": [3, 3, 3, 3, 3, 3, 3, 3, 3, 3, 3, 3, 3, 3, 3, 3, 3, 3, 3, 3, 3, 17, 79, 132, 229, 322, 400, 650, 888, 1128, 1689, 2036, 2502, 3089, 3858, 4636, 5883, 7375, 9172, 10149, 12462, 15113, 17660, 21157, 23980, 27980, 31506, 35713, 41035, 47021, 53578, 59138, 63927, 69176, 74386, 80539, 86498, 92472, 97689, 101739, 105792, 110574, 115242, 119827, 124632, 128948, 132547, 135586, 139422, 143626, 147577, 152271, 156363, 159516, 162488, 165155, 168941, 172434, 175925, 178972, 181228, 183957, 187327, 189973, 192994, 195351, 197675, 199414, 201505, 203591, 205463, 207428, 209328, 210717, 211938, 213013, 214457, 215858, 217185, 218268, 219070, 219814, 221216, 222104, 223096, 223885, 224760, 225435, 225886, 226699, 227364, 228006, 228658, 229327, 229858, 230158, 230555, 231139, 231732, 232248, 232664, 233019, 233197, 233515, 233836, 234013, 234531, 234801, 234998, 235278, 235561, 235763, 236142, 236305, 236651, 236989, 237290, 237500, 237828, 238159, 238011, 238275, 238499, 238720, 238833, 239410, 239706, 239961, 240136, 240310, 240436, 240578, 240760, 240961, 241184, 241419, 241611, 241819, 241956, 242149, 242363, 242639, 242827, 243061, 243230, 243344, 243506, 243736, 243967, 244216, 244434, 244624, 244752, 245032, 245338, 245590, 245864, 246118, 246286, 246488, 246776, 247158, 247537, 247832, 248070, 248229, 248419, 248803, 249204, 249756, 250103, 250566, 250825, 251237, 251713, 252235, 252809, 253438, 253915, 254235, 254636, 255278, 256118, 257065, 258136, 259345, 260298, 261174, 262540, 263949, 265409, 266853, 268218, 269214, 270189, 271515, 272912, 274644, 276338, 277634, 278784, 280153, 281583, 283180, 284796, 286297, 287753, 288761, 289990, 291442, 293025, 294932, 296569, 298156, 299506, 300897, 302537, 304323, 306235, 308104, 309870, 311364, 313011, 314861, 317409, 319908, 322751, 325329, 327586, 330263, 333940, 338398, 343770, 349494, 354950, 359569, 365467, 372799, 381602, 391611, 402536, 414241, 423578, 434449, 449648, 465726, 484869, 504509, 525782, 542789, 564778, 589766, 616595, 647674, 679430, 709335, 731588, 759829, 790377, 824879, 862681, 902490, 935104, 960373, 995463, 1028424, 1066401, 1107303, 1144552, 1178529, 1205881, 1238072, 1272352, 1308528, 1345767], \"coloraxis\": \"coloraxis\"}, \"name\": \"\", \"offsetgroup\": \"\", \"orientation\": \"v\", \"showlegend\": false, \"textposition\": \"auto\", \"type\": \"bar\", \"x\": [\"2/1/2020\", \"2/2/2020\", \"2/3/2020\", \"2/4/2020\", \"2/5/2020\", \"2/6/2020\", \"2/7/2020\", \"2/8/2020\", \"2/9/2020\", \"2/10/2020\", \"2/11/2020\", \"2/12/2020\", \"2/13/2020\", \"2/14/2020\", \"2/15/2020\", \"2/16/2020\", \"2/17/2020\", \"2/18/2020\", \"2/19/2020\", \"2/20/2020\", \"2/21/2020\", \"2/22/2020\", \"2/23/2020\", \"2/24/2020\", \"2/25/2020\", \"2/26/2020\", \"2/27/2020\", \"2/28/2020\", \"2/29/2020\", \"3/1/2020\", \"3/2/2020\", \"3/3/2020\", \"3/4/2020\", \"3/5/2020\", \"3/6/2020\", \"3/7/2020\", \"3/8/2020\", \"3/9/2020\", \"3/10/2020\", \"3/11/2020\", \"3/12/2020\", \"3/13/2020\", \"3/14/2020\", \"3/15/2020\", \"3/16/2020\", \"3/17/2020\", \"3/18/2020\", \"3/19/2020\", \"3/20/2020\", \"3/21/2020\", \"3/22/2020\", \"3/23/2020\", \"3/24/2020\", \"3/25/2020\", \"3/26/2020\", \"3/27/2020\", \"3/28/2020\", \"3/29/2020\", \"3/30/2020\", \"3/31/2020\", \"4/1/2020\", \"4/2/2020\", \"4/3/2020\", \"4/4/2020\", \"4/5/2020\", \"4/6/2020\", \"4/7/2020\", \"4/8/2020\", \"4/9/2020\", \"4/10/2020\", \"4/11/2020\", \"4/12/2020\", \"4/13/2020\", \"4/14/2020\", \"4/15/2020\", \"4/16/2020\", \"4/17/2020\", \"4/18/2020\", \"4/19/2020\", \"4/20/2020\", \"4/21/2020\", \"4/22/2020\", \"4/23/2020\", \"4/24/2020\", \"4/25/2020\", \"4/26/2020\", \"4/27/2020\", \"4/28/2020\", \"4/29/2020\", \"4/30/2020\", \"5/1/2020\", \"5/2/2020\", \"5/3/2020\", \"5/4/2020\", \"5/5/2020\", \"5/6/2020\", \"5/7/2020\", \"5/8/2020\", \"5/9/2020\", \"5/10/2020\", \"5/11/2020\", \"5/12/2020\", \"5/13/2020\", \"5/14/2020\", \"5/15/2020\", \"5/16/2020\", \"5/17/2020\", \"5/18/2020\", \"5/19/2020\", \"5/20/2020\", \"5/21/2020\", \"5/22/2020\", \"5/23/2020\", \"5/24/2020\", \"5/25/2020\", \"5/26/2020\", \"5/27/2020\", \"5/28/2020\", \"5/29/2020\", \"5/30/2020\", \"5/31/2020\", \"6/1/2020\", \"6/2/2020\", \"6/3/2020\", \"6/4/2020\", \"6/5/2020\", \"6/6/2020\", \"6/7/2020\", \"6/8/2020\", \"6/9/2020\", \"6/10/2020\", \"6/11/2020\", \"6/12/2020\", \"6/13/2020\", \"6/14/2020\", \"6/15/2020\", \"6/16/2020\", \"6/17/2020\", \"6/18/2020\", \"6/19/2020\", \"6/20/2020\", \"6/21/2020\", \"6/22/2020\", \"6/23/2020\", \"6/24/2020\", \"6/25/2020\", \"6/26/2020\", \"6/27/2020\", \"6/28/2020\", \"6/29/2020\", \"6/30/2020\", \"7/1/2020\", \"7/2/2020\", \"7/3/2020\", \"7/4/2020\", \"7/5/2020\", \"7/6/2020\", \"7/7/2020\", \"7/8/2020\", \"7/9/2020\", \"7/10/2020\", \"7/11/2020\", \"7/12/2020\", \"7/13/2020\", \"7/14/2020\", \"7/15/2020\", \"7/16/2020\", \"7/17/2020\", \"7/18/2020\", \"7/19/2020\", \"7/20/2020\", \"7/21/2020\", \"7/22/2020\", \"7/23/2020\", \"7/24/2020\", \"7/25/2020\", \"7/26/2020\", \"7/27/2020\", \"7/28/2020\", \"7/29/2020\", \"7/30/2020\", \"7/31/2020\", \"8/1/2020\", \"8/2/2020\", \"8/3/2020\", \"8/4/2020\", \"8/5/2020\", \"8/6/2020\", \"8/7/2020\", \"8/8/2020\", \"8/9/2020\", \"8/10/2020\", \"8/11/2020\", \"8/12/2020\", \"8/13/2020\", \"8/14/2020\", \"8/15/2020\", \"8/16/2020\", \"8/17/2020\", \"8/18/2020\", \"8/19/2020\", \"8/20/2020\", \"8/21/2020\", \"8/22/2020\", \"8/23/2020\", \"8/24/2020\", \"8/25/2020\", \"8/26/2020\", \"8/27/2020\", \"8/28/2020\", \"8/29/2020\", \"8/30/2020\", \"8/31/2020\", \"9/1/2020\", \"9/2/2020\", \"9/3/2020\", \"9/4/2020\", \"9/5/2020\", \"9/6/2020\", \"9/7/2020\", \"9/8/2020\", \"9/9/2020\", \"9/10/2020\", \"9/11/2020\", \"9/12/2020\", \"9/13/2020\", \"9/14/2020\", \"9/15/2020\", \"9/16/2020\", \"9/17/2020\", \"9/18/2020\", \"9/19/2020\", \"9/20/2020\", \"9/21/2020\", \"9/22/2020\", \"9/23/2020\", \"9/24/2020\", \"9/25/2020\", \"9/26/2020\", \"9/27/2020\", \"9/28/2020\", \"9/29/2020\", \"9/30/2020\", \"10/1/2020\", \"10/2/2020\", \"10/3/2020\", \"10/4/2020\", \"10/5/2020\", \"10/6/2020\", \"10/7/2020\", \"10/8/2020\", \"10/9/2020\", \"10/10/2020\", \"10/11/2020\", \"10/12/2020\", \"10/13/2020\", \"10/14/2020\", \"10/15/2020\", \"10/16/2020\", \"10/17/2020\", \"10/18/2020\", \"10/19/2020\", \"10/20/2020\", \"10/21/2020\", \"10/22/2020\", \"10/23/2020\", \"10/24/2020\", \"10/25/2020\", \"10/26/2020\", \"10/27/2020\", \"10/28/2020\", \"10/29/2020\", \"10/30/2020\", \"10/31/2020\", \"11/1/2020\", \"11/2/2020\", \"11/3/2020\", \"11/4/2020\", \"11/5/2020\", \"11/6/2020\", \"11/7/2020\", \"11/8/2020\", \"11/9/2020\", \"11/10/2020\", \"11/11/2020\", \"11/12/2020\", \"11/13/2020\", \"11/14/2020\", \"11/15/2020\", \"11/16/2020\", \"11/17/2020\", \"11/18/2020\", \"11/19/2020\", \"11/20/2020\", \"11/21/2020\"], \"xaxis\": \"x\", \"y\": [3, 3, 3, 3, 3, 3, 3, 3, 3, 3, 3, 3, 3, 3, 3, 3, 3, 3, 3, 3, 3, 17, 79, 132, 229, 322, 400, 650, 888, 1128, 1689, 2036, 2502, 3089, 3858, 4636, 5883, 7375, 9172, 10149, 12462, 15113, 17660, 21157, 23980, 27980, 31506, 35713, 41035, 47021, 53578, 59138, 63927, 69176, 74386, 80539, 86498, 92472, 97689, 101739, 105792, 110574, 115242, 119827, 124632, 128948, 132547, 135586, 139422, 143626, 147577, 152271, 156363, 159516, 162488, 165155, 168941, 172434, 175925, 178972, 181228, 183957, 187327, 189973, 192994, 195351, 197675, 199414, 201505, 203591, 205463, 207428, 209328, 210717, 211938, 213013, 214457, 215858, 217185, 218268, 219070, 219814, 221216, 222104, 223096, 223885, 224760, 225435, 225886, 226699, 227364, 228006, 228658, 229327, 229858, 230158, 230555, 231139, 231732, 232248, 232664, 233019, 233197, 233515, 233836, 234013, 234531, 234801, 234998, 235278, 235561, 235763, 236142, 236305, 236651, 236989, 237290, 237500, 237828, 238159, 238011, 238275, 238499, 238720, 238833, 239410, 239706, 239961, 240136, 240310, 240436, 240578, 240760, 240961, 241184, 241419, 241611, 241819, 241956, 242149, 242363, 242639, 242827, 243061, 243230, 243344, 243506, 243736, 243967, 244216, 244434, 244624, 244752, 245032, 245338, 245590, 245864, 246118, 246286, 246488, 246776, 247158, 247537, 247832, 248070, 248229, 248419, 248803, 249204, 249756, 250103, 250566, 250825, 251237, 251713, 252235, 252809, 253438, 253915, 254235, 254636, 255278, 256118, 257065, 258136, 259345, 260298, 261174, 262540, 263949, 265409, 266853, 268218, 269214, 270189, 271515, 272912, 274644, 276338, 277634, 278784, 280153, 281583, 283180, 284796, 286297, 287753, 288761, 289990, 291442, 293025, 294932, 296569, 298156, 299506, 300897, 302537, 304323, 306235, 308104, 309870, 311364, 313011, 314861, 317409, 319908, 322751, 325329, 327586, 330263, 333940, 338398, 343770, 349494, 354950, 359569, 365467, 372799, 381602, 391611, 402536, 414241, 423578, 434449, 449648, 465726, 484869, 504509, 525782, 542789, 564778, 589766, 616595, 647674, 679430, 709335, 731588, 759829, 790377, 824879, 862681, 902490, 935104, 960373, 995463, 1028424, 1066401, 1107303, 1144552, 1178529, 1205881, 1238072, 1272352, 1308528, 1345767], \"yaxis\": \"y\"}],\n",
       "                        {\"barmode\": \"relative\", \"coloraxis\": {\"colorbar\": {\"title\": {\"text\": \"Italy\"}}, \"colorscale\": [[0.0, \"#0d0887\"], [0.1111111111111111, \"#46039f\"], [0.2222222222222222, \"#7201a8\"], [0.3333333333333333, \"#9c179e\"], [0.4444444444444444, \"#bd3786\"], [0.5555555555555556, \"#d8576b\"], [0.6666666666666666, \"#ed7953\"], [0.7777777777777778, \"#fb9f3a\"], [0.8888888888888888, \"#fdca26\"], [1.0, \"#f0f921\"]]}, \"height\": 400, \"legend\": {\"tracegroupgap\": 0}, \"plot_bgcolor\": \"rgb(230,230,230)\", \"template\": {\"data\": {\"bar\": [{\"error_x\": {\"color\": \"#2a3f5f\"}, \"error_y\": {\"color\": \"#2a3f5f\"}, \"marker\": {\"line\": {\"color\": \"#E5ECF6\", \"width\": 0.5}}, \"type\": \"bar\"}], \"barpolar\": [{\"marker\": {\"line\": {\"color\": \"#E5ECF6\", \"width\": 0.5}}, \"type\": \"barpolar\"}], \"carpet\": [{\"aaxis\": {\"endlinecolor\": \"#2a3f5f\", \"gridcolor\": \"white\", \"linecolor\": \"white\", \"minorgridcolor\": \"white\", \"startlinecolor\": \"#2a3f5f\"}, \"baxis\": {\"endlinecolor\": \"#2a3f5f\", \"gridcolor\": \"white\", \"linecolor\": \"white\", \"minorgridcolor\": \"white\", \"startlinecolor\": \"#2a3f5f\"}, \"type\": \"carpet\"}], \"choropleth\": [{\"colorbar\": {\"outlinewidth\": 0, \"ticks\": \"\"}, \"type\": \"choropleth\"}], \"contour\": [{\"colorbar\": {\"outlinewidth\": 0, \"ticks\": \"\"}, \"colorscale\": [[0.0, \"#0d0887\"], [0.1111111111111111, \"#46039f\"], [0.2222222222222222, \"#7201a8\"], [0.3333333333333333, \"#9c179e\"], [0.4444444444444444, \"#bd3786\"], [0.5555555555555556, \"#d8576b\"], [0.6666666666666666, \"#ed7953\"], [0.7777777777777778, \"#fb9f3a\"], [0.8888888888888888, \"#fdca26\"], [1.0, \"#f0f921\"]], \"type\": \"contour\"}], \"contourcarpet\": [{\"colorbar\": {\"outlinewidth\": 0, \"ticks\": \"\"}, \"type\": \"contourcarpet\"}], \"heatmap\": [{\"colorbar\": {\"outlinewidth\": 0, \"ticks\": \"\"}, \"colorscale\": [[0.0, \"#0d0887\"], [0.1111111111111111, \"#46039f\"], [0.2222222222222222, \"#7201a8\"], [0.3333333333333333, \"#9c179e\"], [0.4444444444444444, \"#bd3786\"], [0.5555555555555556, \"#d8576b\"], [0.6666666666666666, \"#ed7953\"], [0.7777777777777778, \"#fb9f3a\"], [0.8888888888888888, \"#fdca26\"], [1.0, \"#f0f921\"]], \"type\": \"heatmap\"}], \"heatmapgl\": [{\"colorbar\": {\"outlinewidth\": 0, \"ticks\": \"\"}, \"colorscale\": [[0.0, \"#0d0887\"], [0.1111111111111111, \"#46039f\"], [0.2222222222222222, \"#7201a8\"], [0.3333333333333333, \"#9c179e\"], [0.4444444444444444, \"#bd3786\"], [0.5555555555555556, \"#d8576b\"], [0.6666666666666666, \"#ed7953\"], [0.7777777777777778, \"#fb9f3a\"], [0.8888888888888888, \"#fdca26\"], [1.0, \"#f0f921\"]], \"type\": \"heatmapgl\"}], \"histogram\": [{\"marker\": {\"colorbar\": {\"outlinewidth\": 0, \"ticks\": \"\"}}, \"type\": \"histogram\"}], \"histogram2d\": [{\"colorbar\": {\"outlinewidth\": 0, \"ticks\": \"\"}, \"colorscale\": [[0.0, \"#0d0887\"], [0.1111111111111111, \"#46039f\"], [0.2222222222222222, \"#7201a8\"], [0.3333333333333333, \"#9c179e\"], [0.4444444444444444, \"#bd3786\"], [0.5555555555555556, \"#d8576b\"], [0.6666666666666666, \"#ed7953\"], [0.7777777777777778, \"#fb9f3a\"], [0.8888888888888888, \"#fdca26\"], [1.0, \"#f0f921\"]], \"type\": \"histogram2d\"}], \"histogram2dcontour\": [{\"colorbar\": {\"outlinewidth\": 0, \"ticks\": \"\"}, \"colorscale\": [[0.0, \"#0d0887\"], [0.1111111111111111, \"#46039f\"], [0.2222222222222222, \"#7201a8\"], [0.3333333333333333, \"#9c179e\"], [0.4444444444444444, \"#bd3786\"], [0.5555555555555556, \"#d8576b\"], [0.6666666666666666, \"#ed7953\"], [0.7777777777777778, \"#fb9f3a\"], [0.8888888888888888, \"#fdca26\"], [1.0, \"#f0f921\"]], \"type\": \"histogram2dcontour\"}], \"mesh3d\": [{\"colorbar\": {\"outlinewidth\": 0, \"ticks\": \"\"}, \"type\": \"mesh3d\"}], \"parcoords\": [{\"line\": {\"colorbar\": {\"outlinewidth\": 0, \"ticks\": \"\"}}, \"type\": \"parcoords\"}], \"pie\": [{\"automargin\": true, \"type\": \"pie\"}], \"scatter\": [{\"marker\": {\"colorbar\": {\"outlinewidth\": 0, \"ticks\": \"\"}}, \"type\": \"scatter\"}], \"scatter3d\": [{\"line\": {\"colorbar\": {\"outlinewidth\": 0, \"ticks\": \"\"}}, \"marker\": {\"colorbar\": {\"outlinewidth\": 0, \"ticks\": \"\"}}, \"type\": \"scatter3d\"}], \"scattercarpet\": [{\"marker\": {\"colorbar\": {\"outlinewidth\": 0, \"ticks\": \"\"}}, \"type\": \"scattercarpet\"}], \"scattergeo\": [{\"marker\": {\"colorbar\": {\"outlinewidth\": 0, \"ticks\": \"\"}}, \"type\": \"scattergeo\"}], \"scattergl\": [{\"marker\": {\"colorbar\": {\"outlinewidth\": 0, \"ticks\": \"\"}}, \"type\": \"scattergl\"}], \"scattermapbox\": [{\"marker\": {\"colorbar\": {\"outlinewidth\": 0, \"ticks\": \"\"}}, \"type\": \"scattermapbox\"}], \"scatterpolar\": [{\"marker\": {\"colorbar\": {\"outlinewidth\": 0, \"ticks\": \"\"}}, \"type\": \"scatterpolar\"}], \"scatterpolargl\": [{\"marker\": {\"colorbar\": {\"outlinewidth\": 0, \"ticks\": \"\"}}, \"type\": \"scatterpolargl\"}], \"scatterternary\": [{\"marker\": {\"colorbar\": {\"outlinewidth\": 0, \"ticks\": \"\"}}, \"type\": \"scatterternary\"}], \"surface\": [{\"colorbar\": {\"outlinewidth\": 0, \"ticks\": \"\"}, \"colorscale\": [[0.0, \"#0d0887\"], [0.1111111111111111, \"#46039f\"], [0.2222222222222222, \"#7201a8\"], [0.3333333333333333, \"#9c179e\"], [0.4444444444444444, \"#bd3786\"], [0.5555555555555556, \"#d8576b\"], [0.6666666666666666, \"#ed7953\"], [0.7777777777777778, \"#fb9f3a\"], [0.8888888888888888, \"#fdca26\"], [1.0, \"#f0f921\"]], \"type\": \"surface\"}], \"table\": [{\"cells\": {\"fill\": {\"color\": \"#EBF0F8\"}, \"line\": {\"color\": \"white\"}}, \"header\": {\"fill\": {\"color\": \"#C8D4E3\"}, \"line\": {\"color\": \"white\"}}, \"type\": \"table\"}]}, \"layout\": {\"annotationdefaults\": {\"arrowcolor\": \"#2a3f5f\", \"arrowhead\": 0, \"arrowwidth\": 1}, \"coloraxis\": {\"colorbar\": {\"outlinewidth\": 0, \"ticks\": \"\"}}, \"colorscale\": {\"diverging\": [[0, \"#8e0152\"], [0.1, \"#c51b7d\"], [0.2, \"#de77ae\"], [0.3, \"#f1b6da\"], [0.4, \"#fde0ef\"], [0.5, \"#f7f7f7\"], [0.6, \"#e6f5d0\"], [0.7, \"#b8e186\"], [0.8, \"#7fbc41\"], [0.9, \"#4d9221\"], [1, \"#276419\"]], \"sequential\": [[0.0, \"#0d0887\"], [0.1111111111111111, \"#46039f\"], [0.2222222222222222, \"#7201a8\"], [0.3333333333333333, \"#9c179e\"], [0.4444444444444444, \"#bd3786\"], [0.5555555555555556, \"#d8576b\"], [0.6666666666666666, \"#ed7953\"], [0.7777777777777778, \"#fb9f3a\"], [0.8888888888888888, \"#fdca26\"], [1.0, \"#f0f921\"]], \"sequentialminus\": [[0.0, \"#0d0887\"], [0.1111111111111111, \"#46039f\"], [0.2222222222222222, \"#7201a8\"], [0.3333333333333333, \"#9c179e\"], [0.4444444444444444, \"#bd3786\"], [0.5555555555555556, \"#d8576b\"], [0.6666666666666666, \"#ed7953\"], [0.7777777777777778, \"#fb9f3a\"], [0.8888888888888888, \"#fdca26\"], [1.0, \"#f0f921\"]]}, \"colorway\": [\"#636efa\", \"#EF553B\", \"#00cc96\", \"#ab63fa\", \"#FFA15A\", \"#19d3f3\", \"#FF6692\", \"#B6E880\", \"#FF97FF\", \"#FECB52\"], \"font\": {\"color\": \"#2a3f5f\"}, \"geo\": {\"bgcolor\": \"white\", \"lakecolor\": \"white\", \"landcolor\": \"#E5ECF6\", \"showlakes\": true, \"showland\": true, \"subunitcolor\": \"white\"}, \"hoverlabel\": {\"align\": \"left\"}, \"hovermode\": \"closest\", \"mapbox\": {\"style\": \"light\"}, \"paper_bgcolor\": \"white\", \"plot_bgcolor\": \"#E5ECF6\", \"polar\": {\"angularaxis\": {\"gridcolor\": \"white\", \"linecolor\": \"white\", \"ticks\": \"\"}, \"bgcolor\": \"#E5ECF6\", \"radialaxis\": {\"gridcolor\": \"white\", \"linecolor\": \"white\", \"ticks\": \"\"}}, \"scene\": {\"xaxis\": {\"backgroundcolor\": \"#E5ECF6\", \"gridcolor\": \"white\", \"gridwidth\": 2, \"linecolor\": \"white\", \"showbackground\": true, \"ticks\": \"\", \"zerolinecolor\": \"white\"}, \"yaxis\": {\"backgroundcolor\": \"#E5ECF6\", \"gridcolor\": \"white\", \"gridwidth\": 2, \"linecolor\": \"white\", \"showbackground\": true, \"ticks\": \"\", \"zerolinecolor\": \"white\"}, \"zaxis\": {\"backgroundcolor\": \"#E5ECF6\", \"gridcolor\": \"white\", \"gridwidth\": 2, \"linecolor\": \"white\", \"showbackground\": true, \"ticks\": \"\", \"zerolinecolor\": \"white\"}}, \"shapedefaults\": {\"line\": {\"color\": \"#2a3f5f\"}}, \"ternary\": {\"aaxis\": {\"gridcolor\": \"white\", \"linecolor\": \"white\", \"ticks\": \"\"}, \"baxis\": {\"gridcolor\": \"white\", \"linecolor\": \"white\", \"ticks\": \"\"}, \"bgcolor\": \"#E5ECF6\", \"caxis\": {\"gridcolor\": \"white\", \"linecolor\": \"white\", \"ticks\": \"\"}}, \"title\": {\"x\": 0.05}, \"xaxis\": {\"automargin\": true, \"gridcolor\": \"white\", \"linecolor\": \"white\", \"ticks\": \"\", \"title\": {\"standoff\": 15}, \"zerolinecolor\": \"white\", \"zerolinewidth\": 2}, \"yaxis\": {\"automargin\": true, \"gridcolor\": \"white\", \"linecolor\": \"white\", \"ticks\": \"\", \"title\": {\"standoff\": 15}, \"zerolinecolor\": \"white\", \"zerolinewidth\": 2}}}, \"title\": {\"text\": \"Covid 19 cases in Italy per day\"}, \"xaxis\": {\"anchor\": \"y\", \"domain\": [0.0, 1.0], \"title\": {\"text\": \"date\"}}, \"yaxis\": {\"anchor\": \"x\", \"domain\": [0.0, 1.0], \"title\": {\"text\": \"Italy\"}}},\n",
       "                        {\"responsive\": true}\n",
       "                    ).then(function(){\n",
       "                            \n",
       "var gd = document.getElementById('e3fe6009-0177-4195-9a9d-c390d5a2c8c8');\n",
       "var x = new MutationObserver(function (mutations, observer) {{\n",
       "        var display = window.getComputedStyle(gd).display;\n",
       "        if (!display || display === 'none') {{\n",
       "            console.log([gd, 'removed!']);\n",
       "            Plotly.purge(gd);\n",
       "            observer.disconnect();\n",
       "        }}\n",
       "}});\n",
       "\n",
       "// Listen for the removal of the full notebook cells\n",
       "var notebookContainer = gd.closest('#notebook-container');\n",
       "if (notebookContainer) {{\n",
       "    x.observe(notebookContainer, {childList: true});\n",
       "}}\n",
       "\n",
       "// Listen for the clearing of the current output cell\n",
       "var outputEl = gd.closest('.output');\n",
       "if (outputEl) {{\n",
       "    x.observe(outputEl, {childList: true});\n",
       "}}\n",
       "\n",
       "                        })\n",
       "                };\n",
       "                \n",
       "            </script>\n",
       "        </div>\n",
       "</body>\n",
       "</html>"
      ]
     },
     "metadata": {
      "tags": []
     },
     "output_type": "display_data"
    },
    {
     "data": {
      "text/html": [
       "<html>\n",
       "<head><meta charset=\"utf-8\" /></head>\n",
       "<body>\n",
       "    <div>\n",
       "            <script src=\"https://cdnjs.cloudflare.com/ajax/libs/mathjax/2.7.5/MathJax.js?config=TeX-AMS-MML_SVG\"></script><script type=\"text/javascript\">if (window.MathJax) {MathJax.Hub.Config({SVG: {font: \"STIX-Web\"}});}</script>\n",
       "                <script type=\"text/javascript\">window.PlotlyConfig = {MathJaxConfig: 'local'};</script>\n",
       "        <script src=\"https://cdn.plot.ly/plotly-latest.min.js\"></script>    \n",
       "            <div id=\"8e91b1a4-74c9-4049-987b-2252ee11f0c2\" class=\"plotly-graph-div\" style=\"height:400px; width:100%;\"></div>\n",
       "            <script type=\"text/javascript\">\n",
       "                \n",
       "                    window.PLOTLYENV=window.PLOTLYENV || {};\n",
       "                    \n",
       "                if (document.getElementById(\"8e91b1a4-74c9-4049-987b-2252ee11f0c2\")) {\n",
       "                    Plotly.newPlot(\n",
       "                        '8e91b1a4-74c9-4049-987b-2252ee11f0c2',\n",
       "                        [{\"alignmentgroup\": \"True\", \"hoverlabel\": {\"namelength\": 0}, \"hovertemplate\": \"date=%{x}<br>China=%{marker.color}\", \"legendgroup\": \"\", \"marker\": {\"color\": [11809, 14399, 17211, 20448, 24320, 28047, 31207, 34625, 37232, 40206, 42696, 44724, 59865, 64021, 66559, 68566, 70618, 72508, 74258, 74652, 75543, 76369, 77016, 77234, 77749, 78159, 78598, 78927, 79355, 79929, 80134, 80261, 80380, 80497, 80667, 80768, 80814, 80859, 80879, 80908, 80932, 80954, 80973, 80995, 81020, 81063, 81086, 81130, 81229, 81281, 81346, 81484, 81553, 81631, 81733, 81827, 81946, 82059, 82157, 82241, 82295, 82395, 82465, 82527, 82575, 82642, 82698, 82784, 82870, 82925, 83004, 83097, 83209, 83303, 83352, 83402, 83754, 83785, 83803, 83817, 83849, 83864, 83876, 83884, 83899, 83909, 83912, 83938, 83940, 83944, 83956, 83959, 83961, 83964, 83966, 83968, 83970, 83976, 83976, 83991, 84010, 84011, 84018, 84024, 84029, 84038, 84044, 84054, 84063, 84065, 84067, 84079, 84081, 84084, 84095, 84102, 84103, 84106, 84106, 84123, 84128, 84147, 84154, 84159, 84160, 84171, 84177, 84186, 84191, 84194, 84198, 84209, 84216, 84228, 84288, 84335, 84378, 84422, 84458, 84494, 84524, 84553, 84572, 84624, 84653, 84673, 84701, 84725, 84743, 84757, 84780, 84785, 84816, 84830, 84839, 84857, 84871, 84896, 84917, 84950, 84996, 85036, 85071, 85117, 85172, 85226, 85246, 85323, 85403, 85483, 85613, 85697, 85771, 85906, 86045, 86202, 86381, 86570, 86783, 86990, 87213, 87489, 87655, 87827, 87985, 88099, 88206, 88328, 88460, 88580, 88672, 88793, 88906, 88964, 89045, 89144, 89214, 89279, 89375, 89441, 89494, 89527, 89567, 89616, 89654, 89695, 89718, 89752, 89784, 89814, 89836, 89863, 89895, 89914, 89934, 89953, 89986, 90008, 90025, 90058, 90079, 90087, 90100, 90127, 90145, 90168, 90197, 90219, 90243, 90250, 90294, 90308, 90333, 90369, 90381, 90399, 90409, 90424, 90441, 90456, 90483, 90505, 90528, 90528, 90567, 90584, 90604, 90629, 90652, 90667, 90689, 90728, 90757, 90778, 90812, 90830, 90858, 90869, 90905, 90925, 90955, 90972, 91006, 91022, 91044, 91073, 91106, 91125, 91151, 91175, 91217, 91241, 91266, 91299, 91323, 91347, 91396, 91412, 91439, 91471, 91504, 91528, 91560, 91580, 91593, 91603, 91603, 91618, 91629, 91636, 91651, 91659, 91671, 91688, 91704], \"coloraxis\": \"coloraxis\"}, \"name\": \"\", \"offsetgroup\": \"\", \"orientation\": \"v\", \"showlegend\": false, \"textposition\": \"auto\", \"type\": \"bar\", \"x\": [\"2/1/2020\", \"2/2/2020\", \"2/3/2020\", \"2/4/2020\", \"2/5/2020\", \"2/6/2020\", \"2/7/2020\", \"2/8/2020\", \"2/9/2020\", \"2/10/2020\", \"2/11/2020\", \"2/12/2020\", \"2/13/2020\", \"2/14/2020\", \"2/15/2020\", \"2/16/2020\", \"2/17/2020\", \"2/18/2020\", \"2/19/2020\", \"2/20/2020\", \"2/21/2020\", \"2/22/2020\", \"2/23/2020\", \"2/24/2020\", \"2/25/2020\", \"2/26/2020\", \"2/27/2020\", \"2/28/2020\", \"2/29/2020\", \"3/1/2020\", \"3/2/2020\", \"3/3/2020\", \"3/4/2020\", \"3/5/2020\", \"3/6/2020\", \"3/7/2020\", \"3/8/2020\", \"3/9/2020\", \"3/10/2020\", \"3/11/2020\", \"3/12/2020\", \"3/13/2020\", \"3/14/2020\", \"3/15/2020\", \"3/16/2020\", \"3/17/2020\", \"3/18/2020\", \"3/19/2020\", \"3/20/2020\", \"3/21/2020\", \"3/22/2020\", \"3/23/2020\", \"3/24/2020\", \"3/25/2020\", \"3/26/2020\", \"3/27/2020\", \"3/28/2020\", \"3/29/2020\", \"3/30/2020\", \"3/31/2020\", \"4/1/2020\", \"4/2/2020\", \"4/3/2020\", \"4/4/2020\", \"4/5/2020\", \"4/6/2020\", \"4/7/2020\", \"4/8/2020\", \"4/9/2020\", \"4/10/2020\", \"4/11/2020\", \"4/12/2020\", \"4/13/2020\", \"4/14/2020\", \"4/15/2020\", \"4/16/2020\", \"4/17/2020\", \"4/18/2020\", \"4/19/2020\", \"4/20/2020\", \"4/21/2020\", \"4/22/2020\", \"4/23/2020\", \"4/24/2020\", \"4/25/2020\", \"4/26/2020\", \"4/27/2020\", \"4/28/2020\", \"4/29/2020\", \"4/30/2020\", \"5/1/2020\", \"5/2/2020\", \"5/3/2020\", \"5/4/2020\", \"5/5/2020\", \"5/6/2020\", \"5/7/2020\", \"5/8/2020\", \"5/9/2020\", \"5/10/2020\", \"5/11/2020\", \"5/12/2020\", \"5/13/2020\", \"5/14/2020\", \"5/15/2020\", \"5/16/2020\", \"5/17/2020\", \"5/18/2020\", \"5/19/2020\", \"5/20/2020\", \"5/21/2020\", \"5/22/2020\", \"5/23/2020\", \"5/24/2020\", \"5/25/2020\", \"5/26/2020\", \"5/27/2020\", \"5/28/2020\", \"5/29/2020\", \"5/30/2020\", \"5/31/2020\", \"6/1/2020\", \"6/2/2020\", \"6/3/2020\", \"6/4/2020\", \"6/5/2020\", \"6/6/2020\", \"6/7/2020\", \"6/8/2020\", \"6/9/2020\", \"6/10/2020\", \"6/11/2020\", \"6/12/2020\", \"6/13/2020\", \"6/14/2020\", \"6/15/2020\", \"6/16/2020\", \"6/17/2020\", \"6/18/2020\", \"6/19/2020\", \"6/20/2020\", \"6/21/2020\", \"6/22/2020\", \"6/23/2020\", \"6/24/2020\", \"6/25/2020\", \"6/26/2020\", \"6/27/2020\", \"6/28/2020\", \"6/29/2020\", \"6/30/2020\", \"7/1/2020\", \"7/2/2020\", \"7/3/2020\", \"7/4/2020\", \"7/5/2020\", \"7/6/2020\", \"7/7/2020\", \"7/8/2020\", \"7/9/2020\", \"7/10/2020\", \"7/11/2020\", \"7/12/2020\", \"7/13/2020\", \"7/14/2020\", \"7/15/2020\", \"7/16/2020\", \"7/17/2020\", \"7/18/2020\", \"7/19/2020\", \"7/20/2020\", \"7/21/2020\", \"7/22/2020\", \"7/23/2020\", \"7/24/2020\", \"7/25/2020\", \"7/26/2020\", \"7/27/2020\", \"7/28/2020\", \"7/29/2020\", \"7/30/2020\", \"7/31/2020\", \"8/1/2020\", \"8/2/2020\", \"8/3/2020\", \"8/4/2020\", \"8/5/2020\", \"8/6/2020\", \"8/7/2020\", \"8/8/2020\", \"8/9/2020\", \"8/10/2020\", \"8/11/2020\", \"8/12/2020\", \"8/13/2020\", \"8/14/2020\", \"8/15/2020\", \"8/16/2020\", \"8/17/2020\", \"8/18/2020\", \"8/19/2020\", \"8/20/2020\", \"8/21/2020\", \"8/22/2020\", \"8/23/2020\", \"8/24/2020\", \"8/25/2020\", \"8/26/2020\", \"8/27/2020\", \"8/28/2020\", \"8/29/2020\", \"8/30/2020\", \"8/31/2020\", \"9/1/2020\", \"9/2/2020\", \"9/3/2020\", \"9/4/2020\", \"9/5/2020\", \"9/6/2020\", \"9/7/2020\", \"9/8/2020\", \"9/9/2020\", \"9/10/2020\", \"9/11/2020\", \"9/12/2020\", \"9/13/2020\", \"9/14/2020\", \"9/15/2020\", \"9/16/2020\", \"9/17/2020\", \"9/18/2020\", \"9/19/2020\", \"9/20/2020\", \"9/21/2020\", \"9/22/2020\", \"9/23/2020\", \"9/24/2020\", \"9/25/2020\", \"9/26/2020\", \"9/27/2020\", \"9/28/2020\", \"9/29/2020\", \"9/30/2020\", \"10/1/2020\", \"10/2/2020\", \"10/3/2020\", \"10/4/2020\", \"10/5/2020\", \"10/6/2020\", \"10/7/2020\", \"10/8/2020\", \"10/9/2020\", \"10/10/2020\", \"10/11/2020\", \"10/12/2020\", \"10/13/2020\", \"10/14/2020\", \"10/15/2020\", \"10/16/2020\", \"10/17/2020\", \"10/18/2020\", \"10/19/2020\", \"10/20/2020\", \"10/21/2020\", \"10/22/2020\", \"10/23/2020\", \"10/24/2020\", \"10/25/2020\", \"10/26/2020\", \"10/27/2020\", \"10/28/2020\", \"10/29/2020\", \"10/30/2020\", \"10/31/2020\", \"11/1/2020\", \"11/2/2020\", \"11/3/2020\", \"11/4/2020\", \"11/5/2020\", \"11/6/2020\", \"11/7/2020\", \"11/8/2020\", \"11/9/2020\", \"11/10/2020\", \"11/11/2020\", \"11/12/2020\", \"11/13/2020\", \"11/14/2020\", \"11/15/2020\", \"11/16/2020\", \"11/17/2020\", \"11/18/2020\", \"11/19/2020\", \"11/20/2020\", \"11/21/2020\"], \"xaxis\": \"x\", \"y\": [11809, 14399, 17211, 20448, 24320, 28047, 31207, 34625, 37232, 40206, 42696, 44724, 59865, 64021, 66559, 68566, 70618, 72508, 74258, 74652, 75543, 76369, 77016, 77234, 77749, 78159, 78598, 78927, 79355, 79929, 80134, 80261, 80380, 80497, 80667, 80768, 80814, 80859, 80879, 80908, 80932, 80954, 80973, 80995, 81020, 81063, 81086, 81130, 81229, 81281, 81346, 81484, 81553, 81631, 81733, 81827, 81946, 82059, 82157, 82241, 82295, 82395, 82465, 82527, 82575, 82642, 82698, 82784, 82870, 82925, 83004, 83097, 83209, 83303, 83352, 83402, 83754, 83785, 83803, 83817, 83849, 83864, 83876, 83884, 83899, 83909, 83912, 83938, 83940, 83944, 83956, 83959, 83961, 83964, 83966, 83968, 83970, 83976, 83976, 83991, 84010, 84011, 84018, 84024, 84029, 84038, 84044, 84054, 84063, 84065, 84067, 84079, 84081, 84084, 84095, 84102, 84103, 84106, 84106, 84123, 84128, 84147, 84154, 84159, 84160, 84171, 84177, 84186, 84191, 84194, 84198, 84209, 84216, 84228, 84288, 84335, 84378, 84422, 84458, 84494, 84524, 84553, 84572, 84624, 84653, 84673, 84701, 84725, 84743, 84757, 84780, 84785, 84816, 84830, 84839, 84857, 84871, 84896, 84917, 84950, 84996, 85036, 85071, 85117, 85172, 85226, 85246, 85323, 85403, 85483, 85613, 85697, 85771, 85906, 86045, 86202, 86381, 86570, 86783, 86990, 87213, 87489, 87655, 87827, 87985, 88099, 88206, 88328, 88460, 88580, 88672, 88793, 88906, 88964, 89045, 89144, 89214, 89279, 89375, 89441, 89494, 89527, 89567, 89616, 89654, 89695, 89718, 89752, 89784, 89814, 89836, 89863, 89895, 89914, 89934, 89953, 89986, 90008, 90025, 90058, 90079, 90087, 90100, 90127, 90145, 90168, 90197, 90219, 90243, 90250, 90294, 90308, 90333, 90369, 90381, 90399, 90409, 90424, 90441, 90456, 90483, 90505, 90528, 90528, 90567, 90584, 90604, 90629, 90652, 90667, 90689, 90728, 90757, 90778, 90812, 90830, 90858, 90869, 90905, 90925, 90955, 90972, 91006, 91022, 91044, 91073, 91106, 91125, 91151, 91175, 91217, 91241, 91266, 91299, 91323, 91347, 91396, 91412, 91439, 91471, 91504, 91528, 91560, 91580, 91593, 91603, 91603, 91618, 91629, 91636, 91651, 91659, 91671, 91688, 91704], \"yaxis\": \"y\"}],\n",
       "                        {\"barmode\": \"relative\", \"coloraxis\": {\"colorbar\": {\"title\": {\"text\": \"China\"}}, \"colorscale\": [[0.0, \"#0d0887\"], [0.1111111111111111, \"#46039f\"], [0.2222222222222222, \"#7201a8\"], [0.3333333333333333, \"#9c179e\"], [0.4444444444444444, \"#bd3786\"], [0.5555555555555556, \"#d8576b\"], [0.6666666666666666, \"#ed7953\"], [0.7777777777777778, \"#fb9f3a\"], [0.8888888888888888, \"#fdca26\"], [1.0, \"#f0f921\"]]}, \"height\": 400, \"legend\": {\"tracegroupgap\": 0}, \"plot_bgcolor\": \"rgb(230,230,230)\", \"template\": {\"data\": {\"bar\": [{\"error_x\": {\"color\": \"#2a3f5f\"}, \"error_y\": {\"color\": \"#2a3f5f\"}, \"marker\": {\"line\": {\"color\": \"#E5ECF6\", \"width\": 0.5}}, \"type\": \"bar\"}], \"barpolar\": [{\"marker\": {\"line\": {\"color\": \"#E5ECF6\", \"width\": 0.5}}, \"type\": \"barpolar\"}], \"carpet\": [{\"aaxis\": {\"endlinecolor\": \"#2a3f5f\", \"gridcolor\": \"white\", \"linecolor\": \"white\", \"minorgridcolor\": \"white\", \"startlinecolor\": \"#2a3f5f\"}, \"baxis\": {\"endlinecolor\": \"#2a3f5f\", \"gridcolor\": \"white\", \"linecolor\": \"white\", \"minorgridcolor\": \"white\", \"startlinecolor\": \"#2a3f5f\"}, \"type\": \"carpet\"}], \"choropleth\": [{\"colorbar\": {\"outlinewidth\": 0, \"ticks\": \"\"}, \"type\": \"choropleth\"}], \"contour\": [{\"colorbar\": {\"outlinewidth\": 0, \"ticks\": \"\"}, \"colorscale\": [[0.0, \"#0d0887\"], [0.1111111111111111, \"#46039f\"], [0.2222222222222222, \"#7201a8\"], [0.3333333333333333, \"#9c179e\"], [0.4444444444444444, \"#bd3786\"], [0.5555555555555556, \"#d8576b\"], [0.6666666666666666, \"#ed7953\"], [0.7777777777777778, \"#fb9f3a\"], [0.8888888888888888, \"#fdca26\"], [1.0, \"#f0f921\"]], \"type\": \"contour\"}], \"contourcarpet\": [{\"colorbar\": {\"outlinewidth\": 0, \"ticks\": \"\"}, \"type\": \"contourcarpet\"}], \"heatmap\": [{\"colorbar\": {\"outlinewidth\": 0, \"ticks\": \"\"}, \"colorscale\": [[0.0, \"#0d0887\"], [0.1111111111111111, \"#46039f\"], [0.2222222222222222, \"#7201a8\"], [0.3333333333333333, \"#9c179e\"], [0.4444444444444444, \"#bd3786\"], [0.5555555555555556, \"#d8576b\"], [0.6666666666666666, \"#ed7953\"], [0.7777777777777778, \"#fb9f3a\"], [0.8888888888888888, \"#fdca26\"], [1.0, \"#f0f921\"]], \"type\": \"heatmap\"}], \"heatmapgl\": [{\"colorbar\": {\"outlinewidth\": 0, \"ticks\": \"\"}, \"colorscale\": [[0.0, \"#0d0887\"], [0.1111111111111111, \"#46039f\"], [0.2222222222222222, \"#7201a8\"], [0.3333333333333333, \"#9c179e\"], [0.4444444444444444, \"#bd3786\"], [0.5555555555555556, \"#d8576b\"], [0.6666666666666666, \"#ed7953\"], [0.7777777777777778, \"#fb9f3a\"], [0.8888888888888888, \"#fdca26\"], [1.0, \"#f0f921\"]], \"type\": \"heatmapgl\"}], \"histogram\": [{\"marker\": {\"colorbar\": {\"outlinewidth\": 0, \"ticks\": \"\"}}, \"type\": \"histogram\"}], \"histogram2d\": [{\"colorbar\": {\"outlinewidth\": 0, \"ticks\": \"\"}, \"colorscale\": [[0.0, \"#0d0887\"], [0.1111111111111111, \"#46039f\"], [0.2222222222222222, \"#7201a8\"], [0.3333333333333333, \"#9c179e\"], [0.4444444444444444, \"#bd3786\"], [0.5555555555555556, \"#d8576b\"], [0.6666666666666666, \"#ed7953\"], [0.7777777777777778, \"#fb9f3a\"], [0.8888888888888888, \"#fdca26\"], [1.0, \"#f0f921\"]], \"type\": \"histogram2d\"}], \"histogram2dcontour\": [{\"colorbar\": {\"outlinewidth\": 0, \"ticks\": \"\"}, \"colorscale\": [[0.0, \"#0d0887\"], [0.1111111111111111, \"#46039f\"], [0.2222222222222222, \"#7201a8\"], [0.3333333333333333, \"#9c179e\"], [0.4444444444444444, \"#bd3786\"], [0.5555555555555556, \"#d8576b\"], [0.6666666666666666, \"#ed7953\"], [0.7777777777777778, \"#fb9f3a\"], [0.8888888888888888, \"#fdca26\"], [1.0, \"#f0f921\"]], \"type\": \"histogram2dcontour\"}], \"mesh3d\": [{\"colorbar\": {\"outlinewidth\": 0, \"ticks\": \"\"}, \"type\": \"mesh3d\"}], \"parcoords\": [{\"line\": {\"colorbar\": {\"outlinewidth\": 0, \"ticks\": \"\"}}, \"type\": \"parcoords\"}], \"pie\": [{\"automargin\": true, \"type\": \"pie\"}], \"scatter\": [{\"marker\": {\"colorbar\": {\"outlinewidth\": 0, \"ticks\": \"\"}}, \"type\": \"scatter\"}], \"scatter3d\": [{\"line\": {\"colorbar\": {\"outlinewidth\": 0, \"ticks\": \"\"}}, \"marker\": {\"colorbar\": {\"outlinewidth\": 0, \"ticks\": \"\"}}, \"type\": \"scatter3d\"}], \"scattercarpet\": [{\"marker\": {\"colorbar\": {\"outlinewidth\": 0, \"ticks\": \"\"}}, \"type\": \"scattercarpet\"}], \"scattergeo\": [{\"marker\": {\"colorbar\": {\"outlinewidth\": 0, \"ticks\": \"\"}}, \"type\": \"scattergeo\"}], \"scattergl\": [{\"marker\": {\"colorbar\": {\"outlinewidth\": 0, \"ticks\": \"\"}}, \"type\": \"scattergl\"}], \"scattermapbox\": [{\"marker\": {\"colorbar\": {\"outlinewidth\": 0, \"ticks\": \"\"}}, \"type\": \"scattermapbox\"}], \"scatterpolar\": [{\"marker\": {\"colorbar\": {\"outlinewidth\": 0, \"ticks\": \"\"}}, \"type\": \"scatterpolar\"}], \"scatterpolargl\": [{\"marker\": {\"colorbar\": {\"outlinewidth\": 0, \"ticks\": \"\"}}, \"type\": \"scatterpolargl\"}], \"scatterternary\": [{\"marker\": {\"colorbar\": {\"outlinewidth\": 0, \"ticks\": \"\"}}, \"type\": \"scatterternary\"}], \"surface\": [{\"colorbar\": {\"outlinewidth\": 0, \"ticks\": \"\"}, \"colorscale\": [[0.0, \"#0d0887\"], [0.1111111111111111, \"#46039f\"], [0.2222222222222222, \"#7201a8\"], [0.3333333333333333, \"#9c179e\"], [0.4444444444444444, \"#bd3786\"], [0.5555555555555556, \"#d8576b\"], [0.6666666666666666, \"#ed7953\"], [0.7777777777777778, \"#fb9f3a\"], [0.8888888888888888, \"#fdca26\"], [1.0, \"#f0f921\"]], \"type\": \"surface\"}], \"table\": [{\"cells\": {\"fill\": {\"color\": \"#EBF0F8\"}, \"line\": {\"color\": \"white\"}}, \"header\": {\"fill\": {\"color\": \"#C8D4E3\"}, \"line\": {\"color\": \"white\"}}, \"type\": \"table\"}]}, \"layout\": {\"annotationdefaults\": {\"arrowcolor\": \"#2a3f5f\", \"arrowhead\": 0, \"arrowwidth\": 1}, \"coloraxis\": {\"colorbar\": {\"outlinewidth\": 0, \"ticks\": \"\"}}, \"colorscale\": {\"diverging\": [[0, \"#8e0152\"], [0.1, \"#c51b7d\"], [0.2, \"#de77ae\"], [0.3, \"#f1b6da\"], [0.4, \"#fde0ef\"], [0.5, \"#f7f7f7\"], [0.6, \"#e6f5d0\"], [0.7, \"#b8e186\"], [0.8, \"#7fbc41\"], [0.9, \"#4d9221\"], [1, \"#276419\"]], \"sequential\": [[0.0, \"#0d0887\"], [0.1111111111111111, \"#46039f\"], [0.2222222222222222, \"#7201a8\"], [0.3333333333333333, \"#9c179e\"], [0.4444444444444444, \"#bd3786\"], [0.5555555555555556, \"#d8576b\"], [0.6666666666666666, \"#ed7953\"], [0.7777777777777778, \"#fb9f3a\"], [0.8888888888888888, \"#fdca26\"], [1.0, \"#f0f921\"]], \"sequentialminus\": [[0.0, \"#0d0887\"], [0.1111111111111111, \"#46039f\"], [0.2222222222222222, \"#7201a8\"], [0.3333333333333333, \"#9c179e\"], [0.4444444444444444, \"#bd3786\"], [0.5555555555555556, \"#d8576b\"], [0.6666666666666666, \"#ed7953\"], [0.7777777777777778, \"#fb9f3a\"], [0.8888888888888888, \"#fdca26\"], [1.0, \"#f0f921\"]]}, \"colorway\": [\"#636efa\", \"#EF553B\", \"#00cc96\", \"#ab63fa\", \"#FFA15A\", \"#19d3f3\", \"#FF6692\", \"#B6E880\", \"#FF97FF\", \"#FECB52\"], \"font\": {\"color\": \"#2a3f5f\"}, \"geo\": {\"bgcolor\": \"white\", \"lakecolor\": \"white\", \"landcolor\": \"#E5ECF6\", \"showlakes\": true, \"showland\": true, \"subunitcolor\": \"white\"}, \"hoverlabel\": {\"align\": \"left\"}, \"hovermode\": \"closest\", \"mapbox\": {\"style\": \"light\"}, \"paper_bgcolor\": \"white\", \"plot_bgcolor\": \"#E5ECF6\", \"polar\": {\"angularaxis\": {\"gridcolor\": \"white\", \"linecolor\": \"white\", \"ticks\": \"\"}, \"bgcolor\": \"#E5ECF6\", \"radialaxis\": {\"gridcolor\": \"white\", \"linecolor\": \"white\", \"ticks\": \"\"}}, \"scene\": {\"xaxis\": {\"backgroundcolor\": \"#E5ECF6\", \"gridcolor\": \"white\", \"gridwidth\": 2, \"linecolor\": \"white\", \"showbackground\": true, \"ticks\": \"\", \"zerolinecolor\": \"white\"}, \"yaxis\": {\"backgroundcolor\": \"#E5ECF6\", \"gridcolor\": \"white\", \"gridwidth\": 2, \"linecolor\": \"white\", \"showbackground\": true, \"ticks\": \"\", \"zerolinecolor\": \"white\"}, \"zaxis\": {\"backgroundcolor\": \"#E5ECF6\", \"gridcolor\": \"white\", \"gridwidth\": 2, \"linecolor\": \"white\", \"showbackground\": true, \"ticks\": \"\", \"zerolinecolor\": \"white\"}}, \"shapedefaults\": {\"line\": {\"color\": \"#2a3f5f\"}}, \"ternary\": {\"aaxis\": {\"gridcolor\": \"white\", \"linecolor\": \"white\", \"ticks\": \"\"}, \"baxis\": {\"gridcolor\": \"white\", \"linecolor\": \"white\", \"ticks\": \"\"}, \"bgcolor\": \"#E5ECF6\", \"caxis\": {\"gridcolor\": \"white\", \"linecolor\": \"white\", \"ticks\": \"\"}}, \"title\": {\"x\": 0.05}, \"xaxis\": {\"automargin\": true, \"gridcolor\": \"white\", \"linecolor\": \"white\", \"ticks\": \"\", \"title\": {\"standoff\": 15}, \"zerolinecolor\": \"white\", \"zerolinewidth\": 2}, \"yaxis\": {\"automargin\": true, \"gridcolor\": \"white\", \"linecolor\": \"white\", \"ticks\": \"\", \"title\": {\"standoff\": 15}, \"zerolinecolor\": \"white\", \"zerolinewidth\": 2}}}, \"title\": {\"text\": \"Covid 19 cases in China per day\"}, \"xaxis\": {\"anchor\": \"y\", \"domain\": [0.0, 1.0], \"title\": {\"text\": \"date\"}}, \"yaxis\": {\"anchor\": \"x\", \"domain\": [0.0, 1.0], \"title\": {\"text\": \"China\"}}},\n",
       "                        {\"responsive\": true}\n",
       "                    ).then(function(){\n",
       "                            \n",
       "var gd = document.getElementById('8e91b1a4-74c9-4049-987b-2252ee11f0c2');\n",
       "var x = new MutationObserver(function (mutations, observer) {{\n",
       "        var display = window.getComputedStyle(gd).display;\n",
       "        if (!display || display === 'none') {{\n",
       "            console.log([gd, 'removed!']);\n",
       "            Plotly.purge(gd);\n",
       "            observer.disconnect();\n",
       "        }}\n",
       "}});\n",
       "\n",
       "// Listen for the removal of the full notebook cells\n",
       "var notebookContainer = gd.closest('#notebook-container');\n",
       "if (notebookContainer) {{\n",
       "    x.observe(notebookContainer, {childList: true});\n",
       "}}\n",
       "\n",
       "// Listen for the clearing of the current output cell\n",
       "var outputEl = gd.closest('.output');\n",
       "if (outputEl) {{\n",
       "    x.observe(outputEl, {childList: true});\n",
       "}}\n",
       "\n",
       "                        })\n",
       "                };\n",
       "                \n",
       "            </script>\n",
       "        </div>\n",
       "</body>\n",
       "</html>"
      ]
     },
     "metadata": {
      "tags": []
     },
     "output_type": "display_data"
    }
   ],
   "source": [
    "fig = px.bar(Cases_perday,x='date',y='India',color='India',orientation='v',height=400,\n",
    "             title = 'Covid 19 cases in India per day',color_discrete_sequence=px.colors.sequential.Plasma_r)\n",
    "fig.update_layout(plot_bgcolor='rgb(230,230,230)')\n",
    "fig.show()\n",
    "\n",
    "fig = px.bar(Cases_perday,x='date',y='United States',color='United States',orientation='v',height=400,\n",
    "             title = 'Covid 19 cases in United States per day',color_discrete_sequence=px.colors.cyclical.IceFire)\n",
    "fig.update_layout(plot_bgcolor='rgb(230,230,230)')\n",
    "fig.show()\n",
    "\n",
    "fig = px.bar(Cases_perday,x='date',y='Italy',color='Italy',orientation='v',height=400,\n",
    "             title = 'Covid 19 cases in Italy per day',color_discrete_sequence=px.colors.cyclical.IceFire)\n",
    "fig.update_layout(plot_bgcolor='rgb(230,230,230)')\n",
    "fig.show()\n",
    "\n",
    "fig = px.bar(Cases_perday,x='date',y='China',color='China',orientation='v',height=400,\n",
    "             title = 'Covid 19 cases in China per day',color_discrete_sequence=px.colors.qualitative.G10)\n",
    "fig.update_layout(plot_bgcolor='rgb(230,230,230)')\n",
    "fig.show()"
   ]
  },
  {
   "cell_type": "markdown",
   "metadata": {},
   "source": [
    "# New_Deaths per day"
   ]
  },
  {
   "cell_type": "code",
   "execution_count": 12,
   "metadata": {
    "colab": {
     "base_uri": "https://localhost:8080/",
     "height": 204
    },
    "executionInfo": {
     "elapsed": 1488,
     "status": "ok",
     "timestamp": 1606069919995,
     "user": {
      "displayName": "Saloni Bansal",
      "photoUrl": "",
      "userId": "02261793113701121216"
     },
     "user_tz": -330
    },
    "id": "9lW7XzIDOeSq",
    "outputId": "a7cb278a-1279-45da-b1df-2437c2c6dde5"
   },
   "outputs": [
    {
     "data": {
      "text/html": [
       "<div>\n",
       "<style scoped>\n",
       "    .dataframe tbody tr th:only-of-type {\n",
       "        vertical-align: middle;\n",
       "    }\n",
       "\n",
       "    .dataframe tbody tr th {\n",
       "        vertical-align: top;\n",
       "    }\n",
       "\n",
       "    .dataframe thead th {\n",
       "        text-align: right;\n",
       "    }\n",
       "</style>\n",
       "<table border=\"1\" class=\"dataframe\">\n",
       "  <thead>\n",
       "    <tr style=\"text-align: right;\">\n",
       "      <th></th>\n",
       "      <th>date</th>\n",
       "      <th>India</th>\n",
       "      <th>United States</th>\n",
       "      <th>Italy</th>\n",
       "      <th>China</th>\n",
       "    </tr>\n",
       "  </thead>\n",
       "  <tbody>\n",
       "    <tr>\n",
       "      <th>0</th>\n",
       "      <td>2/1/2020</td>\n",
       "      <td>0.0</td>\n",
       "      <td>0</td>\n",
       "      <td>0</td>\n",
       "      <td>46</td>\n",
       "    </tr>\n",
       "    <tr>\n",
       "      <th>1</th>\n",
       "      <td>2/2/2020</td>\n",
       "      <td>0.0</td>\n",
       "      <td>0</td>\n",
       "      <td>0</td>\n",
       "      <td>45</td>\n",
       "    </tr>\n",
       "    <tr>\n",
       "      <th>2</th>\n",
       "      <td>2/3/2020</td>\n",
       "      <td>0.0</td>\n",
       "      <td>0</td>\n",
       "      <td>0</td>\n",
       "      <td>57</td>\n",
       "    </tr>\n",
       "    <tr>\n",
       "      <th>3</th>\n",
       "      <td>2/4/2020</td>\n",
       "      <td>0.0</td>\n",
       "      <td>0</td>\n",
       "      <td>0</td>\n",
       "      <td>65</td>\n",
       "    </tr>\n",
       "    <tr>\n",
       "      <th>4</th>\n",
       "      <td>2/5/2020</td>\n",
       "      <td>0.0</td>\n",
       "      <td>0</td>\n",
       "      <td>0</td>\n",
       "      <td>66</td>\n",
       "    </tr>\n",
       "  </tbody>\n",
       "</table>\n",
       "</div>"
      ],
      "text/plain": [
       "       date  India  United States  Italy  China\n",
       "0  2/1/2020    0.0              0      0     46\n",
       "1  2/2/2020    0.0              0      0     45\n",
       "2  2/3/2020    0.0              0      0     57\n",
       "3  2/4/2020    0.0              0      0     65\n",
       "4  2/5/2020    0.0              0      0     66"
      ]
     },
     "execution_count": 12,
     "metadata": {
      "tags": []
     },
     "output_type": "execute_result"
    }
   ],
   "source": [
    "Death_perday = pd.read_csv('Death_perday.csv')\n",
    "Death_perday.head()"
   ]
  },
  {
   "cell_type": "markdown",
   "metadata": {},
   "source": [
    "# Visualizing trend of new death_cases per day for - India, US, China and Italy"
   ]
  },
  {
   "cell_type": "code",
   "execution_count": 13,
   "metadata": {
    "colab": {
     "base_uri": "https://localhost:8080/",
     "height": 1000
    },
    "executionInfo": {
     "elapsed": 3454,
     "status": "ok",
     "timestamp": 1606069975503,
     "user": {
      "displayName": "Saloni Bansal",
      "photoUrl": "",
      "userId": "02261793113701121216"
     },
     "user_tz": -330
    },
    "id": "mJdvIDvzOhov",
    "outputId": "41d12710-ab76-41a4-c846-acaa3cdfe93b"
   },
   "outputs": [
    {
     "data": {
      "text/html": [
       "<html>\n",
       "<head><meta charset=\"utf-8\" /></head>\n",
       "<body>\n",
       "    <div>\n",
       "            <script src=\"https://cdnjs.cloudflare.com/ajax/libs/mathjax/2.7.5/MathJax.js?config=TeX-AMS-MML_SVG\"></script><script type=\"text/javascript\">if (window.MathJax) {MathJax.Hub.Config({SVG: {font: \"STIX-Web\"}});}</script>\n",
       "                <script type=\"text/javascript\">window.PlotlyConfig = {MathJaxConfig: 'local'};</script>\n",
       "        <script src=\"https://cdn.plot.ly/plotly-latest.min.js\"></script>    \n",
       "            <div id=\"d6e2e6fb-0429-47ee-9687-d4c616c438e2\" class=\"plotly-graph-div\" style=\"height:400px; width:100%;\"></div>\n",
       "            <script type=\"text/javascript\">\n",
       "                \n",
       "                    window.PLOTLYENV=window.PLOTLYENV || {};\n",
       "                    \n",
       "                if (document.getElementById(\"d6e2e6fb-0429-47ee-9687-d4c616c438e2\")) {\n",
       "                    Plotly.newPlot(\n",
       "                        'd6e2e6fb-0429-47ee-9687-d4c616c438e2',\n",
       "                        [{\"alignmentgroup\": \"True\", \"hoverlabel\": {\"namelength\": 0}, \"hovertemplate\": \"date=%{x}<br>India=%{marker.color}\", \"legendgroup\": \"\", \"marker\": {\"color\": [0.0, 0.0, 0.0, 0.0, 0.0, 0.0, 0.0, 0.0, 0.0, 0.0, 0.0, 0.0, 0.0, 0.0, 0.0, 0.0, 0.0, 0.0, 0.0, 0.0, 0.0, 0.0, 0.0, 0.0, 0.0, 0.0, 0.0, 0.0, 0.0, 0.0, 0.0, 0.0, 0.0, 0.0, 0.0, 0.0, 0.0, null, 0.0, 0.0, 0.0, 1.0, 1.0, 0.0, 0.0, 1.0, 0.0, 0.0, 1.0, 0.0, 0.0, 3.0, 2.0, 0.0, 4.0, 4.0, 2.0, 6.0, 4.0, 3.0, 3.0, 15.0, 6.0, 12.0, 9.0, 32.0, 5.0, 35.0, 17.0, 33.0, 40.0, 34.0, 35.0, 31.0, 38.0, 37.0, 23.0, 43.0, 27.0, 36.0, 47.0, 50.0, 41.0, 37.0, 57.0, 49.0, 48.0, 62.0, 73.0, 67.0, 73.0, 71.0, 83.0, 72.0, 195.0, 126.0, 89.0, 103.0, 95.0, 128.0, 97.0, 87.0, 122.0, 134.0, 100.0, 103.0, 120.0, 157.0, 134.0, 140.0, 132.0, 148.0, 137.0, 147.0, 154.0, 146.0, 170.0, 194.0, 175.0, 265.0, 193.0, 230.0, 204.0, 217.0, 260.0, 273.0, 294.0, 287.0, 206.0, 331.0, 279.0, 357.0, 396.0, 386.0, 311.0, 325.0, 380.0, 2003.0, 334.0, 336.0, 375.0, 306.0, 445.0, 312.0, 465.0, 418.0, 407.0, 384.0, 410.0, 380.0, 418.0, 507.0, 434.0, 379.0, 442.0, 613.0, 425.0, 467.0, 482.0, 487.0, 475.0, 519.0, 551.0, 500.0, 553.0, 582.0, 606.0, 687.0, 671.0, 543.0, 681.0, 587.0, 648.0, 1129.0, 740.0, 757.0, 705.0, 708.0, 654.0, 768.0, 775.0, 779.0, 764.0, 853.0, 771.0, 803.0, 857.0, 904.0, 886.0, 933.0, 861.0, 1007.0, 871.0, 834.0, 942.0, 1007.0, 996.0, 944.0, 941.0, 876.0, 1092.0, 977.0, 983.0, 945.0, 912.0, 836.0, 848.0, 1059.0, 1023.0, 1057.0, 1021.0, 948.0, 971.0, 759.0, 1105.0, 1043.0, 1096.0, 1089.0, 1065.0, 1016.0, 1133.0, 1115.0, 1172.0, 1209.0, 1201.0, 1114.0, 1136.0, 1054.0, 1290.0, 1132.0, 1174.0, 1247.0, 1133.0, 1130.0, 1053.0, 1085.0, 1129.0, 1141.0, 1089.0, 1124.0, 1039.0, 776.0, 1179.0, 1181.0, 1095.0, 1069.0, 940.0, 903.0, 884.0, 986.0, 971.0, 964.0, 926.0, 918.0, 816.0, 706.0, 730.0, 680.0, 895.0, 837.0, 1033.0, 579.0, 587.0, 717.0, 702.0, 690.0, 650.0, 578.0, 480.0, 488.0, 508.0, 517.0, 563.0, 551.0, 470.0, 496.0, 490.0, 514.0, 704.0, 670.0, 577.0, 559.0, 490.0, 448.0, 512.0, 550.0, 547.0, 520.0, 447.0, 435.0, 449.0, 474.0, 585.0, 584.0, 564.0], \"coloraxis\": \"coloraxis\"}, \"name\": \"\", \"offsetgroup\": \"\", \"orientation\": \"v\", \"showlegend\": false, \"textposition\": \"auto\", \"type\": \"bar\", \"x\": [\"2/1/2020\", \"2/2/2020\", \"2/3/2020\", \"2/4/2020\", \"2/5/2020\", \"2/6/2020\", \"2/7/2020\", \"2/8/2020\", \"2/9/2020\", \"2/10/2020\", \"2/11/2020\", \"2/12/2020\", \"2/13/2020\", \"2/14/2020\", \"2/15/2020\", \"2/16/2020\", \"2/17/2020\", \"2/18/2020\", \"2/19/2020\", \"2/20/2020\", \"2/21/2020\", \"2/22/2020\", \"2/23/2020\", \"2/24/2020\", \"2/25/2020\", \"2/26/2020\", \"2/27/2020\", \"2/28/2020\", \"2/29/2020\", \"3/1/2020\", \"3/2/2020\", \"3/3/2020\", \"3/4/2020\", \"3/5/2020\", \"3/6/2020\", \"3/7/2020\", \"3/8/2020\", \"3/9/2020\", \"3/10/2020\", \"3/11/2020\", \"3/12/2020\", \"3/13/2020\", \"3/14/2020\", \"3/15/2020\", \"3/16/2020\", \"3/17/2020\", \"3/18/2020\", \"3/19/2020\", \"3/20/2020\", \"3/21/2020\", \"3/22/2020\", \"3/23/2020\", \"3/24/2020\", \"3/25/2020\", \"3/26/2020\", \"3/27/2020\", \"3/28/2020\", \"3/29/2020\", \"3/30/2020\", \"3/31/2020\", \"4/1/2020\", \"4/2/2020\", \"4/3/2020\", \"4/4/2020\", \"4/5/2020\", \"4/6/2020\", \"4/7/2020\", \"4/8/2020\", \"4/9/2020\", \"4/10/2020\", \"4/11/2020\", \"4/12/2020\", \"4/13/2020\", \"4/14/2020\", \"4/15/2020\", \"4/16/2020\", \"4/17/2020\", \"4/18/2020\", \"4/19/2020\", \"4/20/2020\", \"4/21/2020\", \"4/22/2020\", \"4/23/2020\", \"4/24/2020\", \"4/25/2020\", \"4/26/2020\", \"4/27/2020\", \"4/28/2020\", \"4/29/2020\", \"4/30/2020\", \"5/1/2020\", \"5/2/2020\", \"5/3/2020\", \"5/4/2020\", \"5/5/2020\", \"5/6/2020\", \"5/7/2020\", \"5/8/2020\", \"5/9/2020\", \"5/10/2020\", \"5/11/2020\", \"5/12/2020\", \"5/13/2020\", \"5/14/2020\", \"5/15/2020\", \"5/16/2020\", \"5/17/2020\", \"5/18/2020\", \"5/19/2020\", \"5/20/2020\", \"5/21/2020\", \"5/22/2020\", \"5/23/2020\", \"5/24/2020\", \"5/25/2020\", \"5/26/2020\", \"5/27/2020\", \"5/28/2020\", \"5/29/2020\", \"5/30/2020\", \"5/31/2020\", \"6/1/2020\", \"6/2/2020\", \"6/3/2020\", \"6/4/2020\", \"6/5/2020\", \"6/6/2020\", \"6/7/2020\", \"6/8/2020\", \"6/9/2020\", \"6/10/2020\", \"6/11/2020\", \"6/12/2020\", \"6/13/2020\", \"6/14/2020\", \"6/15/2020\", \"6/16/2020\", \"6/17/2020\", \"6/18/2020\", \"6/19/2020\", \"6/20/2020\", \"6/21/2020\", \"6/22/2020\", \"6/23/2020\", \"6/24/2020\", \"6/25/2020\", \"6/26/2020\", \"6/27/2020\", \"6/28/2020\", \"6/29/2020\", \"6/30/2020\", \"7/1/2020\", \"7/2/2020\", \"7/3/2020\", \"7/4/2020\", \"7/5/2020\", \"7/6/2020\", \"7/7/2020\", \"7/8/2020\", \"7/9/2020\", \"7/10/2020\", \"7/11/2020\", \"7/12/2020\", \"7/13/2020\", \"7/14/2020\", \"7/15/2020\", \"7/16/2020\", \"7/17/2020\", \"7/18/2020\", \"7/19/2020\", \"7/20/2020\", \"7/21/2020\", \"7/22/2020\", \"7/23/2020\", \"7/24/2020\", \"7/25/2020\", \"7/26/2020\", \"7/27/2020\", \"7/28/2020\", \"7/29/2020\", \"7/30/2020\", \"7/31/2020\", \"8/1/2020\", \"8/2/2020\", \"8/3/2020\", \"8/4/2020\", \"8/5/2020\", \"8/6/2020\", \"8/7/2020\", \"8/8/2020\", \"8/9/2020\", \"8/10/2020\", \"8/11/2020\", \"8/12/2020\", \"8/13/2020\", \"8/14/2020\", \"8/15/2020\", \"8/16/2020\", \"8/17/2020\", \"8/18/2020\", \"8/19/2020\", \"8/20/2020\", \"8/21/2020\", \"8/22/2020\", \"8/23/2020\", \"8/24/2020\", \"8/25/2020\", \"8/26/2020\", \"8/27/2020\", \"8/28/2020\", \"8/29/2020\", \"8/30/2020\", \"8/31/2020\", \"9/1/2020\", \"9/2/2020\", \"9/3/2020\", \"9/4/2020\", \"9/5/2020\", \"9/6/2020\", \"9/7/2020\", \"9/8/2020\", \"9/9/2020\", \"9/10/2020\", \"9/11/2020\", \"9/12/2020\", \"9/13/2020\", \"9/14/2020\", \"9/15/2020\", \"9/16/2020\", \"9/17/2020\", \"9/18/2020\", \"9/19/2020\", \"9/20/2020\", \"9/21/2020\", \"9/22/2020\", \"9/23/2020\", \"9/24/2020\", \"9/25/2020\", \"9/26/2020\", \"9/27/2020\", \"9/28/2020\", \"9/29/2020\", \"9/30/2020\", \"10/1/2020\", \"10/2/2020\", \"10/3/2020\", \"10/4/2020\", \"10/5/2020\", \"10/6/2020\", \"10/7/2020\", \"10/8/2020\", \"10/9/2020\", \"10/10/2020\", \"10/11/2020\", \"10/12/2020\", \"10/13/2020\", \"10/14/2020\", \"10/15/2020\", \"10/16/2020\", \"10/17/2020\", \"10/18/2020\", \"10/19/2020\", \"10/20/2020\", \"10/21/2020\", \"10/22/2020\", \"10/23/2020\", \"10/24/2020\", \"10/25/2020\", \"10/26/2020\", \"10/27/2020\", \"10/28/2020\", \"10/29/2020\", \"10/30/2020\", \"10/31/2020\", \"11/1/2020\", \"11/2/2020\", \"11/3/2020\", \"11/4/2020\", \"11/5/2020\", \"11/6/2020\", \"11/7/2020\", \"11/8/2020\", \"11/9/2020\", \"11/10/2020\", \"11/11/2020\", \"11/12/2020\", \"11/13/2020\", \"11/14/2020\", \"11/15/2020\", \"11/16/2020\", \"11/17/2020\", \"11/18/2020\", \"11/19/2020\", \"11/20/2020\", \"11/21/2020\"], \"xaxis\": \"x\", \"y\": [0.0, 0.0, 0.0, 0.0, 0.0, 0.0, 0.0, 0.0, 0.0, 0.0, 0.0, 0.0, 0.0, 0.0, 0.0, 0.0, 0.0, 0.0, 0.0, 0.0, 0.0, 0.0, 0.0, 0.0, 0.0, 0.0, 0.0, 0.0, 0.0, 0.0, 0.0, 0.0, 0.0, 0.0, 0.0, 0.0, 0.0, null, 0.0, 0.0, 0.0, 1.0, 1.0, 0.0, 0.0, 1.0, 0.0, 0.0, 1.0, 0.0, 0.0, 3.0, 2.0, 0.0, 4.0, 4.0, 2.0, 6.0, 4.0, 3.0, 3.0, 15.0, 6.0, 12.0, 9.0, 32.0, 5.0, 35.0, 17.0, 33.0, 40.0, 34.0, 35.0, 31.0, 38.0, 37.0, 23.0, 43.0, 27.0, 36.0, 47.0, 50.0, 41.0, 37.0, 57.0, 49.0, 48.0, 62.0, 73.0, 67.0, 73.0, 71.0, 83.0, 72.0, 195.0, 126.0, 89.0, 103.0, 95.0, 128.0, 97.0, 87.0, 122.0, 134.0, 100.0, 103.0, 120.0, 157.0, 134.0, 140.0, 132.0, 148.0, 137.0, 147.0, 154.0, 146.0, 170.0, 194.0, 175.0, 265.0, 193.0, 230.0, 204.0, 217.0, 260.0, 273.0, 294.0, 287.0, 206.0, 331.0, 279.0, 357.0, 396.0, 386.0, 311.0, 325.0, 380.0, 2003.0, 334.0, 336.0, 375.0, 306.0, 445.0, 312.0, 465.0, 418.0, 407.0, 384.0, 410.0, 380.0, 418.0, 507.0, 434.0, 379.0, 442.0, 613.0, 425.0, 467.0, 482.0, 487.0, 475.0, 519.0, 551.0, 500.0, 553.0, 582.0, 606.0, 687.0, 671.0, 543.0, 681.0, 587.0, 648.0, 1129.0, 740.0, 757.0, 705.0, 708.0, 654.0, 768.0, 775.0, 779.0, 764.0, 853.0, 771.0, 803.0, 857.0, 904.0, 886.0, 933.0, 861.0, 1007.0, 871.0, 834.0, 942.0, 1007.0, 996.0, 944.0, 941.0, 876.0, 1092.0, 977.0, 983.0, 945.0, 912.0, 836.0, 848.0, 1059.0, 1023.0, 1057.0, 1021.0, 948.0, 971.0, 759.0, 1105.0, 1043.0, 1096.0, 1089.0, 1065.0, 1016.0, 1133.0, 1115.0, 1172.0, 1209.0, 1201.0, 1114.0, 1136.0, 1054.0, 1290.0, 1132.0, 1174.0, 1247.0, 1133.0, 1130.0, 1053.0, 1085.0, 1129.0, 1141.0, 1089.0, 1124.0, 1039.0, 776.0, 1179.0, 1181.0, 1095.0, 1069.0, 940.0, 903.0, 884.0, 986.0, 971.0, 964.0, 926.0, 918.0, 816.0, 706.0, 730.0, 680.0, 895.0, 837.0, 1033.0, 579.0, 587.0, 717.0, 702.0, 690.0, 650.0, 578.0, 480.0, 488.0, 508.0, 517.0, 563.0, 551.0, 470.0, 496.0, 490.0, 514.0, 704.0, 670.0, 577.0, 559.0, 490.0, 448.0, 512.0, 550.0, 547.0, 520.0, 447.0, 435.0, 449.0, 474.0, 585.0, 584.0, 564.0], \"yaxis\": \"y\"}],\n",
       "                        {\"barmode\": \"relative\", \"coloraxis\": {\"colorbar\": {\"title\": {\"text\": \"India\"}}, \"colorscale\": [[0.0, \"#0d0887\"], [0.1111111111111111, \"#46039f\"], [0.2222222222222222, \"#7201a8\"], [0.3333333333333333, \"#9c179e\"], [0.4444444444444444, \"#bd3786\"], [0.5555555555555556, \"#d8576b\"], [0.6666666666666666, \"#ed7953\"], [0.7777777777777778, \"#fb9f3a\"], [0.8888888888888888, \"#fdca26\"], [1.0, \"#f0f921\"]]}, \"height\": 400, \"legend\": {\"tracegroupgap\": 0}, \"plot_bgcolor\": \"rgb(230,230,230)\", \"template\": {\"data\": {\"bar\": [{\"error_x\": {\"color\": \"#2a3f5f\"}, \"error_y\": {\"color\": \"#2a3f5f\"}, \"marker\": {\"line\": {\"color\": \"#E5ECF6\", \"width\": 0.5}}, \"type\": \"bar\"}], \"barpolar\": [{\"marker\": {\"line\": {\"color\": \"#E5ECF6\", \"width\": 0.5}}, \"type\": \"barpolar\"}], \"carpet\": [{\"aaxis\": {\"endlinecolor\": \"#2a3f5f\", \"gridcolor\": \"white\", \"linecolor\": \"white\", \"minorgridcolor\": \"white\", \"startlinecolor\": \"#2a3f5f\"}, \"baxis\": {\"endlinecolor\": \"#2a3f5f\", \"gridcolor\": \"white\", \"linecolor\": \"white\", \"minorgridcolor\": \"white\", \"startlinecolor\": \"#2a3f5f\"}, \"type\": \"carpet\"}], \"choropleth\": [{\"colorbar\": {\"outlinewidth\": 0, \"ticks\": \"\"}, \"type\": \"choropleth\"}], \"contour\": [{\"colorbar\": {\"outlinewidth\": 0, \"ticks\": \"\"}, \"colorscale\": [[0.0, \"#0d0887\"], [0.1111111111111111, \"#46039f\"], [0.2222222222222222, \"#7201a8\"], [0.3333333333333333, \"#9c179e\"], [0.4444444444444444, \"#bd3786\"], [0.5555555555555556, \"#d8576b\"], [0.6666666666666666, \"#ed7953\"], [0.7777777777777778, \"#fb9f3a\"], [0.8888888888888888, \"#fdca26\"], [1.0, \"#f0f921\"]], \"type\": \"contour\"}], \"contourcarpet\": [{\"colorbar\": {\"outlinewidth\": 0, \"ticks\": \"\"}, \"type\": \"contourcarpet\"}], \"heatmap\": [{\"colorbar\": {\"outlinewidth\": 0, \"ticks\": \"\"}, \"colorscale\": [[0.0, \"#0d0887\"], [0.1111111111111111, \"#46039f\"], [0.2222222222222222, \"#7201a8\"], [0.3333333333333333, \"#9c179e\"], [0.4444444444444444, \"#bd3786\"], [0.5555555555555556, \"#d8576b\"], [0.6666666666666666, \"#ed7953\"], [0.7777777777777778, \"#fb9f3a\"], [0.8888888888888888, \"#fdca26\"], [1.0, \"#f0f921\"]], \"type\": \"heatmap\"}], \"heatmapgl\": [{\"colorbar\": {\"outlinewidth\": 0, \"ticks\": \"\"}, \"colorscale\": [[0.0, \"#0d0887\"], [0.1111111111111111, \"#46039f\"], [0.2222222222222222, \"#7201a8\"], [0.3333333333333333, \"#9c179e\"], [0.4444444444444444, \"#bd3786\"], [0.5555555555555556, \"#d8576b\"], [0.6666666666666666, \"#ed7953\"], [0.7777777777777778, \"#fb9f3a\"], [0.8888888888888888, \"#fdca26\"], [1.0, \"#f0f921\"]], \"type\": \"heatmapgl\"}], \"histogram\": [{\"marker\": {\"colorbar\": {\"outlinewidth\": 0, \"ticks\": \"\"}}, \"type\": \"histogram\"}], \"histogram2d\": [{\"colorbar\": {\"outlinewidth\": 0, \"ticks\": \"\"}, \"colorscale\": [[0.0, \"#0d0887\"], [0.1111111111111111, \"#46039f\"], [0.2222222222222222, \"#7201a8\"], [0.3333333333333333, \"#9c179e\"], [0.4444444444444444, \"#bd3786\"], [0.5555555555555556, \"#d8576b\"], [0.6666666666666666, \"#ed7953\"], [0.7777777777777778, \"#fb9f3a\"], [0.8888888888888888, \"#fdca26\"], [1.0, \"#f0f921\"]], \"type\": \"histogram2d\"}], \"histogram2dcontour\": [{\"colorbar\": {\"outlinewidth\": 0, \"ticks\": \"\"}, \"colorscale\": [[0.0, \"#0d0887\"], [0.1111111111111111, \"#46039f\"], [0.2222222222222222, \"#7201a8\"], [0.3333333333333333, \"#9c179e\"], [0.4444444444444444, \"#bd3786\"], [0.5555555555555556, \"#d8576b\"], [0.6666666666666666, \"#ed7953\"], [0.7777777777777778, \"#fb9f3a\"], [0.8888888888888888, \"#fdca26\"], [1.0, \"#f0f921\"]], \"type\": \"histogram2dcontour\"}], \"mesh3d\": [{\"colorbar\": {\"outlinewidth\": 0, \"ticks\": \"\"}, \"type\": \"mesh3d\"}], \"parcoords\": [{\"line\": {\"colorbar\": {\"outlinewidth\": 0, \"ticks\": \"\"}}, \"type\": \"parcoords\"}], \"pie\": [{\"automargin\": true, \"type\": \"pie\"}], \"scatter\": [{\"marker\": {\"colorbar\": {\"outlinewidth\": 0, \"ticks\": \"\"}}, \"type\": \"scatter\"}], \"scatter3d\": [{\"line\": {\"colorbar\": {\"outlinewidth\": 0, \"ticks\": \"\"}}, \"marker\": {\"colorbar\": {\"outlinewidth\": 0, \"ticks\": \"\"}}, \"type\": \"scatter3d\"}], \"scattercarpet\": [{\"marker\": {\"colorbar\": {\"outlinewidth\": 0, \"ticks\": \"\"}}, \"type\": \"scattercarpet\"}], \"scattergeo\": [{\"marker\": {\"colorbar\": {\"outlinewidth\": 0, \"ticks\": \"\"}}, \"type\": \"scattergeo\"}], \"scattergl\": [{\"marker\": {\"colorbar\": {\"outlinewidth\": 0, \"ticks\": \"\"}}, \"type\": \"scattergl\"}], \"scattermapbox\": [{\"marker\": {\"colorbar\": {\"outlinewidth\": 0, \"ticks\": \"\"}}, \"type\": \"scattermapbox\"}], \"scatterpolar\": [{\"marker\": {\"colorbar\": {\"outlinewidth\": 0, \"ticks\": \"\"}}, \"type\": \"scatterpolar\"}], \"scatterpolargl\": [{\"marker\": {\"colorbar\": {\"outlinewidth\": 0, \"ticks\": \"\"}}, \"type\": \"scatterpolargl\"}], \"scatterternary\": [{\"marker\": {\"colorbar\": {\"outlinewidth\": 0, \"ticks\": \"\"}}, \"type\": \"scatterternary\"}], \"surface\": [{\"colorbar\": {\"outlinewidth\": 0, \"ticks\": \"\"}, \"colorscale\": [[0.0, \"#0d0887\"], [0.1111111111111111, \"#46039f\"], [0.2222222222222222, \"#7201a8\"], [0.3333333333333333, \"#9c179e\"], [0.4444444444444444, \"#bd3786\"], [0.5555555555555556, \"#d8576b\"], [0.6666666666666666, \"#ed7953\"], [0.7777777777777778, \"#fb9f3a\"], [0.8888888888888888, \"#fdca26\"], [1.0, \"#f0f921\"]], \"type\": \"surface\"}], \"table\": [{\"cells\": {\"fill\": {\"color\": \"#EBF0F8\"}, \"line\": {\"color\": \"white\"}}, \"header\": {\"fill\": {\"color\": \"#C8D4E3\"}, \"line\": {\"color\": \"white\"}}, \"type\": \"table\"}]}, \"layout\": {\"annotationdefaults\": {\"arrowcolor\": \"#2a3f5f\", \"arrowhead\": 0, \"arrowwidth\": 1}, \"coloraxis\": {\"colorbar\": {\"outlinewidth\": 0, \"ticks\": \"\"}}, \"colorscale\": {\"diverging\": [[0, \"#8e0152\"], [0.1, \"#c51b7d\"], [0.2, \"#de77ae\"], [0.3, \"#f1b6da\"], [0.4, \"#fde0ef\"], [0.5, \"#f7f7f7\"], [0.6, \"#e6f5d0\"], [0.7, \"#b8e186\"], [0.8, \"#7fbc41\"], [0.9, \"#4d9221\"], [1, \"#276419\"]], \"sequential\": [[0.0, \"#0d0887\"], [0.1111111111111111, \"#46039f\"], [0.2222222222222222, \"#7201a8\"], [0.3333333333333333, \"#9c179e\"], [0.4444444444444444, \"#bd3786\"], [0.5555555555555556, \"#d8576b\"], [0.6666666666666666, \"#ed7953\"], [0.7777777777777778, \"#fb9f3a\"], [0.8888888888888888, \"#fdca26\"], [1.0, \"#f0f921\"]], \"sequentialminus\": [[0.0, \"#0d0887\"], [0.1111111111111111, \"#46039f\"], [0.2222222222222222, \"#7201a8\"], [0.3333333333333333, \"#9c179e\"], [0.4444444444444444, \"#bd3786\"], [0.5555555555555556, \"#d8576b\"], [0.6666666666666666, \"#ed7953\"], [0.7777777777777778, \"#fb9f3a\"], [0.8888888888888888, \"#fdca26\"], [1.0, \"#f0f921\"]]}, \"colorway\": [\"#636efa\", \"#EF553B\", \"#00cc96\", \"#ab63fa\", \"#FFA15A\", \"#19d3f3\", \"#FF6692\", \"#B6E880\", \"#FF97FF\", \"#FECB52\"], \"font\": {\"color\": \"#2a3f5f\"}, \"geo\": {\"bgcolor\": \"white\", \"lakecolor\": \"white\", \"landcolor\": \"#E5ECF6\", \"showlakes\": true, \"showland\": true, \"subunitcolor\": \"white\"}, \"hoverlabel\": {\"align\": \"left\"}, \"hovermode\": \"closest\", \"mapbox\": {\"style\": \"light\"}, \"paper_bgcolor\": \"white\", \"plot_bgcolor\": \"#E5ECF6\", \"polar\": {\"angularaxis\": {\"gridcolor\": \"white\", \"linecolor\": \"white\", \"ticks\": \"\"}, \"bgcolor\": \"#E5ECF6\", \"radialaxis\": {\"gridcolor\": \"white\", \"linecolor\": \"white\", \"ticks\": \"\"}}, \"scene\": {\"xaxis\": {\"backgroundcolor\": \"#E5ECF6\", \"gridcolor\": \"white\", \"gridwidth\": 2, \"linecolor\": \"white\", \"showbackground\": true, \"ticks\": \"\", \"zerolinecolor\": \"white\"}, \"yaxis\": {\"backgroundcolor\": \"#E5ECF6\", \"gridcolor\": \"white\", \"gridwidth\": 2, \"linecolor\": \"white\", \"showbackground\": true, \"ticks\": \"\", \"zerolinecolor\": \"white\"}, \"zaxis\": {\"backgroundcolor\": \"#E5ECF6\", \"gridcolor\": \"white\", \"gridwidth\": 2, \"linecolor\": \"white\", \"showbackground\": true, \"ticks\": \"\", \"zerolinecolor\": \"white\"}}, \"shapedefaults\": {\"line\": {\"color\": \"#2a3f5f\"}}, \"ternary\": {\"aaxis\": {\"gridcolor\": \"white\", \"linecolor\": \"white\", \"ticks\": \"\"}, \"baxis\": {\"gridcolor\": \"white\", \"linecolor\": \"white\", \"ticks\": \"\"}, \"bgcolor\": \"#E5ECF6\", \"caxis\": {\"gridcolor\": \"white\", \"linecolor\": \"white\", \"ticks\": \"\"}}, \"title\": {\"x\": 0.05}, \"xaxis\": {\"automargin\": true, \"gridcolor\": \"white\", \"linecolor\": \"white\", \"ticks\": \"\", \"title\": {\"standoff\": 15}, \"zerolinecolor\": \"white\", \"zerolinewidth\": 2}, \"yaxis\": {\"automargin\": true, \"gridcolor\": \"white\", \"linecolor\": \"white\", \"ticks\": \"\", \"title\": {\"standoff\": 15}, \"zerolinecolor\": \"white\", \"zerolinewidth\": 2}}}, \"title\": {\"text\": \"Covid 19 death cases in India per day\"}, \"xaxis\": {\"anchor\": \"y\", \"domain\": [0.0, 1.0], \"title\": {\"text\": \"date\"}}, \"yaxis\": {\"anchor\": \"x\", \"domain\": [0.0, 1.0], \"title\": {\"text\": \"India\"}}},\n",
       "                        {\"responsive\": true}\n",
       "                    ).then(function(){\n",
       "                            \n",
       "var gd = document.getElementById('d6e2e6fb-0429-47ee-9687-d4c616c438e2');\n",
       "var x = new MutationObserver(function (mutations, observer) {{\n",
       "        var display = window.getComputedStyle(gd).display;\n",
       "        if (!display || display === 'none') {{\n",
       "            console.log([gd, 'removed!']);\n",
       "            Plotly.purge(gd);\n",
       "            observer.disconnect();\n",
       "        }}\n",
       "}});\n",
       "\n",
       "// Listen for the removal of the full notebook cells\n",
       "var notebookContainer = gd.closest('#notebook-container');\n",
       "if (notebookContainer) {{\n",
       "    x.observe(notebookContainer, {childList: true});\n",
       "}}\n",
       "\n",
       "// Listen for the clearing of the current output cell\n",
       "var outputEl = gd.closest('.output');\n",
       "if (outputEl) {{\n",
       "    x.observe(outputEl, {childList: true});\n",
       "}}\n",
       "\n",
       "                        })\n",
       "                };\n",
       "                \n",
       "            </script>\n",
       "        </div>\n",
       "</body>\n",
       "</html>"
      ]
     },
     "metadata": {
      "tags": []
     },
     "output_type": "display_data"
    },
    {
     "data": {
      "text/html": [
       "<html>\n",
       "<head><meta charset=\"utf-8\" /></head>\n",
       "<body>\n",
       "    <div>\n",
       "            <script src=\"https://cdnjs.cloudflare.com/ajax/libs/mathjax/2.7.5/MathJax.js?config=TeX-AMS-MML_SVG\"></script><script type=\"text/javascript\">if (window.MathJax) {MathJax.Hub.Config({SVG: {font: \"STIX-Web\"}});}</script>\n",
       "                <script type=\"text/javascript\">window.PlotlyConfig = {MathJaxConfig: 'local'};</script>\n",
       "        <script src=\"https://cdn.plot.ly/plotly-latest.min.js\"></script>    \n",
       "            <div id=\"af76cc0d-bc92-4258-8636-d22ea45b1ebe\" class=\"plotly-graph-div\" style=\"height:400px; width:100%;\"></div>\n",
       "            <script type=\"text/javascript\">\n",
       "                \n",
       "                    window.PLOTLYENV=window.PLOTLYENV || {};\n",
       "                    \n",
       "                if (document.getElementById(\"af76cc0d-bc92-4258-8636-d22ea45b1ebe\")) {\n",
       "                    Plotly.newPlot(\n",
       "                        'af76cc0d-bc92-4258-8636-d22ea45b1ebe',\n",
       "                        [{\"alignmentgroup\": \"True\", \"hoverlabel\": {\"namelength\": 0}, \"hovertemplate\": \"date=%{x}<br>United States=%{marker.color}\", \"legendgroup\": \"\", \"marker\": {\"color\": [0, 0, 0, 0, 0, 0, 0, 0, 0, 0, 0, 0, 0, 0, 0, 0, 0, 0, 0, 0, 0, 0, 0, 0, 0, 0, 0, 0, 0, 1, 1, 4, 3, 2, 1, 2, 3, 4, 5, 2, 2, 10, 7, 10, 12, 16, 23, 42, 0, 110, 80, 131, 119, 211, 249, 246, 411, 484, 318, 661, 909, 1059, 915, 1104, 1344, 1146, 1342, 1906, 1922, 1873, 2087, 1831, 1500, 1541, 2408, 4928, 2299, 3770, 1856, 1772, 1857, 2524, 1721, 3179, 1054, 2172, 1687, 1369, 2110, 2611, 2040, 2062, 1317, 1297, 1252, 2144, 2353, 2239, 1510, 1614, 734, 1156, 1703, 1746, 1773, 1662, 1186, 808, 791, 1568, 1518, 1263, 1305, 1080, 633, 500, 696, 1526, 1175, 1219, 945, 602, 764, 1034, 994, 1036, 932, 659, 712, 493, 999, 918, 896, 849, 767, 296, 395, 836, 754, 717, 678, 607, 256, 427, 826, 751, 2437, 623, 500, 265, 336, 1270, 652, 678, 694, 242, 271, 359, 1174, 829, 982, 806, 717, 391, 400, 861, 953, 939, 908, 853, 415, 372, 1160, 1124, 1052, 1304, 914, 475, 1076, 1245, 1457, 1357, 1244, 1133, 413, 543, 1403, 1450, 1848, 1252, 1069, 513, 523, 1076, 1490, 1083, 1336, 1035, 571, 445, 1324, 1356, 1078, 1151, 956, 444, 473, 1207, 1228, 1110, 949, 1006, 290, 529, 1091, 1055, 1053, 968, 773, 403, 267, 471, 1136, 974, 1227, 685, 378, 451, 1407, 865, 831, 956, 669, 251, 372, 926, 1102, 901, 964, 723, 259, 314, 928, 930, 880, 908, 678, 400, 398, 717, 892, 972, 1014, 590, 394, 314, 817, 970, 828, 899, 690, 385, 459, 933, 1135, 841, 953, 904, 331, 505, 988, 977, 968, 1040, 848, 440, 555, 1076, 1102, 1208, 1162, 1014, 459, 679, 1432, 2117, 630, 1915, 1255, 614, 1006, 1467, 1850, 2018, 1858], \"coloraxis\": \"coloraxis\"}, \"name\": \"\", \"offsetgroup\": \"\", \"orientation\": \"v\", \"showlegend\": false, \"textposition\": \"auto\", \"type\": \"bar\", \"x\": [\"2/1/2020\", \"2/2/2020\", \"2/3/2020\", \"2/4/2020\", \"2/5/2020\", \"2/6/2020\", \"2/7/2020\", \"2/8/2020\", \"2/9/2020\", \"2/10/2020\", \"2/11/2020\", \"2/12/2020\", \"2/13/2020\", \"2/14/2020\", \"2/15/2020\", \"2/16/2020\", \"2/17/2020\", \"2/18/2020\", \"2/19/2020\", \"2/20/2020\", \"2/21/2020\", \"2/22/2020\", \"2/23/2020\", \"2/24/2020\", \"2/25/2020\", \"2/26/2020\", \"2/27/2020\", \"2/28/2020\", \"2/29/2020\", \"3/1/2020\", \"3/2/2020\", \"3/3/2020\", \"3/4/2020\", \"3/5/2020\", \"3/6/2020\", \"3/7/2020\", \"3/8/2020\", \"3/9/2020\", \"3/10/2020\", \"3/11/2020\", \"3/12/2020\", \"3/13/2020\", \"3/14/2020\", \"3/15/2020\", \"3/16/2020\", \"3/17/2020\", \"3/18/2020\", \"3/19/2020\", \"3/20/2020\", \"3/21/2020\", \"3/22/2020\", \"3/23/2020\", \"3/24/2020\", \"3/25/2020\", \"3/26/2020\", \"3/27/2020\", \"3/28/2020\", \"3/29/2020\", \"3/30/2020\", \"3/31/2020\", \"4/1/2020\", \"4/2/2020\", \"4/3/2020\", \"4/4/2020\", \"4/5/2020\", \"4/6/2020\", \"4/7/2020\", \"4/8/2020\", \"4/9/2020\", \"4/10/2020\", \"4/11/2020\", \"4/12/2020\", \"4/13/2020\", \"4/14/2020\", \"4/15/2020\", \"4/16/2020\", \"4/17/2020\", \"4/18/2020\", \"4/19/2020\", \"4/20/2020\", \"4/21/2020\", \"4/22/2020\", \"4/23/2020\", \"4/24/2020\", \"4/25/2020\", \"4/26/2020\", \"4/27/2020\", \"4/28/2020\", \"4/29/2020\", \"4/30/2020\", \"5/1/2020\", \"5/2/2020\", \"5/3/2020\", \"5/4/2020\", \"5/5/2020\", \"5/6/2020\", \"5/7/2020\", \"5/8/2020\", \"5/9/2020\", \"5/10/2020\", \"5/11/2020\", \"5/12/2020\", \"5/13/2020\", \"5/14/2020\", \"5/15/2020\", \"5/16/2020\", \"5/17/2020\", \"5/18/2020\", \"5/19/2020\", \"5/20/2020\", \"5/21/2020\", \"5/22/2020\", \"5/23/2020\", \"5/24/2020\", \"5/25/2020\", \"5/26/2020\", \"5/27/2020\", \"5/28/2020\", \"5/29/2020\", \"5/30/2020\", \"5/31/2020\", \"6/1/2020\", \"6/2/2020\", \"6/3/2020\", \"6/4/2020\", \"6/5/2020\", \"6/6/2020\", \"6/7/2020\", \"6/8/2020\", \"6/9/2020\", \"6/10/2020\", \"6/11/2020\", \"6/12/2020\", \"6/13/2020\", \"6/14/2020\", \"6/15/2020\", \"6/16/2020\", \"6/17/2020\", \"6/18/2020\", \"6/19/2020\", \"6/20/2020\", \"6/21/2020\", \"6/22/2020\", \"6/23/2020\", \"6/24/2020\", \"6/25/2020\", \"6/26/2020\", \"6/27/2020\", \"6/28/2020\", \"6/29/2020\", \"6/30/2020\", \"7/1/2020\", \"7/2/2020\", \"7/3/2020\", \"7/4/2020\", \"7/5/2020\", \"7/6/2020\", \"7/7/2020\", \"7/8/2020\", \"7/9/2020\", \"7/10/2020\", \"7/11/2020\", \"7/12/2020\", \"7/13/2020\", \"7/14/2020\", \"7/15/2020\", \"7/16/2020\", \"7/17/2020\", \"7/18/2020\", \"7/19/2020\", \"7/20/2020\", \"7/21/2020\", \"7/22/2020\", \"7/23/2020\", \"7/24/2020\", \"7/25/2020\", \"7/26/2020\", \"7/27/2020\", \"7/28/2020\", \"7/29/2020\", \"7/30/2020\", \"7/31/2020\", \"8/1/2020\", \"8/2/2020\", \"8/3/2020\", \"8/4/2020\", \"8/5/2020\", \"8/6/2020\", \"8/7/2020\", \"8/8/2020\", \"8/9/2020\", \"8/10/2020\", \"8/11/2020\", \"8/12/2020\", \"8/13/2020\", \"8/14/2020\", \"8/15/2020\", \"8/16/2020\", \"8/17/2020\", \"8/18/2020\", \"8/19/2020\", \"8/20/2020\", \"8/21/2020\", \"8/22/2020\", \"8/23/2020\", \"8/24/2020\", \"8/25/2020\", \"8/26/2020\", \"8/27/2020\", \"8/28/2020\", \"8/29/2020\", \"8/30/2020\", \"8/31/2020\", \"9/1/2020\", \"9/2/2020\", \"9/3/2020\", \"9/4/2020\", \"9/5/2020\", \"9/6/2020\", \"9/7/2020\", \"9/8/2020\", \"9/9/2020\", \"9/10/2020\", \"9/11/2020\", \"9/12/2020\", \"9/13/2020\", \"9/14/2020\", \"9/15/2020\", \"9/16/2020\", \"9/17/2020\", \"9/18/2020\", \"9/19/2020\", \"9/20/2020\", \"9/21/2020\", \"9/22/2020\", \"9/23/2020\", \"9/24/2020\", \"9/25/2020\", \"9/26/2020\", \"9/27/2020\", \"9/28/2020\", \"9/29/2020\", \"9/30/2020\", \"10/1/2020\", \"10/2/2020\", \"10/3/2020\", \"10/4/2020\", \"10/5/2020\", \"10/6/2020\", \"10/7/2020\", \"10/8/2020\", \"10/9/2020\", \"10/10/2020\", \"10/11/2020\", \"10/12/2020\", \"10/13/2020\", \"10/14/2020\", \"10/15/2020\", \"10/16/2020\", \"10/17/2020\", \"10/18/2020\", \"10/19/2020\", \"10/20/2020\", \"10/21/2020\", \"10/22/2020\", \"10/23/2020\", \"10/24/2020\", \"10/25/2020\", \"10/26/2020\", \"10/27/2020\", \"10/28/2020\", \"10/29/2020\", \"10/30/2020\", \"10/31/2020\", \"11/1/2020\", \"11/2/2020\", \"11/3/2020\", \"11/4/2020\", \"11/5/2020\", \"11/6/2020\", \"11/7/2020\", \"11/8/2020\", \"11/9/2020\", \"11/10/2020\", \"11/11/2020\", \"11/12/2020\", \"11/13/2020\", \"11/14/2020\", \"11/15/2020\", \"11/16/2020\", \"11/17/2020\", \"11/18/2020\", \"11/19/2020\", \"11/20/2020\", \"11/21/2020\"], \"xaxis\": \"x\", \"y\": [0, 0, 0, 0, 0, 0, 0, 0, 0, 0, 0, 0, 0, 0, 0, 0, 0, 0, 0, 0, 0, 0, 0, 0, 0, 0, 0, 0, 0, 1, 1, 4, 3, 2, 1, 2, 3, 4, 5, 2, 2, 10, 7, 10, 12, 16, 23, 42, 0, 110, 80, 131, 119, 211, 249, 246, 411, 484, 318, 661, 909, 1059, 915, 1104, 1344, 1146, 1342, 1906, 1922, 1873, 2087, 1831, 1500, 1541, 2408, 4928, 2299, 3770, 1856, 1772, 1857, 2524, 1721, 3179, 1054, 2172, 1687, 1369, 2110, 2611, 2040, 2062, 1317, 1297, 1252, 2144, 2353, 2239, 1510, 1614, 734, 1156, 1703, 1746, 1773, 1662, 1186, 808, 791, 1568, 1518, 1263, 1305, 1080, 633, 500, 696, 1526, 1175, 1219, 945, 602, 764, 1034, 994, 1036, 932, 659, 712, 493, 999, 918, 896, 849, 767, 296, 395, 836, 754, 717, 678, 607, 256, 427, 826, 751, 2437, 623, 500, 265, 336, 1270, 652, 678, 694, 242, 271, 359, 1174, 829, 982, 806, 717, 391, 400, 861, 953, 939, 908, 853, 415, 372, 1160, 1124, 1052, 1304, 914, 475, 1076, 1245, 1457, 1357, 1244, 1133, 413, 543, 1403, 1450, 1848, 1252, 1069, 513, 523, 1076, 1490, 1083, 1336, 1035, 571, 445, 1324, 1356, 1078, 1151, 956, 444, 473, 1207, 1228, 1110, 949, 1006, 290, 529, 1091, 1055, 1053, 968, 773, 403, 267, 471, 1136, 974, 1227, 685, 378, 451, 1407, 865, 831, 956, 669, 251, 372, 926, 1102, 901, 964, 723, 259, 314, 928, 930, 880, 908, 678, 400, 398, 717, 892, 972, 1014, 590, 394, 314, 817, 970, 828, 899, 690, 385, 459, 933, 1135, 841, 953, 904, 331, 505, 988, 977, 968, 1040, 848, 440, 555, 1076, 1102, 1208, 1162, 1014, 459, 679, 1432, 2117, 630, 1915, 1255, 614, 1006, 1467, 1850, 2018, 1858], \"yaxis\": \"y\"}],\n",
       "                        {\"barmode\": \"relative\", \"coloraxis\": {\"colorbar\": {\"title\": {\"text\": \"United States\"}}, \"colorscale\": [[0.0, \"#0d0887\"], [0.1111111111111111, \"#46039f\"], [0.2222222222222222, \"#7201a8\"], [0.3333333333333333, \"#9c179e\"], [0.4444444444444444, \"#bd3786\"], [0.5555555555555556, \"#d8576b\"], [0.6666666666666666, \"#ed7953\"], [0.7777777777777778, \"#fb9f3a\"], [0.8888888888888888, \"#fdca26\"], [1.0, \"#f0f921\"]]}, \"height\": 400, \"legend\": {\"tracegroupgap\": 0}, \"plot_bgcolor\": \"rgb(230,230,230)\", \"template\": {\"data\": {\"bar\": [{\"error_x\": {\"color\": \"#2a3f5f\"}, \"error_y\": {\"color\": \"#2a3f5f\"}, \"marker\": {\"line\": {\"color\": \"#E5ECF6\", \"width\": 0.5}}, \"type\": \"bar\"}], \"barpolar\": [{\"marker\": {\"line\": {\"color\": \"#E5ECF6\", \"width\": 0.5}}, \"type\": \"barpolar\"}], \"carpet\": [{\"aaxis\": {\"endlinecolor\": \"#2a3f5f\", \"gridcolor\": \"white\", \"linecolor\": \"white\", \"minorgridcolor\": \"white\", \"startlinecolor\": \"#2a3f5f\"}, \"baxis\": {\"endlinecolor\": \"#2a3f5f\", \"gridcolor\": \"white\", \"linecolor\": \"white\", \"minorgridcolor\": \"white\", \"startlinecolor\": \"#2a3f5f\"}, \"type\": \"carpet\"}], \"choropleth\": [{\"colorbar\": {\"outlinewidth\": 0, \"ticks\": \"\"}, \"type\": \"choropleth\"}], \"contour\": [{\"colorbar\": {\"outlinewidth\": 0, \"ticks\": \"\"}, \"colorscale\": [[0.0, \"#0d0887\"], [0.1111111111111111, \"#46039f\"], [0.2222222222222222, \"#7201a8\"], [0.3333333333333333, \"#9c179e\"], [0.4444444444444444, \"#bd3786\"], [0.5555555555555556, \"#d8576b\"], [0.6666666666666666, \"#ed7953\"], [0.7777777777777778, \"#fb9f3a\"], [0.8888888888888888, \"#fdca26\"], [1.0, \"#f0f921\"]], \"type\": \"contour\"}], \"contourcarpet\": [{\"colorbar\": {\"outlinewidth\": 0, \"ticks\": \"\"}, \"type\": \"contourcarpet\"}], \"heatmap\": [{\"colorbar\": {\"outlinewidth\": 0, \"ticks\": \"\"}, \"colorscale\": [[0.0, \"#0d0887\"], [0.1111111111111111, \"#46039f\"], [0.2222222222222222, \"#7201a8\"], [0.3333333333333333, \"#9c179e\"], [0.4444444444444444, \"#bd3786\"], [0.5555555555555556, \"#d8576b\"], [0.6666666666666666, \"#ed7953\"], [0.7777777777777778, \"#fb9f3a\"], [0.8888888888888888, \"#fdca26\"], [1.0, \"#f0f921\"]], \"type\": \"heatmap\"}], \"heatmapgl\": [{\"colorbar\": {\"outlinewidth\": 0, \"ticks\": \"\"}, \"colorscale\": [[0.0, \"#0d0887\"], [0.1111111111111111, \"#46039f\"], [0.2222222222222222, \"#7201a8\"], [0.3333333333333333, \"#9c179e\"], [0.4444444444444444, \"#bd3786\"], [0.5555555555555556, \"#d8576b\"], [0.6666666666666666, \"#ed7953\"], [0.7777777777777778, \"#fb9f3a\"], [0.8888888888888888, \"#fdca26\"], [1.0, \"#f0f921\"]], \"type\": \"heatmapgl\"}], \"histogram\": [{\"marker\": {\"colorbar\": {\"outlinewidth\": 0, \"ticks\": \"\"}}, \"type\": \"histogram\"}], \"histogram2d\": [{\"colorbar\": {\"outlinewidth\": 0, \"ticks\": \"\"}, \"colorscale\": [[0.0, \"#0d0887\"], [0.1111111111111111, \"#46039f\"], [0.2222222222222222, \"#7201a8\"], [0.3333333333333333, \"#9c179e\"], [0.4444444444444444, \"#bd3786\"], [0.5555555555555556, \"#d8576b\"], [0.6666666666666666, \"#ed7953\"], [0.7777777777777778, \"#fb9f3a\"], [0.8888888888888888, \"#fdca26\"], [1.0, \"#f0f921\"]], \"type\": \"histogram2d\"}], \"histogram2dcontour\": [{\"colorbar\": {\"outlinewidth\": 0, \"ticks\": \"\"}, \"colorscale\": [[0.0, \"#0d0887\"], [0.1111111111111111, \"#46039f\"], [0.2222222222222222, \"#7201a8\"], [0.3333333333333333, \"#9c179e\"], [0.4444444444444444, \"#bd3786\"], [0.5555555555555556, \"#d8576b\"], [0.6666666666666666, \"#ed7953\"], [0.7777777777777778, \"#fb9f3a\"], [0.8888888888888888, \"#fdca26\"], [1.0, \"#f0f921\"]], \"type\": \"histogram2dcontour\"}], \"mesh3d\": [{\"colorbar\": {\"outlinewidth\": 0, \"ticks\": \"\"}, \"type\": \"mesh3d\"}], \"parcoords\": [{\"line\": {\"colorbar\": {\"outlinewidth\": 0, \"ticks\": \"\"}}, \"type\": \"parcoords\"}], \"pie\": [{\"automargin\": true, \"type\": \"pie\"}], \"scatter\": [{\"marker\": {\"colorbar\": {\"outlinewidth\": 0, \"ticks\": \"\"}}, \"type\": \"scatter\"}], \"scatter3d\": [{\"line\": {\"colorbar\": {\"outlinewidth\": 0, \"ticks\": \"\"}}, \"marker\": {\"colorbar\": {\"outlinewidth\": 0, \"ticks\": \"\"}}, \"type\": \"scatter3d\"}], \"scattercarpet\": [{\"marker\": {\"colorbar\": {\"outlinewidth\": 0, \"ticks\": \"\"}}, \"type\": \"scattercarpet\"}], \"scattergeo\": [{\"marker\": {\"colorbar\": {\"outlinewidth\": 0, \"ticks\": \"\"}}, \"type\": \"scattergeo\"}], \"scattergl\": [{\"marker\": {\"colorbar\": {\"outlinewidth\": 0, \"ticks\": \"\"}}, \"type\": \"scattergl\"}], \"scattermapbox\": [{\"marker\": {\"colorbar\": {\"outlinewidth\": 0, \"ticks\": \"\"}}, \"type\": \"scattermapbox\"}], \"scatterpolar\": [{\"marker\": {\"colorbar\": {\"outlinewidth\": 0, \"ticks\": \"\"}}, \"type\": \"scatterpolar\"}], \"scatterpolargl\": [{\"marker\": {\"colorbar\": {\"outlinewidth\": 0, \"ticks\": \"\"}}, \"type\": \"scatterpolargl\"}], \"scatterternary\": [{\"marker\": {\"colorbar\": {\"outlinewidth\": 0, \"ticks\": \"\"}}, \"type\": \"scatterternary\"}], \"surface\": [{\"colorbar\": {\"outlinewidth\": 0, \"ticks\": \"\"}, \"colorscale\": [[0.0, \"#0d0887\"], [0.1111111111111111, \"#46039f\"], [0.2222222222222222, \"#7201a8\"], [0.3333333333333333, \"#9c179e\"], [0.4444444444444444, \"#bd3786\"], [0.5555555555555556, \"#d8576b\"], [0.6666666666666666, \"#ed7953\"], [0.7777777777777778, \"#fb9f3a\"], [0.8888888888888888, \"#fdca26\"], [1.0, \"#f0f921\"]], \"type\": \"surface\"}], \"table\": [{\"cells\": {\"fill\": {\"color\": \"#EBF0F8\"}, \"line\": {\"color\": \"white\"}}, \"header\": {\"fill\": {\"color\": \"#C8D4E3\"}, \"line\": {\"color\": \"white\"}}, \"type\": \"table\"}]}, \"layout\": {\"annotationdefaults\": {\"arrowcolor\": \"#2a3f5f\", \"arrowhead\": 0, \"arrowwidth\": 1}, \"coloraxis\": {\"colorbar\": {\"outlinewidth\": 0, \"ticks\": \"\"}}, \"colorscale\": {\"diverging\": [[0, \"#8e0152\"], [0.1, \"#c51b7d\"], [0.2, \"#de77ae\"], [0.3, \"#f1b6da\"], [0.4, \"#fde0ef\"], [0.5, \"#f7f7f7\"], [0.6, \"#e6f5d0\"], [0.7, \"#b8e186\"], [0.8, \"#7fbc41\"], [0.9, \"#4d9221\"], [1, \"#276419\"]], \"sequential\": [[0.0, \"#0d0887\"], [0.1111111111111111, \"#46039f\"], [0.2222222222222222, \"#7201a8\"], [0.3333333333333333, \"#9c179e\"], [0.4444444444444444, \"#bd3786\"], [0.5555555555555556, \"#d8576b\"], [0.6666666666666666, \"#ed7953\"], [0.7777777777777778, \"#fb9f3a\"], [0.8888888888888888, \"#fdca26\"], [1.0, \"#f0f921\"]], \"sequentialminus\": [[0.0, \"#0d0887\"], [0.1111111111111111, \"#46039f\"], [0.2222222222222222, \"#7201a8\"], [0.3333333333333333, \"#9c179e\"], [0.4444444444444444, \"#bd3786\"], [0.5555555555555556, \"#d8576b\"], [0.6666666666666666, \"#ed7953\"], [0.7777777777777778, \"#fb9f3a\"], [0.8888888888888888, \"#fdca26\"], [1.0, \"#f0f921\"]]}, \"colorway\": [\"#636efa\", \"#EF553B\", \"#00cc96\", \"#ab63fa\", \"#FFA15A\", \"#19d3f3\", \"#FF6692\", \"#B6E880\", \"#FF97FF\", \"#FECB52\"], \"font\": {\"color\": \"#2a3f5f\"}, \"geo\": {\"bgcolor\": \"white\", \"lakecolor\": \"white\", \"landcolor\": \"#E5ECF6\", \"showlakes\": true, \"showland\": true, \"subunitcolor\": \"white\"}, \"hoverlabel\": {\"align\": \"left\"}, \"hovermode\": \"closest\", \"mapbox\": {\"style\": \"light\"}, \"paper_bgcolor\": \"white\", \"plot_bgcolor\": \"#E5ECF6\", \"polar\": {\"angularaxis\": {\"gridcolor\": \"white\", \"linecolor\": \"white\", \"ticks\": \"\"}, \"bgcolor\": \"#E5ECF6\", \"radialaxis\": {\"gridcolor\": \"white\", \"linecolor\": \"white\", \"ticks\": \"\"}}, \"scene\": {\"xaxis\": {\"backgroundcolor\": \"#E5ECF6\", \"gridcolor\": \"white\", \"gridwidth\": 2, \"linecolor\": \"white\", \"showbackground\": true, \"ticks\": \"\", \"zerolinecolor\": \"white\"}, \"yaxis\": {\"backgroundcolor\": \"#E5ECF6\", \"gridcolor\": \"white\", \"gridwidth\": 2, \"linecolor\": \"white\", \"showbackground\": true, \"ticks\": \"\", \"zerolinecolor\": \"white\"}, \"zaxis\": {\"backgroundcolor\": \"#E5ECF6\", \"gridcolor\": \"white\", \"gridwidth\": 2, \"linecolor\": \"white\", \"showbackground\": true, \"ticks\": \"\", \"zerolinecolor\": \"white\"}}, \"shapedefaults\": {\"line\": {\"color\": \"#2a3f5f\"}}, \"ternary\": {\"aaxis\": {\"gridcolor\": \"white\", \"linecolor\": \"white\", \"ticks\": \"\"}, \"baxis\": {\"gridcolor\": \"white\", \"linecolor\": \"white\", \"ticks\": \"\"}, \"bgcolor\": \"#E5ECF6\", \"caxis\": {\"gridcolor\": \"white\", \"linecolor\": \"white\", \"ticks\": \"\"}}, \"title\": {\"x\": 0.05}, \"xaxis\": {\"automargin\": true, \"gridcolor\": \"white\", \"linecolor\": \"white\", \"ticks\": \"\", \"title\": {\"standoff\": 15}, \"zerolinecolor\": \"white\", \"zerolinewidth\": 2}, \"yaxis\": {\"automargin\": true, \"gridcolor\": \"white\", \"linecolor\": \"white\", \"ticks\": \"\", \"title\": {\"standoff\": 15}, \"zerolinecolor\": \"white\", \"zerolinewidth\": 2}}}, \"title\": {\"text\": \"Covid 19 death cases in United States per day\"}, \"xaxis\": {\"anchor\": \"y\", \"domain\": [0.0, 1.0], \"title\": {\"text\": \"date\"}}, \"yaxis\": {\"anchor\": \"x\", \"domain\": [0.0, 1.0], \"title\": {\"text\": \"United States\"}}},\n",
       "                        {\"responsive\": true}\n",
       "                    ).then(function(){\n",
       "                            \n",
       "var gd = document.getElementById('af76cc0d-bc92-4258-8636-d22ea45b1ebe');\n",
       "var x = new MutationObserver(function (mutations, observer) {{\n",
       "        var display = window.getComputedStyle(gd).display;\n",
       "        if (!display || display === 'none') {{\n",
       "            console.log([gd, 'removed!']);\n",
       "            Plotly.purge(gd);\n",
       "            observer.disconnect();\n",
       "        }}\n",
       "}});\n",
       "\n",
       "// Listen for the removal of the full notebook cells\n",
       "var notebookContainer = gd.closest('#notebook-container');\n",
       "if (notebookContainer) {{\n",
       "    x.observe(notebookContainer, {childList: true});\n",
       "}}\n",
       "\n",
       "// Listen for the clearing of the current output cell\n",
       "var outputEl = gd.closest('.output');\n",
       "if (outputEl) {{\n",
       "    x.observe(outputEl, {childList: true});\n",
       "}}\n",
       "\n",
       "                        })\n",
       "                };\n",
       "                \n",
       "            </script>\n",
       "        </div>\n",
       "</body>\n",
       "</html>"
      ]
     },
     "metadata": {
      "tags": []
     },
     "output_type": "display_data"
    },
    {
     "data": {
      "text/html": [
       "<html>\n",
       "<head><meta charset=\"utf-8\" /></head>\n",
       "<body>\n",
       "    <div>\n",
       "            <script src=\"https://cdnjs.cloudflare.com/ajax/libs/mathjax/2.7.5/MathJax.js?config=TeX-AMS-MML_SVG\"></script><script type=\"text/javascript\">if (window.MathJax) {MathJax.Hub.Config({SVG: {font: \"STIX-Web\"}});}</script>\n",
       "                <script type=\"text/javascript\">window.PlotlyConfig = {MathJaxConfig: 'local'};</script>\n",
       "        <script src=\"https://cdn.plot.ly/plotly-latest.min.js\"></script>    \n",
       "            <div id=\"e9c3ceba-d5e3-4a12-a544-44f14954a3b1\" class=\"plotly-graph-div\" style=\"height:400px; width:100%;\"></div>\n",
       "            <script type=\"text/javascript\">\n",
       "                \n",
       "                    window.PLOTLYENV=window.PLOTLYENV || {};\n",
       "                    \n",
       "                if (document.getElementById(\"e9c3ceba-d5e3-4a12-a544-44f14954a3b1\")) {\n",
       "                    Plotly.newPlot(\n",
       "                        'e9c3ceba-d5e3-4a12-a544-44f14954a3b1',\n",
       "                        [{\"alignmentgroup\": \"True\", \"hoverlabel\": {\"namelength\": 0}, \"hovertemplate\": \"date=%{x}<br>Italy=%{marker.color}\", \"legendgroup\": \"\", \"marker\": {\"color\": [0, 0, 0, 0, 0, 0, 0, 0, 0, 0, 0, 0, 0, 0, 0, 0, 0, 0, 0, 0, 0, 0, 2, 0, 4, 5, 1, 5, 4, 8, 6, 17, 28, 27, 41, 49, 36, 133, 98, 167, 196, 189, 252, 173, 370, 347, 347, 473, 429, 625, 795, 649, 601, 743, 685, 660, 971, 887, 758, 810, 839, 727, 760, 764, 681, 527, 636, 604, 540, 612, 570, 619, 431, 564, 604, 578, 525, 575, 480, 433, 454, 534, 437, 464, 420, 415, 260, 333, 382, 323, 285, 269, 474, 174, 195, 236, 369, 274, 243, 194, 165, 179, 172, 195, 262, 242, 153, 145, 99, 162, 161, 156, 130, 119, 50, 92, 78, 117, 70, 87, 111, 75, 60, 55, 71, 88, 85, 72, 53, 65, 79, 71, 53, 56, 78, 44, 26, 34, 43, 66, 47, 49, 24, 23, 18, -31, 34, 30, 8, 22, 6, 23, 21, 30, 15, 21, 7, 8, 30, 15, 12, 12, 7, 9, 13, 17, 13, 20, 11, 14, 3, 13, 15, 9, 10, 5, 5, 5, 5, 11, 6, 3, 9, 5, 8, 12, 5, 10, 6, 3, 13, 2, 4, 6, 10, 6, 3, 158, 4, 4, 5, 7, 6, 9, 3, 7, 4, 4, 13, 5, 9, 1, 4, 6, 8, 6, 10, 11, 16, 7, 12, 10, 14, 10, 10, 6, 7, 14, 9, 12, 13, 10, 24, 15, 17, 14, 20, 23, 20, 17, 17, 16, 24, 19, 24, 23, 27, 18, 16, 28, 31, 22, 28, 29, 26, 39, 41, 43, 83, 55, 47, 69, 73, 89, 127, 136, 91, 151, 128, 141, 221, 205, 217, 199, 297, 208, 233, 353, 352, 428, 446, 425, 331, 356, 580, 623, 636, 550, 544, 546, 504, 731, 753, 653, 699], \"coloraxis\": \"coloraxis\"}, \"name\": \"\", \"offsetgroup\": \"\", \"orientation\": \"v\", \"showlegend\": false, \"textposition\": \"auto\", \"type\": \"bar\", \"x\": [\"2/1/2020\", \"2/2/2020\", \"2/3/2020\", \"2/4/2020\", \"2/5/2020\", \"2/6/2020\", \"2/7/2020\", \"2/8/2020\", \"2/9/2020\", \"2/10/2020\", \"2/11/2020\", \"2/12/2020\", \"2/13/2020\", \"2/14/2020\", \"2/15/2020\", \"2/16/2020\", \"2/17/2020\", \"2/18/2020\", \"2/19/2020\", \"2/20/2020\", \"2/21/2020\", \"2/22/2020\", \"2/23/2020\", \"2/24/2020\", \"2/25/2020\", \"2/26/2020\", \"2/27/2020\", \"2/28/2020\", \"2/29/2020\", \"3/1/2020\", \"3/2/2020\", \"3/3/2020\", \"3/4/2020\", \"3/5/2020\", \"3/6/2020\", \"3/7/2020\", \"3/8/2020\", \"3/9/2020\", \"3/10/2020\", \"3/11/2020\", \"3/12/2020\", \"3/13/2020\", \"3/14/2020\", \"3/15/2020\", \"3/16/2020\", \"3/17/2020\", \"3/18/2020\", \"3/19/2020\", \"3/20/2020\", \"3/21/2020\", \"3/22/2020\", \"3/23/2020\", \"3/24/2020\", \"3/25/2020\", \"3/26/2020\", \"3/27/2020\", \"3/28/2020\", \"3/29/2020\", \"3/30/2020\", \"3/31/2020\", \"4/1/2020\", \"4/2/2020\", \"4/3/2020\", \"4/4/2020\", \"4/5/2020\", \"4/6/2020\", \"4/7/2020\", \"4/8/2020\", \"4/9/2020\", \"4/10/2020\", \"4/11/2020\", \"4/12/2020\", \"4/13/2020\", \"4/14/2020\", \"4/15/2020\", \"4/16/2020\", \"4/17/2020\", \"4/18/2020\", \"4/19/2020\", \"4/20/2020\", \"4/21/2020\", \"4/22/2020\", \"4/23/2020\", \"4/24/2020\", \"4/25/2020\", \"4/26/2020\", \"4/27/2020\", \"4/28/2020\", \"4/29/2020\", \"4/30/2020\", \"5/1/2020\", \"5/2/2020\", \"5/3/2020\", \"5/4/2020\", \"5/5/2020\", \"5/6/2020\", \"5/7/2020\", \"5/8/2020\", \"5/9/2020\", \"5/10/2020\", \"5/11/2020\", \"5/12/2020\", \"5/13/2020\", \"5/14/2020\", \"5/15/2020\", \"5/16/2020\", \"5/17/2020\", \"5/18/2020\", \"5/19/2020\", \"5/20/2020\", \"5/21/2020\", \"5/22/2020\", \"5/23/2020\", \"5/24/2020\", \"5/25/2020\", \"5/26/2020\", \"5/27/2020\", \"5/28/2020\", \"5/29/2020\", \"5/30/2020\", \"5/31/2020\", \"6/1/2020\", \"6/2/2020\", \"6/3/2020\", \"6/4/2020\", \"6/5/2020\", \"6/6/2020\", \"6/7/2020\", \"6/8/2020\", \"6/9/2020\", \"6/10/2020\", \"6/11/2020\", \"6/12/2020\", \"6/13/2020\", \"6/14/2020\", \"6/15/2020\", \"6/16/2020\", \"6/17/2020\", \"6/18/2020\", \"6/19/2020\", \"6/20/2020\", \"6/21/2020\", \"6/22/2020\", \"6/23/2020\", \"6/24/2020\", \"6/25/2020\", \"6/26/2020\", \"6/27/2020\", \"6/28/2020\", \"6/29/2020\", \"6/30/2020\", \"7/1/2020\", \"7/2/2020\", \"7/3/2020\", \"7/4/2020\", \"7/5/2020\", \"7/6/2020\", \"7/7/2020\", \"7/8/2020\", \"7/9/2020\", \"7/10/2020\", \"7/11/2020\", \"7/12/2020\", \"7/13/2020\", \"7/14/2020\", \"7/15/2020\", \"7/16/2020\", \"7/17/2020\", \"7/18/2020\", \"7/19/2020\", \"7/20/2020\", \"7/21/2020\", \"7/22/2020\", \"7/23/2020\", \"7/24/2020\", \"7/25/2020\", \"7/26/2020\", \"7/27/2020\", \"7/28/2020\", \"7/29/2020\", \"7/30/2020\", \"7/31/2020\", \"8/1/2020\", \"8/2/2020\", \"8/3/2020\", \"8/4/2020\", \"8/5/2020\", \"8/6/2020\", \"8/7/2020\", \"8/8/2020\", \"8/9/2020\", \"8/10/2020\", \"8/11/2020\", \"8/12/2020\", \"8/13/2020\", \"8/14/2020\", \"8/15/2020\", \"8/16/2020\", \"8/17/2020\", \"8/18/2020\", \"8/19/2020\", \"8/20/2020\", \"8/21/2020\", \"8/22/2020\", \"8/23/2020\", \"8/24/2020\", \"8/25/2020\", \"8/26/2020\", \"8/27/2020\", \"8/28/2020\", \"8/29/2020\", \"8/30/2020\", \"8/31/2020\", \"9/1/2020\", \"9/2/2020\", \"9/3/2020\", \"9/4/2020\", \"9/5/2020\", \"9/6/2020\", \"9/7/2020\", \"9/8/2020\", \"9/9/2020\", \"9/10/2020\", \"9/11/2020\", \"9/12/2020\", \"9/13/2020\", \"9/14/2020\", \"9/15/2020\", \"9/16/2020\", \"9/17/2020\", \"9/18/2020\", \"9/19/2020\", \"9/20/2020\", \"9/21/2020\", \"9/22/2020\", \"9/23/2020\", \"9/24/2020\", \"9/25/2020\", \"9/26/2020\", \"9/27/2020\", \"9/28/2020\", \"9/29/2020\", \"9/30/2020\", \"10/1/2020\", \"10/2/2020\", \"10/3/2020\", \"10/4/2020\", \"10/5/2020\", \"10/6/2020\", \"10/7/2020\", \"10/8/2020\", \"10/9/2020\", \"10/10/2020\", \"10/11/2020\", \"10/12/2020\", \"10/13/2020\", \"10/14/2020\", \"10/15/2020\", \"10/16/2020\", \"10/17/2020\", \"10/18/2020\", \"10/19/2020\", \"10/20/2020\", \"10/21/2020\", \"10/22/2020\", \"10/23/2020\", \"10/24/2020\", \"10/25/2020\", \"10/26/2020\", \"10/27/2020\", \"10/28/2020\", \"10/29/2020\", \"10/30/2020\", \"10/31/2020\", \"11/1/2020\", \"11/2/2020\", \"11/3/2020\", \"11/4/2020\", \"11/5/2020\", \"11/6/2020\", \"11/7/2020\", \"11/8/2020\", \"11/9/2020\", \"11/10/2020\", \"11/11/2020\", \"11/12/2020\", \"11/13/2020\", \"11/14/2020\", \"11/15/2020\", \"11/16/2020\", \"11/17/2020\", \"11/18/2020\", \"11/19/2020\", \"11/20/2020\", \"11/21/2020\"], \"xaxis\": \"x\", \"y\": [0, 0, 0, 0, 0, 0, 0, 0, 0, 0, 0, 0, 0, 0, 0, 0, 0, 0, 0, 0, 0, 0, 2, 0, 4, 5, 1, 5, 4, 8, 6, 17, 28, 27, 41, 49, 36, 133, 98, 167, 196, 189, 252, 173, 370, 347, 347, 473, 429, 625, 795, 649, 601, 743, 685, 660, 971, 887, 758, 810, 839, 727, 760, 764, 681, 527, 636, 604, 540, 612, 570, 619, 431, 564, 604, 578, 525, 575, 480, 433, 454, 534, 437, 464, 420, 415, 260, 333, 382, 323, 285, 269, 474, 174, 195, 236, 369, 274, 243, 194, 165, 179, 172, 195, 262, 242, 153, 145, 99, 162, 161, 156, 130, 119, 50, 92, 78, 117, 70, 87, 111, 75, 60, 55, 71, 88, 85, 72, 53, 65, 79, 71, 53, 56, 78, 44, 26, 34, 43, 66, 47, 49, 24, 23, 18, -31, 34, 30, 8, 22, 6, 23, 21, 30, 15, 21, 7, 8, 30, 15, 12, 12, 7, 9, 13, 17, 13, 20, 11, 14, 3, 13, 15, 9, 10, 5, 5, 5, 5, 11, 6, 3, 9, 5, 8, 12, 5, 10, 6, 3, 13, 2, 4, 6, 10, 6, 3, 158, 4, 4, 5, 7, 6, 9, 3, 7, 4, 4, 13, 5, 9, 1, 4, 6, 8, 6, 10, 11, 16, 7, 12, 10, 14, 10, 10, 6, 7, 14, 9, 12, 13, 10, 24, 15, 17, 14, 20, 23, 20, 17, 17, 16, 24, 19, 24, 23, 27, 18, 16, 28, 31, 22, 28, 29, 26, 39, 41, 43, 83, 55, 47, 69, 73, 89, 127, 136, 91, 151, 128, 141, 221, 205, 217, 199, 297, 208, 233, 353, 352, 428, 446, 425, 331, 356, 580, 623, 636, 550, 544, 546, 504, 731, 753, 653, 699], \"yaxis\": \"y\"}],\n",
       "                        {\"barmode\": \"relative\", \"coloraxis\": {\"colorbar\": {\"title\": {\"text\": \"Italy\"}}, \"colorscale\": [[0.0, \"#0d0887\"], [0.1111111111111111, \"#46039f\"], [0.2222222222222222, \"#7201a8\"], [0.3333333333333333, \"#9c179e\"], [0.4444444444444444, \"#bd3786\"], [0.5555555555555556, \"#d8576b\"], [0.6666666666666666, \"#ed7953\"], [0.7777777777777778, \"#fb9f3a\"], [0.8888888888888888, \"#fdca26\"], [1.0, \"#f0f921\"]]}, \"height\": 400, \"legend\": {\"tracegroupgap\": 0}, \"plot_bgcolor\": \"rgb(230,230,230)\", \"template\": {\"data\": {\"bar\": [{\"error_x\": {\"color\": \"#2a3f5f\"}, \"error_y\": {\"color\": \"#2a3f5f\"}, \"marker\": {\"line\": {\"color\": \"#E5ECF6\", \"width\": 0.5}}, \"type\": \"bar\"}], \"barpolar\": [{\"marker\": {\"line\": {\"color\": \"#E5ECF6\", \"width\": 0.5}}, \"type\": \"barpolar\"}], \"carpet\": [{\"aaxis\": {\"endlinecolor\": \"#2a3f5f\", \"gridcolor\": \"white\", \"linecolor\": \"white\", \"minorgridcolor\": \"white\", \"startlinecolor\": \"#2a3f5f\"}, \"baxis\": {\"endlinecolor\": \"#2a3f5f\", \"gridcolor\": \"white\", \"linecolor\": \"white\", \"minorgridcolor\": \"white\", \"startlinecolor\": \"#2a3f5f\"}, \"type\": \"carpet\"}], \"choropleth\": [{\"colorbar\": {\"outlinewidth\": 0, \"ticks\": \"\"}, \"type\": \"choropleth\"}], \"contour\": [{\"colorbar\": {\"outlinewidth\": 0, \"ticks\": \"\"}, \"colorscale\": [[0.0, \"#0d0887\"], [0.1111111111111111, \"#46039f\"], [0.2222222222222222, \"#7201a8\"], [0.3333333333333333, \"#9c179e\"], [0.4444444444444444, \"#bd3786\"], [0.5555555555555556, \"#d8576b\"], [0.6666666666666666, \"#ed7953\"], [0.7777777777777778, \"#fb9f3a\"], [0.8888888888888888, \"#fdca26\"], [1.0, \"#f0f921\"]], \"type\": \"contour\"}], \"contourcarpet\": [{\"colorbar\": {\"outlinewidth\": 0, \"ticks\": \"\"}, \"type\": \"contourcarpet\"}], \"heatmap\": [{\"colorbar\": {\"outlinewidth\": 0, \"ticks\": \"\"}, \"colorscale\": [[0.0, \"#0d0887\"], [0.1111111111111111, \"#46039f\"], [0.2222222222222222, \"#7201a8\"], [0.3333333333333333, \"#9c179e\"], [0.4444444444444444, \"#bd3786\"], [0.5555555555555556, \"#d8576b\"], [0.6666666666666666, \"#ed7953\"], [0.7777777777777778, \"#fb9f3a\"], [0.8888888888888888, \"#fdca26\"], [1.0, \"#f0f921\"]], \"type\": \"heatmap\"}], \"heatmapgl\": [{\"colorbar\": {\"outlinewidth\": 0, \"ticks\": \"\"}, \"colorscale\": [[0.0, \"#0d0887\"], [0.1111111111111111, \"#46039f\"], [0.2222222222222222, \"#7201a8\"], [0.3333333333333333, \"#9c179e\"], [0.4444444444444444, \"#bd3786\"], [0.5555555555555556, \"#d8576b\"], [0.6666666666666666, \"#ed7953\"], [0.7777777777777778, \"#fb9f3a\"], [0.8888888888888888, \"#fdca26\"], [1.0, \"#f0f921\"]], \"type\": \"heatmapgl\"}], \"histogram\": [{\"marker\": {\"colorbar\": {\"outlinewidth\": 0, \"ticks\": \"\"}}, \"type\": \"histogram\"}], \"histogram2d\": [{\"colorbar\": {\"outlinewidth\": 0, \"ticks\": \"\"}, \"colorscale\": [[0.0, \"#0d0887\"], [0.1111111111111111, \"#46039f\"], [0.2222222222222222, \"#7201a8\"], [0.3333333333333333, \"#9c179e\"], [0.4444444444444444, \"#bd3786\"], [0.5555555555555556, \"#d8576b\"], [0.6666666666666666, \"#ed7953\"], [0.7777777777777778, \"#fb9f3a\"], [0.8888888888888888, \"#fdca26\"], [1.0, \"#f0f921\"]], \"type\": \"histogram2d\"}], \"histogram2dcontour\": [{\"colorbar\": {\"outlinewidth\": 0, \"ticks\": \"\"}, \"colorscale\": [[0.0, \"#0d0887\"], [0.1111111111111111, \"#46039f\"], [0.2222222222222222, \"#7201a8\"], [0.3333333333333333, \"#9c179e\"], [0.4444444444444444, \"#bd3786\"], [0.5555555555555556, \"#d8576b\"], [0.6666666666666666, \"#ed7953\"], [0.7777777777777778, \"#fb9f3a\"], [0.8888888888888888, \"#fdca26\"], [1.0, \"#f0f921\"]], \"type\": \"histogram2dcontour\"}], \"mesh3d\": [{\"colorbar\": {\"outlinewidth\": 0, \"ticks\": \"\"}, \"type\": \"mesh3d\"}], \"parcoords\": [{\"line\": {\"colorbar\": {\"outlinewidth\": 0, \"ticks\": \"\"}}, \"type\": \"parcoords\"}], \"pie\": [{\"automargin\": true, \"type\": \"pie\"}], \"scatter\": [{\"marker\": {\"colorbar\": {\"outlinewidth\": 0, \"ticks\": \"\"}}, \"type\": \"scatter\"}], \"scatter3d\": [{\"line\": {\"colorbar\": {\"outlinewidth\": 0, \"ticks\": \"\"}}, \"marker\": {\"colorbar\": {\"outlinewidth\": 0, \"ticks\": \"\"}}, \"type\": \"scatter3d\"}], \"scattercarpet\": [{\"marker\": {\"colorbar\": {\"outlinewidth\": 0, \"ticks\": \"\"}}, \"type\": \"scattercarpet\"}], \"scattergeo\": [{\"marker\": {\"colorbar\": {\"outlinewidth\": 0, \"ticks\": \"\"}}, \"type\": \"scattergeo\"}], \"scattergl\": [{\"marker\": {\"colorbar\": {\"outlinewidth\": 0, \"ticks\": \"\"}}, \"type\": \"scattergl\"}], \"scattermapbox\": [{\"marker\": {\"colorbar\": {\"outlinewidth\": 0, \"ticks\": \"\"}}, \"type\": \"scattermapbox\"}], \"scatterpolar\": [{\"marker\": {\"colorbar\": {\"outlinewidth\": 0, \"ticks\": \"\"}}, \"type\": \"scatterpolar\"}], \"scatterpolargl\": [{\"marker\": {\"colorbar\": {\"outlinewidth\": 0, \"ticks\": \"\"}}, \"type\": \"scatterpolargl\"}], \"scatterternary\": [{\"marker\": {\"colorbar\": {\"outlinewidth\": 0, \"ticks\": \"\"}}, \"type\": \"scatterternary\"}], \"surface\": [{\"colorbar\": {\"outlinewidth\": 0, \"ticks\": \"\"}, \"colorscale\": [[0.0, \"#0d0887\"], [0.1111111111111111, \"#46039f\"], [0.2222222222222222, \"#7201a8\"], [0.3333333333333333, \"#9c179e\"], [0.4444444444444444, \"#bd3786\"], [0.5555555555555556, \"#d8576b\"], [0.6666666666666666, \"#ed7953\"], [0.7777777777777778, \"#fb9f3a\"], [0.8888888888888888, \"#fdca26\"], [1.0, \"#f0f921\"]], \"type\": \"surface\"}], \"table\": [{\"cells\": {\"fill\": {\"color\": \"#EBF0F8\"}, \"line\": {\"color\": \"white\"}}, \"header\": {\"fill\": {\"color\": \"#C8D4E3\"}, \"line\": {\"color\": \"white\"}}, \"type\": \"table\"}]}, \"layout\": {\"annotationdefaults\": {\"arrowcolor\": \"#2a3f5f\", \"arrowhead\": 0, \"arrowwidth\": 1}, \"coloraxis\": {\"colorbar\": {\"outlinewidth\": 0, \"ticks\": \"\"}}, \"colorscale\": {\"diverging\": [[0, \"#8e0152\"], [0.1, \"#c51b7d\"], [0.2, \"#de77ae\"], [0.3, \"#f1b6da\"], [0.4, \"#fde0ef\"], [0.5, \"#f7f7f7\"], [0.6, \"#e6f5d0\"], [0.7, \"#b8e186\"], [0.8, \"#7fbc41\"], [0.9, \"#4d9221\"], [1, \"#276419\"]], \"sequential\": [[0.0, \"#0d0887\"], [0.1111111111111111, \"#46039f\"], [0.2222222222222222, \"#7201a8\"], [0.3333333333333333, \"#9c179e\"], [0.4444444444444444, \"#bd3786\"], [0.5555555555555556, \"#d8576b\"], [0.6666666666666666, \"#ed7953\"], [0.7777777777777778, \"#fb9f3a\"], [0.8888888888888888, \"#fdca26\"], [1.0, \"#f0f921\"]], \"sequentialminus\": [[0.0, \"#0d0887\"], [0.1111111111111111, \"#46039f\"], [0.2222222222222222, \"#7201a8\"], [0.3333333333333333, \"#9c179e\"], [0.4444444444444444, \"#bd3786\"], [0.5555555555555556, \"#d8576b\"], [0.6666666666666666, \"#ed7953\"], [0.7777777777777778, \"#fb9f3a\"], [0.8888888888888888, \"#fdca26\"], [1.0, \"#f0f921\"]]}, \"colorway\": [\"#636efa\", \"#EF553B\", \"#00cc96\", \"#ab63fa\", \"#FFA15A\", \"#19d3f3\", \"#FF6692\", \"#B6E880\", \"#FF97FF\", \"#FECB52\"], \"font\": {\"color\": \"#2a3f5f\"}, \"geo\": {\"bgcolor\": \"white\", \"lakecolor\": \"white\", \"landcolor\": \"#E5ECF6\", \"showlakes\": true, \"showland\": true, \"subunitcolor\": \"white\"}, \"hoverlabel\": {\"align\": \"left\"}, \"hovermode\": \"closest\", \"mapbox\": {\"style\": \"light\"}, \"paper_bgcolor\": \"white\", \"plot_bgcolor\": \"#E5ECF6\", \"polar\": {\"angularaxis\": {\"gridcolor\": \"white\", \"linecolor\": \"white\", \"ticks\": \"\"}, \"bgcolor\": \"#E5ECF6\", \"radialaxis\": {\"gridcolor\": \"white\", \"linecolor\": \"white\", \"ticks\": \"\"}}, \"scene\": {\"xaxis\": {\"backgroundcolor\": \"#E5ECF6\", \"gridcolor\": \"white\", \"gridwidth\": 2, \"linecolor\": \"white\", \"showbackground\": true, \"ticks\": \"\", \"zerolinecolor\": \"white\"}, \"yaxis\": {\"backgroundcolor\": \"#E5ECF6\", \"gridcolor\": \"white\", \"gridwidth\": 2, \"linecolor\": \"white\", \"showbackground\": true, \"ticks\": \"\", \"zerolinecolor\": \"white\"}, \"zaxis\": {\"backgroundcolor\": \"#E5ECF6\", \"gridcolor\": \"white\", \"gridwidth\": 2, \"linecolor\": \"white\", \"showbackground\": true, \"ticks\": \"\", \"zerolinecolor\": \"white\"}}, \"shapedefaults\": {\"line\": {\"color\": \"#2a3f5f\"}}, \"ternary\": {\"aaxis\": {\"gridcolor\": \"white\", \"linecolor\": \"white\", \"ticks\": \"\"}, \"baxis\": {\"gridcolor\": \"white\", \"linecolor\": \"white\", \"ticks\": \"\"}, \"bgcolor\": \"#E5ECF6\", \"caxis\": {\"gridcolor\": \"white\", \"linecolor\": \"white\", \"ticks\": \"\"}}, \"title\": {\"x\": 0.05}, \"xaxis\": {\"automargin\": true, \"gridcolor\": \"white\", \"linecolor\": \"white\", \"ticks\": \"\", \"title\": {\"standoff\": 15}, \"zerolinecolor\": \"white\", \"zerolinewidth\": 2}, \"yaxis\": {\"automargin\": true, \"gridcolor\": \"white\", \"linecolor\": \"white\", \"ticks\": \"\", \"title\": {\"standoff\": 15}, \"zerolinecolor\": \"white\", \"zerolinewidth\": 2}}}, \"title\": {\"text\": \"Covid 19 death cases in Italy per day\"}, \"xaxis\": {\"anchor\": \"y\", \"domain\": [0.0, 1.0], \"title\": {\"text\": \"date\"}}, \"yaxis\": {\"anchor\": \"x\", \"domain\": [0.0, 1.0], \"title\": {\"text\": \"Italy\"}}},\n",
       "                        {\"responsive\": true}\n",
       "                    ).then(function(){\n",
       "                            \n",
       "var gd = document.getElementById('e9c3ceba-d5e3-4a12-a544-44f14954a3b1');\n",
       "var x = new MutationObserver(function (mutations, observer) {{\n",
       "        var display = window.getComputedStyle(gd).display;\n",
       "        if (!display || display === 'none') {{\n",
       "            console.log([gd, 'removed!']);\n",
       "            Plotly.purge(gd);\n",
       "            observer.disconnect();\n",
       "        }}\n",
       "}});\n",
       "\n",
       "// Listen for the removal of the full notebook cells\n",
       "var notebookContainer = gd.closest('#notebook-container');\n",
       "if (notebookContainer) {{\n",
       "    x.observe(notebookContainer, {childList: true});\n",
       "}}\n",
       "\n",
       "// Listen for the clearing of the current output cell\n",
       "var outputEl = gd.closest('.output');\n",
       "if (outputEl) {{\n",
       "    x.observe(outputEl, {childList: true});\n",
       "}}\n",
       "\n",
       "                        })\n",
       "                };\n",
       "                \n",
       "            </script>\n",
       "        </div>\n",
       "</body>\n",
       "</html>"
      ]
     },
     "metadata": {
      "tags": []
     },
     "output_type": "display_data"
    },
    {
     "data": {
      "text/html": [
       "<html>\n",
       "<head><meta charset=\"utf-8\" /></head>\n",
       "<body>\n",
       "    <div>\n",
       "            <script src=\"https://cdnjs.cloudflare.com/ajax/libs/mathjax/2.7.5/MathJax.js?config=TeX-AMS-MML_SVG\"></script><script type=\"text/javascript\">if (window.MathJax) {MathJax.Hub.Config({SVG: {font: \"STIX-Web\"}});}</script>\n",
       "                <script type=\"text/javascript\">window.PlotlyConfig = {MathJaxConfig: 'local'};</script>\n",
       "        <script src=\"https://cdn.plot.ly/plotly-latest.min.js\"></script>    \n",
       "            <div id=\"5586801f-18f4-45e8-8ae1-beba62415f64\" class=\"plotly-graph-div\" style=\"height:400px; width:100%;\"></div>\n",
       "            <script type=\"text/javascript\">\n",
       "                \n",
       "                    window.PLOTLYENV=window.PLOTLYENV || {};\n",
       "                    \n",
       "                if (document.getElementById(\"5586801f-18f4-45e8-8ae1-beba62415f64\")) {\n",
       "                    Plotly.newPlot(\n",
       "                        '5586801f-18f4-45e8-8ae1-beba62415f64',\n",
       "                        [{\"alignmentgroup\": \"True\", \"hoverlabel\": {\"namelength\": 0}, \"hovertemplate\": \"date=%{x}<br>China=%{marker.color}\", \"legendgroup\": \"\", \"marker\": {\"color\": [46, 45, 57, 65, 66, 72, 73, 86, 89, 97, 108, 97, 254, 13, 143, 142, 105, 98, 139, 112, 118, 109, 98, 150, 70, 52, 29, 44, 47, 35, 42, 32, 37, 31, 30, 28, 27, 23, 17, 22, 11, 7, 15, 9, 13, 9, 16, 8, 4, 6, 6, 9, 7, 4, 6, 5, 3, 5, 2, 3, 1, 6, 10, 4, 3, 2, 0, 2, 2, 1, 3, 0, 2, 0, 1, 0, 1290, 0, 0, 0, 0, 0, 0, 0, 0, 0, 1, 0, 0, 0, 0, 0, 0, 0, 0, 0, 0, 0, 0, 0, 0, 0, 0, 0, 0, 0, 1, 0, 0, 0, 0, 0, 0, 0, 0, 0, 0, 0, 0, 0, 0, 0, 0, 0, 0, 0, 0, 0, 0, 0, 0, 0, 0, 0, 0, 0, 0, 0, 0, 0, 0, 1, 0, 0, 1, 0, 1, 0, 0, 0, 0, 0, 0, 0, 0, 0, 0, 0, 0, 0, 0, 0, 0, 0, 1, 0, 2, 0, 1, 1, 0, 0, 2, 0, 1, 1, 2, 0, 4, 1, 2, 0, 2, 6, 2, 3, 4, 1, 3, 1, 0, 5, 4, 3, 4, 3, 1, 2, 0, 0, 2, 1, 3, 2, 0, 0, 0, 1, 1, 2, 3, 3, 1, 1, 1, 3, 1, 0, 0, 2, 2, 1, 0, 0, 0, 1, 0, 1, 1, 0, 0, 1, 0, 0, 0, 0, 1, 0, 1, 0, 0, 0, 0, 0, 0, 0, 0, 0, 0, 0, 0, 0, 0, 0, 0, 0, 0, 0, 0, 0, 0, 0, 0, 0, 0, 0, 0, 0, 0, 0, 0, 0, 0, 0, 0, 0, 0, 0, 0, 0, 0, 0, 0, 0, 0, 0, 0, 0, 0, 0, 0, 0, 0, 0, 0], \"coloraxis\": \"coloraxis\"}, \"name\": \"\", \"offsetgroup\": \"\", \"orientation\": \"v\", \"showlegend\": false, \"textposition\": \"auto\", \"type\": \"bar\", \"x\": [\"2/1/2020\", \"2/2/2020\", \"2/3/2020\", \"2/4/2020\", \"2/5/2020\", \"2/6/2020\", \"2/7/2020\", \"2/8/2020\", \"2/9/2020\", \"2/10/2020\", \"2/11/2020\", \"2/12/2020\", \"2/13/2020\", \"2/14/2020\", \"2/15/2020\", \"2/16/2020\", \"2/17/2020\", \"2/18/2020\", \"2/19/2020\", \"2/20/2020\", \"2/21/2020\", \"2/22/2020\", \"2/23/2020\", \"2/24/2020\", \"2/25/2020\", \"2/26/2020\", \"2/27/2020\", \"2/28/2020\", \"2/29/2020\", \"3/1/2020\", \"3/2/2020\", \"3/3/2020\", \"3/4/2020\", \"3/5/2020\", \"3/6/2020\", \"3/7/2020\", \"3/8/2020\", \"3/9/2020\", \"3/10/2020\", \"3/11/2020\", \"3/12/2020\", \"3/13/2020\", \"3/14/2020\", \"3/15/2020\", \"3/16/2020\", \"3/17/2020\", \"3/18/2020\", \"3/19/2020\", \"3/20/2020\", \"3/21/2020\", \"3/22/2020\", \"3/23/2020\", \"3/24/2020\", \"3/25/2020\", \"3/26/2020\", \"3/27/2020\", \"3/28/2020\", \"3/29/2020\", \"3/30/2020\", \"3/31/2020\", \"4/1/2020\", \"4/2/2020\", \"4/3/2020\", \"4/4/2020\", \"4/5/2020\", \"4/6/2020\", \"4/7/2020\", \"4/8/2020\", \"4/9/2020\", \"4/10/2020\", \"4/11/2020\", \"4/12/2020\", \"4/13/2020\", \"4/14/2020\", \"4/15/2020\", \"4/16/2020\", \"4/17/2020\", \"4/18/2020\", \"4/19/2020\", \"4/20/2020\", \"4/21/2020\", \"4/22/2020\", \"4/23/2020\", \"4/24/2020\", \"4/25/2020\", \"4/26/2020\", \"4/27/2020\", \"4/28/2020\", \"4/29/2020\", \"4/30/2020\", \"5/1/2020\", \"5/2/2020\", \"5/3/2020\", \"5/4/2020\", \"5/5/2020\", \"5/6/2020\", \"5/7/2020\", \"5/8/2020\", \"5/9/2020\", \"5/10/2020\", \"5/11/2020\", \"5/12/2020\", \"5/13/2020\", \"5/14/2020\", \"5/15/2020\", \"5/16/2020\", \"5/17/2020\", \"5/18/2020\", \"5/19/2020\", \"5/20/2020\", \"5/21/2020\", \"5/22/2020\", \"5/23/2020\", \"5/24/2020\", \"5/25/2020\", \"5/26/2020\", \"5/27/2020\", \"5/28/2020\", \"5/29/2020\", \"5/30/2020\", \"5/31/2020\", \"6/1/2020\", \"6/2/2020\", \"6/3/2020\", \"6/4/2020\", \"6/5/2020\", \"6/6/2020\", \"6/7/2020\", \"6/8/2020\", \"6/9/2020\", \"6/10/2020\", \"6/11/2020\", \"6/12/2020\", \"6/13/2020\", \"6/14/2020\", \"6/15/2020\", \"6/16/2020\", \"6/17/2020\", \"6/18/2020\", \"6/19/2020\", \"6/20/2020\", \"6/21/2020\", \"6/22/2020\", \"6/23/2020\", \"6/24/2020\", \"6/25/2020\", \"6/26/2020\", \"6/27/2020\", \"6/28/2020\", \"6/29/2020\", \"6/30/2020\", \"7/1/2020\", \"7/2/2020\", \"7/3/2020\", \"7/4/2020\", \"7/5/2020\", \"7/6/2020\", \"7/7/2020\", \"7/8/2020\", \"7/9/2020\", \"7/10/2020\", \"7/11/2020\", \"7/12/2020\", \"7/13/2020\", \"7/14/2020\", \"7/15/2020\", \"7/16/2020\", \"7/17/2020\", \"7/18/2020\", \"7/19/2020\", \"7/20/2020\", \"7/21/2020\", \"7/22/2020\", \"7/23/2020\", \"7/24/2020\", \"7/25/2020\", \"7/26/2020\", \"7/27/2020\", \"7/28/2020\", \"7/29/2020\", \"7/30/2020\", \"7/31/2020\", \"8/1/2020\", \"8/2/2020\", \"8/3/2020\", \"8/4/2020\", \"8/5/2020\", \"8/6/2020\", \"8/7/2020\", \"8/8/2020\", \"8/9/2020\", \"8/10/2020\", \"8/11/2020\", \"8/12/2020\", \"8/13/2020\", \"8/14/2020\", \"8/15/2020\", \"8/16/2020\", \"8/17/2020\", \"8/18/2020\", \"8/19/2020\", \"8/20/2020\", \"8/21/2020\", \"8/22/2020\", \"8/23/2020\", \"8/24/2020\", \"8/25/2020\", \"8/26/2020\", \"8/27/2020\", \"8/28/2020\", \"8/29/2020\", \"8/30/2020\", \"8/31/2020\", \"9/1/2020\", \"9/2/2020\", \"9/3/2020\", \"9/4/2020\", \"9/5/2020\", \"9/6/2020\", \"9/7/2020\", \"9/8/2020\", \"9/9/2020\", \"9/10/2020\", \"9/11/2020\", \"9/12/2020\", \"9/13/2020\", \"9/14/2020\", \"9/15/2020\", \"9/16/2020\", \"9/17/2020\", \"9/18/2020\", \"9/19/2020\", \"9/20/2020\", \"9/21/2020\", \"9/22/2020\", \"9/23/2020\", \"9/24/2020\", \"9/25/2020\", \"9/26/2020\", \"9/27/2020\", \"9/28/2020\", \"9/29/2020\", \"9/30/2020\", \"10/1/2020\", \"10/2/2020\", \"10/3/2020\", \"10/4/2020\", \"10/5/2020\", \"10/6/2020\", \"10/7/2020\", \"10/8/2020\", \"10/9/2020\", \"10/10/2020\", \"10/11/2020\", \"10/12/2020\", \"10/13/2020\", \"10/14/2020\", \"10/15/2020\", \"10/16/2020\", \"10/17/2020\", \"10/18/2020\", \"10/19/2020\", \"10/20/2020\", \"10/21/2020\", \"10/22/2020\", \"10/23/2020\", \"10/24/2020\", \"10/25/2020\", \"10/26/2020\", \"10/27/2020\", \"10/28/2020\", \"10/29/2020\", \"10/30/2020\", \"10/31/2020\", \"11/1/2020\", \"11/2/2020\", \"11/3/2020\", \"11/4/2020\", \"11/5/2020\", \"11/6/2020\", \"11/7/2020\", \"11/8/2020\", \"11/9/2020\", \"11/10/2020\", \"11/11/2020\", \"11/12/2020\", \"11/13/2020\", \"11/14/2020\", \"11/15/2020\", \"11/16/2020\", \"11/17/2020\", \"11/18/2020\", \"11/19/2020\", \"11/20/2020\", \"11/21/2020\"], \"xaxis\": \"x\", \"y\": [46, 45, 57, 65, 66, 72, 73, 86, 89, 97, 108, 97, 254, 13, 143, 142, 105, 98, 139, 112, 118, 109, 98, 150, 70, 52, 29, 44, 47, 35, 42, 32, 37, 31, 30, 28, 27, 23, 17, 22, 11, 7, 15, 9, 13, 9, 16, 8, 4, 6, 6, 9, 7, 4, 6, 5, 3, 5, 2, 3, 1, 6, 10, 4, 3, 2, 0, 2, 2, 1, 3, 0, 2, 0, 1, 0, 1290, 0, 0, 0, 0, 0, 0, 0, 0, 0, 1, 0, 0, 0, 0, 0, 0, 0, 0, 0, 0, 0, 0, 0, 0, 0, 0, 0, 0, 0, 1, 0, 0, 0, 0, 0, 0, 0, 0, 0, 0, 0, 0, 0, 0, 0, 0, 0, 0, 0, 0, 0, 0, 0, 0, 0, 0, 0, 0, 0, 0, 0, 0, 0, 0, 1, 0, 0, 1, 0, 1, 0, 0, 0, 0, 0, 0, 0, 0, 0, 0, 0, 0, 0, 0, 0, 0, 0, 1, 0, 2, 0, 1, 1, 0, 0, 2, 0, 1, 1, 2, 0, 4, 1, 2, 0, 2, 6, 2, 3, 4, 1, 3, 1, 0, 5, 4, 3, 4, 3, 1, 2, 0, 0, 2, 1, 3, 2, 0, 0, 0, 1, 1, 2, 3, 3, 1, 1, 1, 3, 1, 0, 0, 2, 2, 1, 0, 0, 0, 1, 0, 1, 1, 0, 0, 1, 0, 0, 0, 0, 1, 0, 1, 0, 0, 0, 0, 0, 0, 0, 0, 0, 0, 0, 0, 0, 0, 0, 0, 0, 0, 0, 0, 0, 0, 0, 0, 0, 0, 0, 0, 0, 0, 0, 0, 0, 0, 0, 0, 0, 0, 0, 0, 0, 0, 0, 0, 0, 0, 0, 0, 0, 0, 0, 0, 0, 0, 0, 0], \"yaxis\": \"y\"}],\n",
       "                        {\"barmode\": \"relative\", \"coloraxis\": {\"colorbar\": {\"title\": {\"text\": \"China\"}}, \"colorscale\": [[0.0, \"#0d0887\"], [0.1111111111111111, \"#46039f\"], [0.2222222222222222, \"#7201a8\"], [0.3333333333333333, \"#9c179e\"], [0.4444444444444444, \"#bd3786\"], [0.5555555555555556, \"#d8576b\"], [0.6666666666666666, \"#ed7953\"], [0.7777777777777778, \"#fb9f3a\"], [0.8888888888888888, \"#fdca26\"], [1.0, \"#f0f921\"]]}, \"height\": 400, \"legend\": {\"tracegroupgap\": 0}, \"plot_bgcolor\": \"rgb(230,230,230)\", \"template\": {\"data\": {\"bar\": [{\"error_x\": {\"color\": \"#2a3f5f\"}, \"error_y\": {\"color\": \"#2a3f5f\"}, \"marker\": {\"line\": {\"color\": \"#E5ECF6\", \"width\": 0.5}}, \"type\": \"bar\"}], \"barpolar\": [{\"marker\": {\"line\": {\"color\": \"#E5ECF6\", \"width\": 0.5}}, \"type\": \"barpolar\"}], \"carpet\": [{\"aaxis\": {\"endlinecolor\": \"#2a3f5f\", \"gridcolor\": \"white\", \"linecolor\": \"white\", \"minorgridcolor\": \"white\", \"startlinecolor\": \"#2a3f5f\"}, \"baxis\": {\"endlinecolor\": \"#2a3f5f\", \"gridcolor\": \"white\", \"linecolor\": \"white\", \"minorgridcolor\": \"white\", \"startlinecolor\": \"#2a3f5f\"}, \"type\": \"carpet\"}], \"choropleth\": [{\"colorbar\": {\"outlinewidth\": 0, \"ticks\": \"\"}, \"type\": \"choropleth\"}], \"contour\": [{\"colorbar\": {\"outlinewidth\": 0, \"ticks\": \"\"}, \"colorscale\": [[0.0, \"#0d0887\"], [0.1111111111111111, \"#46039f\"], [0.2222222222222222, \"#7201a8\"], [0.3333333333333333, \"#9c179e\"], [0.4444444444444444, \"#bd3786\"], [0.5555555555555556, \"#d8576b\"], [0.6666666666666666, \"#ed7953\"], [0.7777777777777778, \"#fb9f3a\"], [0.8888888888888888, \"#fdca26\"], [1.0, \"#f0f921\"]], \"type\": \"contour\"}], \"contourcarpet\": [{\"colorbar\": {\"outlinewidth\": 0, \"ticks\": \"\"}, \"type\": \"contourcarpet\"}], \"heatmap\": [{\"colorbar\": {\"outlinewidth\": 0, \"ticks\": \"\"}, \"colorscale\": [[0.0, \"#0d0887\"], [0.1111111111111111, \"#46039f\"], [0.2222222222222222, \"#7201a8\"], [0.3333333333333333, \"#9c179e\"], [0.4444444444444444, \"#bd3786\"], [0.5555555555555556, \"#d8576b\"], [0.6666666666666666, \"#ed7953\"], [0.7777777777777778, \"#fb9f3a\"], [0.8888888888888888, \"#fdca26\"], [1.0, \"#f0f921\"]], \"type\": \"heatmap\"}], \"heatmapgl\": [{\"colorbar\": {\"outlinewidth\": 0, \"ticks\": \"\"}, \"colorscale\": [[0.0, \"#0d0887\"], [0.1111111111111111, \"#46039f\"], [0.2222222222222222, \"#7201a8\"], [0.3333333333333333, \"#9c179e\"], [0.4444444444444444, \"#bd3786\"], [0.5555555555555556, \"#d8576b\"], [0.6666666666666666, \"#ed7953\"], [0.7777777777777778, \"#fb9f3a\"], [0.8888888888888888, \"#fdca26\"], [1.0, \"#f0f921\"]], \"type\": \"heatmapgl\"}], \"histogram\": [{\"marker\": {\"colorbar\": {\"outlinewidth\": 0, \"ticks\": \"\"}}, \"type\": \"histogram\"}], \"histogram2d\": [{\"colorbar\": {\"outlinewidth\": 0, \"ticks\": \"\"}, \"colorscale\": [[0.0, \"#0d0887\"], [0.1111111111111111, \"#46039f\"], [0.2222222222222222, \"#7201a8\"], [0.3333333333333333, \"#9c179e\"], [0.4444444444444444, \"#bd3786\"], [0.5555555555555556, \"#d8576b\"], [0.6666666666666666, \"#ed7953\"], [0.7777777777777778, \"#fb9f3a\"], [0.8888888888888888, \"#fdca26\"], [1.0, \"#f0f921\"]], \"type\": \"histogram2d\"}], \"histogram2dcontour\": [{\"colorbar\": {\"outlinewidth\": 0, \"ticks\": \"\"}, \"colorscale\": [[0.0, \"#0d0887\"], [0.1111111111111111, \"#46039f\"], [0.2222222222222222, \"#7201a8\"], [0.3333333333333333, \"#9c179e\"], [0.4444444444444444, \"#bd3786\"], [0.5555555555555556, \"#d8576b\"], [0.6666666666666666, \"#ed7953\"], [0.7777777777777778, \"#fb9f3a\"], [0.8888888888888888, \"#fdca26\"], [1.0, \"#f0f921\"]], \"type\": \"histogram2dcontour\"}], \"mesh3d\": [{\"colorbar\": {\"outlinewidth\": 0, \"ticks\": \"\"}, \"type\": \"mesh3d\"}], \"parcoords\": [{\"line\": {\"colorbar\": {\"outlinewidth\": 0, \"ticks\": \"\"}}, \"type\": \"parcoords\"}], \"pie\": [{\"automargin\": true, \"type\": \"pie\"}], \"scatter\": [{\"marker\": {\"colorbar\": {\"outlinewidth\": 0, \"ticks\": \"\"}}, \"type\": \"scatter\"}], \"scatter3d\": [{\"line\": {\"colorbar\": {\"outlinewidth\": 0, \"ticks\": \"\"}}, \"marker\": {\"colorbar\": {\"outlinewidth\": 0, \"ticks\": \"\"}}, \"type\": \"scatter3d\"}], \"scattercarpet\": [{\"marker\": {\"colorbar\": {\"outlinewidth\": 0, \"ticks\": \"\"}}, \"type\": \"scattercarpet\"}], \"scattergeo\": [{\"marker\": {\"colorbar\": {\"outlinewidth\": 0, \"ticks\": \"\"}}, \"type\": \"scattergeo\"}], \"scattergl\": [{\"marker\": {\"colorbar\": {\"outlinewidth\": 0, \"ticks\": \"\"}}, \"type\": \"scattergl\"}], \"scattermapbox\": [{\"marker\": {\"colorbar\": {\"outlinewidth\": 0, \"ticks\": \"\"}}, \"type\": \"scattermapbox\"}], \"scatterpolar\": [{\"marker\": {\"colorbar\": {\"outlinewidth\": 0, \"ticks\": \"\"}}, \"type\": \"scatterpolar\"}], \"scatterpolargl\": [{\"marker\": {\"colorbar\": {\"outlinewidth\": 0, \"ticks\": \"\"}}, \"type\": \"scatterpolargl\"}], \"scatterternary\": [{\"marker\": {\"colorbar\": {\"outlinewidth\": 0, \"ticks\": \"\"}}, \"type\": \"scatterternary\"}], \"surface\": [{\"colorbar\": {\"outlinewidth\": 0, \"ticks\": \"\"}, \"colorscale\": [[0.0, \"#0d0887\"], [0.1111111111111111, \"#46039f\"], [0.2222222222222222, \"#7201a8\"], [0.3333333333333333, \"#9c179e\"], [0.4444444444444444, \"#bd3786\"], [0.5555555555555556, \"#d8576b\"], [0.6666666666666666, \"#ed7953\"], [0.7777777777777778, \"#fb9f3a\"], [0.8888888888888888, \"#fdca26\"], [1.0, \"#f0f921\"]], \"type\": \"surface\"}], \"table\": [{\"cells\": {\"fill\": {\"color\": \"#EBF0F8\"}, \"line\": {\"color\": \"white\"}}, \"header\": {\"fill\": {\"color\": \"#C8D4E3\"}, \"line\": {\"color\": \"white\"}}, \"type\": \"table\"}]}, \"layout\": {\"annotationdefaults\": {\"arrowcolor\": \"#2a3f5f\", \"arrowhead\": 0, \"arrowwidth\": 1}, \"coloraxis\": {\"colorbar\": {\"outlinewidth\": 0, \"ticks\": \"\"}}, \"colorscale\": {\"diverging\": [[0, \"#8e0152\"], [0.1, \"#c51b7d\"], [0.2, \"#de77ae\"], [0.3, \"#f1b6da\"], [0.4, \"#fde0ef\"], [0.5, \"#f7f7f7\"], [0.6, \"#e6f5d0\"], [0.7, \"#b8e186\"], [0.8, \"#7fbc41\"], [0.9, \"#4d9221\"], [1, \"#276419\"]], \"sequential\": [[0.0, \"#0d0887\"], [0.1111111111111111, \"#46039f\"], [0.2222222222222222, \"#7201a8\"], [0.3333333333333333, \"#9c179e\"], [0.4444444444444444, \"#bd3786\"], [0.5555555555555556, \"#d8576b\"], [0.6666666666666666, \"#ed7953\"], [0.7777777777777778, \"#fb9f3a\"], [0.8888888888888888, \"#fdca26\"], [1.0, \"#f0f921\"]], \"sequentialminus\": [[0.0, \"#0d0887\"], [0.1111111111111111, \"#46039f\"], [0.2222222222222222, \"#7201a8\"], [0.3333333333333333, \"#9c179e\"], [0.4444444444444444, \"#bd3786\"], [0.5555555555555556, \"#d8576b\"], [0.6666666666666666, \"#ed7953\"], [0.7777777777777778, \"#fb9f3a\"], [0.8888888888888888, \"#fdca26\"], [1.0, \"#f0f921\"]]}, \"colorway\": [\"#636efa\", \"#EF553B\", \"#00cc96\", \"#ab63fa\", \"#FFA15A\", \"#19d3f3\", \"#FF6692\", \"#B6E880\", \"#FF97FF\", \"#FECB52\"], \"font\": {\"color\": \"#2a3f5f\"}, \"geo\": {\"bgcolor\": \"white\", \"lakecolor\": \"white\", \"landcolor\": \"#E5ECF6\", \"showlakes\": true, \"showland\": true, \"subunitcolor\": \"white\"}, \"hoverlabel\": {\"align\": \"left\"}, \"hovermode\": \"closest\", \"mapbox\": {\"style\": \"light\"}, \"paper_bgcolor\": \"white\", \"plot_bgcolor\": \"#E5ECF6\", \"polar\": {\"angularaxis\": {\"gridcolor\": \"white\", \"linecolor\": \"white\", \"ticks\": \"\"}, \"bgcolor\": \"#E5ECF6\", \"radialaxis\": {\"gridcolor\": \"white\", \"linecolor\": \"white\", \"ticks\": \"\"}}, \"scene\": {\"xaxis\": {\"backgroundcolor\": \"#E5ECF6\", \"gridcolor\": \"white\", \"gridwidth\": 2, \"linecolor\": \"white\", \"showbackground\": true, \"ticks\": \"\", \"zerolinecolor\": \"white\"}, \"yaxis\": {\"backgroundcolor\": \"#E5ECF6\", \"gridcolor\": \"white\", \"gridwidth\": 2, \"linecolor\": \"white\", \"showbackground\": true, \"ticks\": \"\", \"zerolinecolor\": \"white\"}, \"zaxis\": {\"backgroundcolor\": \"#E5ECF6\", \"gridcolor\": \"white\", \"gridwidth\": 2, \"linecolor\": \"white\", \"showbackground\": true, \"ticks\": \"\", \"zerolinecolor\": \"white\"}}, \"shapedefaults\": {\"line\": {\"color\": \"#2a3f5f\"}}, \"ternary\": {\"aaxis\": {\"gridcolor\": \"white\", \"linecolor\": \"white\", \"ticks\": \"\"}, \"baxis\": {\"gridcolor\": \"white\", \"linecolor\": \"white\", \"ticks\": \"\"}, \"bgcolor\": \"#E5ECF6\", \"caxis\": {\"gridcolor\": \"white\", \"linecolor\": \"white\", \"ticks\": \"\"}}, \"title\": {\"x\": 0.05}, \"xaxis\": {\"automargin\": true, \"gridcolor\": \"white\", \"linecolor\": \"white\", \"ticks\": \"\", \"title\": {\"standoff\": 15}, \"zerolinecolor\": \"white\", \"zerolinewidth\": 2}, \"yaxis\": {\"automargin\": true, \"gridcolor\": \"white\", \"linecolor\": \"white\", \"ticks\": \"\", \"title\": {\"standoff\": 15}, \"zerolinecolor\": \"white\", \"zerolinewidth\": 2}}}, \"title\": {\"text\": \"Covid 19 death cases in China per day\"}, \"xaxis\": {\"anchor\": \"y\", \"domain\": [0.0, 1.0], \"title\": {\"text\": \"date\"}}, \"yaxis\": {\"anchor\": \"x\", \"domain\": [0.0, 1.0], \"title\": {\"text\": \"China\"}}},\n",
       "                        {\"responsive\": true}\n",
       "                    ).then(function(){\n",
       "                            \n",
       "var gd = document.getElementById('5586801f-18f4-45e8-8ae1-beba62415f64');\n",
       "var x = new MutationObserver(function (mutations, observer) {{\n",
       "        var display = window.getComputedStyle(gd).display;\n",
       "        if (!display || display === 'none') {{\n",
       "            console.log([gd, 'removed!']);\n",
       "            Plotly.purge(gd);\n",
       "            observer.disconnect();\n",
       "        }}\n",
       "}});\n",
       "\n",
       "// Listen for the removal of the full notebook cells\n",
       "var notebookContainer = gd.closest('#notebook-container');\n",
       "if (notebookContainer) {{\n",
       "    x.observe(notebookContainer, {childList: true});\n",
       "}}\n",
       "\n",
       "// Listen for the clearing of the current output cell\n",
       "var outputEl = gd.closest('.output');\n",
       "if (outputEl) {{\n",
       "    x.observe(outputEl, {childList: true});\n",
       "}}\n",
       "\n",
       "                        })\n",
       "                };\n",
       "                \n",
       "            </script>\n",
       "        </div>\n",
       "</body>\n",
       "</html>"
      ]
     },
     "metadata": {
      "tags": []
     },
     "output_type": "display_data"
    }
   ],
   "source": [
    "fig = px.bar(Death_perday,x='date',y='India',color='India',orientation='v',height=400,\n",
    "             title = 'Covid 19 death cases in India per day',color_discrete_sequence=px.colors.sequential.Plasma_r)\n",
    "fig.update_layout(plot_bgcolor='rgb(230,230,230)')\n",
    "fig.show()\n",
    "\n",
    "fig = px.bar(Death_perday,x='date',y='United States',color='United States',orientation='v',height=400,\n",
    "             title = 'Covid 19 death cases in United States per day',color_discrete_sequence=px.colors.cyclical.IceFire)\n",
    "fig.update_layout(plot_bgcolor='rgb(230,230,230)')\n",
    "fig.show()\n",
    "\n",
    "fig = px.bar(Death_perday,x='date',y='Italy',color='Italy',orientation='v',height=400,\n",
    "             title = 'Covid 19 death cases in Italy per day',color_discrete_sequence=px.colors.cyclical.IceFire)\n",
    "fig.update_layout(plot_bgcolor='rgb(230,230,230)')\n",
    "fig.show()\n",
    "\n",
    "fig = px.bar(Death_perday,x='date',y='China',color='China',orientation='v',height=400,\n",
    "             title = 'Covid 19 death cases in China per day',color_discrete_sequence=px.colors.qualitative.G10)\n",
    "fig.update_layout(plot_bgcolor='rgb(230,230,230)')\n",
    "fig.show()"
   ]
  },
  {
   "cell_type": "markdown",
   "metadata": {},
   "source": [
    "# Installing FBProhet package for Time-Series forecasting"
   ]
  },
  {
   "cell_type": "code",
   "execution_count": 14,
   "metadata": {
    "colab": {
     "base_uri": "https://localhost:8080/"
    },
    "executionInfo": {
     "elapsed": 4961,
     "status": "ok",
     "timestamp": 1606069991643,
     "user": {
      "displayName": "Saloni Bansal",
      "photoUrl": "",
      "userId": "02261793113701121216"
     },
     "user_tz": -330
    },
    "id": "cl8laGirOutd",
    "outputId": "6511200d-f01d-4fe8-a592-b27e70d115cb"
   },
   "outputs": [
    {
     "name": "stdout",
     "output_type": "stream",
     "text": [
      "Requirement already satisfied: fbprophet in /usr/local/lib/python3.6/dist-packages (0.7.1)\n",
      "Requirement already satisfied: Cython>=0.22 in /usr/local/lib/python3.6/dist-packages (from fbprophet) (0.29.21)\n",
      "Requirement already satisfied: cmdstanpy==0.9.5 in /usr/local/lib/python3.6/dist-packages (from fbprophet) (0.9.5)\n",
      "Requirement already satisfied: pystan>=2.14 in /usr/local/lib/python3.6/dist-packages (from fbprophet) (2.19.1.1)\n",
      "Requirement already satisfied: numpy>=1.15.4 in /usr/local/lib/python3.6/dist-packages (from fbprophet) (1.18.5)\n",
      "Requirement already satisfied: pandas>=1.0.4 in /usr/local/lib/python3.6/dist-packages (from fbprophet) (1.1.4)\n",
      "Requirement already satisfied: matplotlib>=2.0.0 in /usr/local/lib/python3.6/dist-packages (from fbprophet) (3.2.2)\n",
      "Requirement already satisfied: LunarCalendar>=0.0.9 in /usr/local/lib/python3.6/dist-packages (from fbprophet) (0.0.9)\n",
      "Requirement already satisfied: convertdate>=2.1.2 in /usr/local/lib/python3.6/dist-packages (from fbprophet) (2.2.2)\n",
      "Requirement already satisfied: holidays>=0.10.2 in /usr/local/lib/python3.6/dist-packages (from fbprophet) (0.10.3)\n",
      "Requirement already satisfied: setuptools-git>=1.2 in /usr/local/lib/python3.6/dist-packages (from fbprophet) (1.2)\n",
      "Requirement already satisfied: python-dateutil>=2.8.0 in /usr/local/lib/python3.6/dist-packages (from fbprophet) (2.8.1)\n",
      "Requirement already satisfied: tqdm>=4.36.1 in /usr/local/lib/python3.6/dist-packages (from fbprophet) (4.41.1)\n",
      "Requirement already satisfied: pytz>=2017.2 in /usr/local/lib/python3.6/dist-packages (from pandas>=1.0.4->fbprophet) (2018.9)\n",
      "Requirement already satisfied: cycler>=0.10 in /usr/local/lib/python3.6/dist-packages (from matplotlib>=2.0.0->fbprophet) (0.10.0)\n",
      "Requirement already satisfied: pyparsing!=2.0.4,!=2.1.2,!=2.1.6,>=2.0.1 in /usr/local/lib/python3.6/dist-packages (from matplotlib>=2.0.0->fbprophet) (2.4.7)\n",
      "Requirement already satisfied: kiwisolver>=1.0.1 in /usr/local/lib/python3.6/dist-packages (from matplotlib>=2.0.0->fbprophet) (1.3.1)\n",
      "Requirement already satisfied: ephem>=3.7.5.3 in /usr/local/lib/python3.6/dist-packages (from LunarCalendar>=0.0.9->fbprophet) (3.7.7.1)\n",
      "Requirement already satisfied: pymeeus<=1,>=0.3.6 in /usr/local/lib/python3.6/dist-packages (from convertdate>=2.1.2->fbprophet) (0.3.7)\n",
      "Requirement already satisfied: six in /usr/local/lib/python3.6/dist-packages (from holidays>=0.10.2->fbprophet) (1.15.0)\n",
      "Requirement already satisfied: korean-lunar-calendar in /usr/local/lib/python3.6/dist-packages (from holidays>=0.10.2->fbprophet) (0.2.1)\n"
     ]
    }
   ],
   "source": [
    "!pip install fbprophet"
   ]
  },
  {
   "cell_type": "code",
   "execution_count": 15,
   "metadata": {
    "executionInfo": {
     "elapsed": 1806,
     "status": "ok",
     "timestamp": 1606070000548,
     "user": {
      "displayName": "Saloni Bansal",
      "photoUrl": "",
      "userId": "02261793113701121216"
     },
     "user_tz": -330
    },
    "id": "30u30DqeOyTP"
   },
   "outputs": [],
   "source": [
    "from fbprophet import Prophet"
   ]
  },
  {
   "cell_type": "code",
   "execution_count": 16,
   "metadata": {
    "colab": {
     "base_uri": "https://localhost:8080/",
     "height": 204
    },
    "executionInfo": {
     "elapsed": 1511,
     "status": "ok",
     "timestamp": 1606070008341,
     "user": {
      "displayName": "Saloni Bansal",
      "photoUrl": "",
      "userId": "02261793113701121216"
     },
     "user_tz": -330
    },
    "id": "ceaBavDIO1Ph",
    "outputId": "77301d9e-5c3f-41bc-e04e-5a84981549ae"
   },
   "outputs": [
    {
     "data": {
      "text/html": [
       "<div>\n",
       "<style scoped>\n",
       "    .dataframe tbody tr th:only-of-type {\n",
       "        vertical-align: middle;\n",
       "    }\n",
       "\n",
       "    .dataframe tbody tr th {\n",
       "        vertical-align: top;\n",
       "    }\n",
       "\n",
       "    .dataframe thead th {\n",
       "        text-align: right;\n",
       "    }\n",
       "</style>\n",
       "<table border=\"1\" class=\"dataframe\">\n",
       "  <thead>\n",
       "    <tr style=\"text-align: right;\">\n",
       "      <th></th>\n",
       "      <th>date</th>\n",
       "      <th>India</th>\n",
       "    </tr>\n",
       "  </thead>\n",
       "  <tbody>\n",
       "    <tr>\n",
       "      <th>0</th>\n",
       "      <td>2/1/2020</td>\n",
       "      <td>1.0</td>\n",
       "    </tr>\n",
       "    <tr>\n",
       "      <th>1</th>\n",
       "      <td>2/2/2020</td>\n",
       "      <td>2.0</td>\n",
       "    </tr>\n",
       "    <tr>\n",
       "      <th>2</th>\n",
       "      <td>2/3/2020</td>\n",
       "      <td>2.0</td>\n",
       "    </tr>\n",
       "    <tr>\n",
       "      <th>3</th>\n",
       "      <td>2/4/2020</td>\n",
       "      <td>3.0</td>\n",
       "    </tr>\n",
       "    <tr>\n",
       "      <th>4</th>\n",
       "      <td>2/5/2020</td>\n",
       "      <td>3.0</td>\n",
       "    </tr>\n",
       "  </tbody>\n",
       "</table>\n",
       "</div>"
      ],
      "text/plain": [
       "       date  India\n",
       "0  2/1/2020    1.0\n",
       "1  2/2/2020    2.0\n",
       "2  2/3/2020    2.0\n",
       "3  2/4/2020    3.0\n",
       "4  2/5/2020    3.0"
      ]
     },
     "execution_count": 16,
     "metadata": {
      "tags": []
     },
     "output_type": "execute_result"
    }
   ],
   "source": [
    "India = Cases_perday[['date','India']]\n",
    "India.head() "
   ]
  },
  {
   "cell_type": "markdown",
   "metadata": {},
   "source": [
    "# Creating a future datetime series for next 100 days"
   ]
  },
  {
   "cell_type": "code",
   "execution_count": 17,
   "metadata": {
    "colab": {
     "base_uri": "https://localhost:8080/",
     "height": 255
    },
    "executionInfo": {
     "elapsed": 3292,
     "status": "ok",
     "timestamp": 1606070020753,
     "user": {
      "displayName": "Saloni Bansal",
      "photoUrl": "",
      "userId": "02261793113701121216"
     },
     "user_tz": -330
    },
    "id": "HxdXfKh4O3N6",
    "outputId": "089102be-7251-4032-83d4-389fc44c2d53"
   },
   "outputs": [
    {
     "name": "stderr",
     "output_type": "stream",
     "text": [
      "INFO:numexpr.utils:NumExpr defaulting to 2 threads.\n",
      "INFO:fbprophet:Disabling yearly seasonality. Run prophet with yearly_seasonality=True to override this.\n",
      "INFO:fbprophet:Disabling daily seasonality. Run prophet with daily_seasonality=True to override this.\n"
     ]
    },
    {
     "data": {
      "text/html": [
       "<div>\n",
       "<style scoped>\n",
       "    .dataframe tbody tr th:only-of-type {\n",
       "        vertical-align: middle;\n",
       "    }\n",
       "\n",
       "    .dataframe tbody tr th {\n",
       "        vertical-align: top;\n",
       "    }\n",
       "\n",
       "    .dataframe thead th {\n",
       "        text-align: right;\n",
       "    }\n",
       "</style>\n",
       "<table border=\"1\" class=\"dataframe\">\n",
       "  <thead>\n",
       "    <tr style=\"text-align: right;\">\n",
       "      <th></th>\n",
       "      <th>ds</th>\n",
       "    </tr>\n",
       "  </thead>\n",
       "  <tbody>\n",
       "    <tr>\n",
       "      <th>390</th>\n",
       "      <td>2021-02-25</td>\n",
       "    </tr>\n",
       "    <tr>\n",
       "      <th>391</th>\n",
       "      <td>2021-02-26</td>\n",
       "    </tr>\n",
       "    <tr>\n",
       "      <th>392</th>\n",
       "      <td>2021-02-27</td>\n",
       "    </tr>\n",
       "    <tr>\n",
       "      <th>393</th>\n",
       "      <td>2021-02-28</td>\n",
       "    </tr>\n",
       "    <tr>\n",
       "      <th>394</th>\n",
       "      <td>2021-03-01</td>\n",
       "    </tr>\n",
       "  </tbody>\n",
       "</table>\n",
       "</div>"
      ],
      "text/plain": [
       "            ds\n",
       "390 2021-02-25\n",
       "391 2021-02-26\n",
       "392 2021-02-27\n",
       "393 2021-02-28\n",
       "394 2021-03-01"
      ]
     },
     "execution_count": 17,
     "metadata": {
      "tags": []
     },
     "output_type": "execute_result"
    }
   ],
   "source": [
    "India.columns = ['ds','y']\n",
    "\n",
    "India['ds']=pd.to_datetime(India['ds'])\n",
    "m=Prophet(interval_width=0.95)\n",
    "m.fit(India)\n",
    "future = m.make_future_dataframe(periods=100)\n",
    "future.tail()"
   ]
  },
  {
   "cell_type": "markdown",
   "metadata": {},
   "source": [
    "# Forecasted Total_case per day"
   ]
  },
  {
   "cell_type": "code",
   "execution_count": 18,
   "metadata": {
    "colab": {
     "base_uri": "https://localhost:8080/",
     "height": 204
    },
    "executionInfo": {
     "elapsed": 3347,
     "status": "ok",
     "timestamp": 1606070030588,
     "user": {
      "displayName": "Saloni Bansal",
      "photoUrl": "",
      "userId": "02261793113701121216"
     },
     "user_tz": -330
    },
    "id": "4QqMkDQIO5zX",
    "outputId": "ee203af8-de17-429e-a389-1b55ad6c9d4f"
   },
   "outputs": [
    {
     "data": {
      "text/html": [
       "<div>\n",
       "<style scoped>\n",
       "    .dataframe tbody tr th:only-of-type {\n",
       "        vertical-align: middle;\n",
       "    }\n",
       "\n",
       "    .dataframe tbody tr th {\n",
       "        vertical-align: top;\n",
       "    }\n",
       "\n",
       "    .dataframe thead th {\n",
       "        text-align: right;\n",
       "    }\n",
       "</style>\n",
       "<table border=\"1\" class=\"dataframe\">\n",
       "  <thead>\n",
       "    <tr style=\"text-align: right;\">\n",
       "      <th></th>\n",
       "      <th>ds</th>\n",
       "      <th>yhat</th>\n",
       "      <th>yhat_lower</th>\n",
       "      <th>yhat_upper</th>\n",
       "    </tr>\n",
       "  </thead>\n",
       "  <tbody>\n",
       "    <tr>\n",
       "      <th>390</th>\n",
       "      <td>2021-02-25</td>\n",
       "      <td>1.487577e+07</td>\n",
       "      <td>1.218294e+07</td>\n",
       "      <td>1.775324e+07</td>\n",
       "    </tr>\n",
       "    <tr>\n",
       "      <th>391</th>\n",
       "      <td>2021-02-26</td>\n",
       "      <td>1.493488e+07</td>\n",
       "      <td>1.219711e+07</td>\n",
       "      <td>1.793619e+07</td>\n",
       "    </tr>\n",
       "    <tr>\n",
       "      <th>392</th>\n",
       "      <td>2021-02-27</td>\n",
       "      <td>1.499344e+07</td>\n",
       "      <td>1.219661e+07</td>\n",
       "      <td>1.802191e+07</td>\n",
       "    </tr>\n",
       "    <tr>\n",
       "      <th>393</th>\n",
       "      <td>2021-02-28</td>\n",
       "      <td>1.505783e+07</td>\n",
       "      <td>1.229435e+07</td>\n",
       "      <td>1.809269e+07</td>\n",
       "    </tr>\n",
       "    <tr>\n",
       "      <th>394</th>\n",
       "      <td>2021-03-01</td>\n",
       "      <td>1.511466e+07</td>\n",
       "      <td>1.222468e+07</td>\n",
       "      <td>1.828181e+07</td>\n",
       "    </tr>\n",
       "  </tbody>\n",
       "</table>\n",
       "</div>"
      ],
      "text/plain": [
       "            ds          yhat    yhat_lower    yhat_upper\n",
       "390 2021-02-25  1.487577e+07  1.218294e+07  1.775324e+07\n",
       "391 2021-02-26  1.493488e+07  1.219711e+07  1.793619e+07\n",
       "392 2021-02-27  1.499344e+07  1.219661e+07  1.802191e+07\n",
       "393 2021-02-28  1.505783e+07  1.229435e+07  1.809269e+07\n",
       "394 2021-03-01  1.511466e+07  1.222468e+07  1.828181e+07"
      ]
     },
     "execution_count": 18,
     "metadata": {
      "tags": []
     },
     "output_type": "execute_result"
    }
   ],
   "source": [
    "forecasted_case = m.predict(future)\n",
    "forecasted_case[['ds','yhat','yhat_lower','yhat_upper']].tail()"
   ]
  },
  {
   "cell_type": "markdown",
   "metadata": {},
   "source": [
    "# Visualiszing Forecasted Total cases till March 2021"
   ]
  },
  {
   "cell_type": "code",
   "execution_count": 19,
   "metadata": {
    "colab": {
     "base_uri": "https://localhost:8080/",
     "height": 441
    },
    "executionInfo": {
     "elapsed": 1474,
     "status": "ok",
     "timestamp": 1606070039969,
     "user": {
      "displayName": "Saloni Bansal",
      "photoUrl": "",
      "userId": "02261793113701121216"
     },
     "user_tz": -330
    },
    "id": "1Ji7CMaOO8Nr",
    "outputId": "f94c0320-66fd-491b-e518-496102d09335"
   },
   "outputs": [
    {
     "data": {
      "image/png": "[encoded data removed]",
      "text/plain": [
       "<Figure size 720x432 with 1 Axes>"
      ]
     },
     "metadata": {
      "tags": []
     },
     "output_type": "display_data"
    }
   ],
   "source": [
    "confirmed_forecast_plot = m.plot(forecasted_case)"
   ]
  },
  {
   "cell_type": "markdown",
   "metadata": {},
   "source": [
    "# Visualizing Monthly and Weekly trend for Total case per day"
   ]
  },
  {
   "cell_type": "code",
   "execution_count": 20,
   "metadata": {
    "colab": {
     "base_uri": "https://localhost:8080/",
     "height": 441
    },
    "executionInfo": {
     "elapsed": 2300,
     "status": "ok",
     "timestamp": 1606070052504,
     "user": {
      "displayName": "Saloni Bansal",
      "photoUrl": "",
      "userId": "02261793113701121216"
     },
     "user_tz": -330
    },
    "id": "OvITSImEO-9D",
    "outputId": "cd2263c4-9837-4df5-b27b-2f521496ec65"
   },
   "outputs": [
    {
     "data": {
      "image/png": "[encoded data removed]",
      "text/plain": [
       "<Figure size 648x432 with 2 Axes>"
      ]
     },
     "metadata": {
      "tags": []
     },
     "output_type": "display_data"
    }
   ],
   "source": [
    "confirmed_forecast_plot = m.plot_components(forecasted_case)"
   ]
  },
  {
   "cell_type": "markdown",
   "metadata": {},
   "source": [
    "# New Death per day"
   ]
  },
  {
   "cell_type": "code",
   "execution_count": 21,
   "metadata": {
    "executionInfo": {
     "elapsed": 1304,
     "status": "ok",
     "timestamp": 1606070074126,
     "user": {
      "displayName": "Saloni Bansal",
      "photoUrl": "",
      "userId": "02261793113701121216"
     },
     "user_tz": -330
    },
    "id": "xh3EjXUiPB0N"
   },
   "outputs": [],
   "source": [
    "India_d = Death_perday[['date','India']]\n",
    "India_d.head()\n",
    "India_d.columns = ['ds','y']\n",
    "\n",
    "India_d['ds']=pd.to_datetime(India_d['ds'])"
   ]
  },
  {
   "cell_type": "markdown",
   "metadata": {},
   "source": [
    "# Creating a datetime series for next 100 days"
   ]
  },
  {
   "cell_type": "code",
   "execution_count": 22,
   "metadata": {
    "colab": {
     "base_uri": "https://localhost:8080/",
     "height": 238
    },
    "executionInfo": {
     "elapsed": 1309,
     "status": "ok",
     "timestamp": 1606070085148,
     "user": {
      "displayName": "Saloni Bansal",
      "photoUrl": "",
      "userId": "02261793113701121216"
     },
     "user_tz": -330
    },
    "id": "kVMtClkdPHUd",
    "outputId": "2e89f3be-c534-4b0b-891d-d7c0270a68a4"
   },
   "outputs": [
    {
     "name": "stderr",
     "output_type": "stream",
     "text": [
      "INFO:fbprophet:Disabling yearly seasonality. Run prophet with yearly_seasonality=True to override this.\n",
      "INFO:fbprophet:Disabling daily seasonality. Run prophet with daily_seasonality=True to override this.\n"
     ]
    },
    {
     "data": {
      "text/html": [
       "<div>\n",
       "<style scoped>\n",
       "    .dataframe tbody tr th:only-of-type {\n",
       "        vertical-align: middle;\n",
       "    }\n",
       "\n",
       "    .dataframe tbody tr th {\n",
       "        vertical-align: top;\n",
       "    }\n",
       "\n",
       "    .dataframe thead th {\n",
       "        text-align: right;\n",
       "    }\n",
       "</style>\n",
       "<table border=\"1\" class=\"dataframe\">\n",
       "  <thead>\n",
       "    <tr style=\"text-align: right;\">\n",
       "      <th></th>\n",
       "      <th>ds</th>\n",
       "    </tr>\n",
       "  </thead>\n",
       "  <tbody>\n",
       "    <tr>\n",
       "      <th>390</th>\n",
       "      <td>2021-02-25</td>\n",
       "    </tr>\n",
       "    <tr>\n",
       "      <th>391</th>\n",
       "      <td>2021-02-26</td>\n",
       "    </tr>\n",
       "    <tr>\n",
       "      <th>392</th>\n",
       "      <td>2021-02-27</td>\n",
       "    </tr>\n",
       "    <tr>\n",
       "      <th>393</th>\n",
       "      <td>2021-02-28</td>\n",
       "    </tr>\n",
       "    <tr>\n",
       "      <th>394</th>\n",
       "      <td>2021-03-01</td>\n",
       "    </tr>\n",
       "  </tbody>\n",
       "</table>\n",
       "</div>"
      ],
      "text/plain": [
       "            ds\n",
       "390 2021-02-25\n",
       "391 2021-02-26\n",
       "392 2021-02-27\n",
       "393 2021-02-28\n",
       "394 2021-03-01"
      ]
     },
     "execution_count": 22,
     "metadata": {
      "tags": []
     },
     "output_type": "execute_result"
    }
   ],
   "source": [
    "c=Prophet(interval_width=0.95)\n",
    "c.fit(India_d)\n",
    "future = c.make_future_dataframe(periods=100)\n",
    "future.tail()"
   ]
  },
  {
   "cell_type": "markdown",
   "metadata": {},
   "source": [
    "# Forecasted New Deaths per day "
   ]
  },
  {
   "cell_type": "code",
   "execution_count": 23,
   "metadata": {
    "colab": {
     "base_uri": "https://localhost:8080/",
     "height": 204
    },
    "executionInfo": {
     "elapsed": 3644,
     "status": "ok",
     "timestamp": 1606070096501,
     "user": {
      "displayName": "Saloni Bansal",
      "photoUrl": "",
      "userId": "02261793113701121216"
     },
     "user_tz": -330
    },
    "id": "AKDtTrAKPKBz",
    "outputId": "8a023a7a-e7ee-4c65-ee88-001ca24a77c6"
   },
   "outputs": [
    {
     "data": {
      "text/html": [
       "<div>\n",
       "<style scoped>\n",
       "    .dataframe tbody tr th:only-of-type {\n",
       "        vertical-align: middle;\n",
       "    }\n",
       "\n",
       "    .dataframe tbody tr th {\n",
       "        vertical-align: top;\n",
       "    }\n",
       "\n",
       "    .dataframe thead th {\n",
       "        text-align: right;\n",
       "    }\n",
       "</style>\n",
       "<table border=\"1\" class=\"dataframe\">\n",
       "  <thead>\n",
       "    <tr style=\"text-align: right;\">\n",
       "      <th></th>\n",
       "      <th>ds</th>\n",
       "      <th>yhat</th>\n",
       "      <th>yhat_lower</th>\n",
       "      <th>yhat_upper</th>\n",
       "    </tr>\n",
       "  </thead>\n",
       "  <tbody>\n",
       "    <tr>\n",
       "      <th>390</th>\n",
       "      <td>2021-02-25</td>\n",
       "      <td>-535.663493</td>\n",
       "      <td>-1089.850060</td>\n",
       "      <td>28.024362</td>\n",
       "    </tr>\n",
       "    <tr>\n",
       "      <th>391</th>\n",
       "      <td>2021-02-26</td>\n",
       "      <td>-547.569418</td>\n",
       "      <td>-1085.160869</td>\n",
       "      <td>-16.147942</td>\n",
       "    </tr>\n",
       "    <tr>\n",
       "      <th>392</th>\n",
       "      <td>2021-02-27</td>\n",
       "      <td>-561.043694</td>\n",
       "      <td>-1100.619910</td>\n",
       "      <td>-9.888433</td>\n",
       "    </tr>\n",
       "    <tr>\n",
       "      <th>393</th>\n",
       "      <td>2021-02-28</td>\n",
       "      <td>-591.300474</td>\n",
       "      <td>-1151.746922</td>\n",
       "      <td>-34.630184</td>\n",
       "    </tr>\n",
       "    <tr>\n",
       "      <th>394</th>\n",
       "      <td>2021-03-01</td>\n",
       "      <td>-623.948509</td>\n",
       "      <td>-1174.703463</td>\n",
       "      <td>-82.999319</td>\n",
       "    </tr>\n",
       "  </tbody>\n",
       "</table>\n",
       "</div>"
      ],
      "text/plain": [
       "            ds        yhat   yhat_lower  yhat_upper\n",
       "390 2021-02-25 -535.663493 -1089.850060   28.024362\n",
       "391 2021-02-26 -547.569418 -1085.160869  -16.147942\n",
       "392 2021-02-27 -561.043694 -1100.619910   -9.888433\n",
       "393 2021-02-28 -591.300474 -1151.746922  -34.630184\n",
       "394 2021-03-01 -623.948509 -1174.703463  -82.999319"
      ]
     },
     "execution_count": 23,
     "metadata": {
      "tags": []
     },
     "output_type": "execute_result"
    }
   ],
   "source": [
    "forecasted_death = c.predict(future)\n",
    "forecasted_death[['ds','yhat','yhat_lower','yhat_upper']].tail()"
   ]
  },
  {
   "cell_type": "markdown",
   "metadata": {},
   "source": [
    "# Visualiszing Forecasted New Death cases till March 2021"
   ]
  },
  {
   "cell_type": "code",
   "execution_count": 24,
   "metadata": {
    "colab": {
     "base_uri": "https://localhost:8080/",
     "height": 441
    },
    "executionInfo": {
     "elapsed": 3388,
     "status": "ok",
     "timestamp": 1606070106011,
     "user": {
      "displayName": "Saloni Bansal",
      "photoUrl": "",
      "userId": "02261793113701121216"
     },
     "user_tz": -330
    },
    "id": "x9BXPRDZPMOs",
    "outputId": "bc03c338-d273-4c32-fe23-0acd24afe9d7"
   },
   "outputs": [
    {
     "data": {
      "image/png": "[encoded data removed]",
      "text/plain": [
       "<Figure size 720x432 with 1 Axes>"
      ]
     },
     "metadata": {
      "tags": []
     },
     "output_type": "display_data"
    }
   ],
   "source": [
    "confirmed_forecast_plot = c.plot(forecasted_death)"
   ]
  },
  {
   "cell_type": "markdown",
   "metadata": {},
   "source": [
    "# Visualizing Monthly and Weekly trend for New death case per day"
   ]
  },
  {
   "cell_type": "code",
   "execution_count": 25,
   "metadata": {
    "colab": {
     "base_uri": "https://localhost:8080/",
     "height": 441
    },
    "executionInfo": {
     "elapsed": 1858,
     "status": "ok",
     "timestamp": 1606070117591,
     "user": {
      "displayName": "Saloni Bansal",
      "photoUrl": "",
      "userId": "02261793113701121216"
     },
     "user_tz": -330
    },
    "id": "DcJHwG3vPOnJ",
    "outputId": "56c4a7b3-0ec5-4bdf-bdc6-f06f4c0d5942"
   },
   "outputs": [
    {
     "data": {
      "image/png": "[encoded data removed]",
      "text/plain": [
       "<Figure size 648x432 with 2 Axes>"
      ]
     },
     "metadata": {
      "tags": []
     },
     "output_type": "display_data"
    }
   ],
   "source": [
    "confirmed_forecast_plot = c.plot_components(forecasted_death)"
   ]
  },
  {
   "cell_type": "markdown",
   "metadata": {},
   "source": [
    "# Merging Forecasted Total case and New deaths per day till March 2021 "
   ]
  },
  {
   "cell_type": "code",
   "execution_count": 26,
   "metadata": {
    "executionInfo": {
     "elapsed": 1565,
     "status": "ok",
     "timestamp": 1606070127402,
     "user": {
      "displayName": "Saloni Bansal",
      "photoUrl": "",
      "userId": "02261793113701121216"
     },
     "user_tz": -330
    },
    "id": "TgiEbgGYPRzR"
   },
   "outputs": [],
   "source": [
    "Forecast = pd.merge(forecasted_case,forecasted_death,on='ds')"
   ]
  },
  {
   "cell_type": "code",
   "execution_count": 27,
   "metadata": {
    "executionInfo": {
     "elapsed": 1471,
     "status": "ok",
     "timestamp": 1606070137932,
     "user": {
      "displayName": "Saloni Bansal",
      "photoUrl": "",
      "userId": "02261793113701121216"
     },
     "user_tz": -330
    },
    "id": "dK15AliWPURv"
   },
   "outputs": [],
   "source": [
    "Forecast.to_csv ('Forecasted Cases and Deaths _output.csv', index = False, header=True)"
   ]
  },
  {
   "cell_type": "code",
   "execution_count": null,
   "metadata": {
    "id": "fQfPQh6zPW2V"
   },
   "outputs": [],
   "source": []
  }
 ],
 "metadata": {
  "colab": {
   "authorship_tag": "ABX9TyM1JhEfO31wjMojh5kCwXFa",
   "name": "Covid-19 EDA and TimeSeries Forecasting.ipynb",
   "provenance": []
  },
  "kernelspec": {
   "display_name": "Python 3",
   "language": "python",
   "name": "python3"
  },
  "language_info": {
   "codemirror_mode": {
    "name": "ipython",
    "version": 3
   },
   "file_extension": ".py",
   "mimetype": "text/x-python",
   "name": "python",
   "nbconvert_exporter": "python",
   "pygments_lexer": "ipython3",
   "version": "3.8.3"
  }
 },
 "nbformat": 4,
 "nbformat_minor": 1
}
